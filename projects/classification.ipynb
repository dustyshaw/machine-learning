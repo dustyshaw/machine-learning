{
 "cells": [
  {
   "cell_type": "markdown",
   "metadata": {},
   "source": [
    "# Project 2: Classification\n",
    "**Dusty Shaw**"
   ]
  },
  {
   "cell_type": "markdown",
   "metadata": {},
   "source": [
    "## Data Loading and Cleaning"
   ]
  },
  {
   "cell_type": "code",
   "execution_count": 2,
   "metadata": {},
   "outputs": [
    {
     "data": {
      "text/html": [
       "<div>\n",
       "<style scoped>\n",
       "    .dataframe tbody tr th:only-of-type {\n",
       "        vertical-align: middle;\n",
       "    }\n",
       "\n",
       "    .dataframe tbody tr th {\n",
       "        vertical-align: top;\n",
       "    }\n",
       "\n",
       "    .dataframe thead th {\n",
       "        text-align: right;\n",
       "    }\n",
       "</style>\n",
       "<table border=\"1\" class=\"dataframe\">\n",
       "  <thead>\n",
       "    <tr style=\"text-align: right;\">\n",
       "      <th></th>\n",
       "      <th>Age</th>\n",
       "      <th>Sex</th>\n",
       "      <th>BP</th>\n",
       "      <th>Cholesterol</th>\n",
       "      <th>Na_to_K</th>\n",
       "      <th>Drug</th>\n",
       "    </tr>\n",
       "  </thead>\n",
       "  <tbody>\n",
       "    <tr>\n",
       "      <th>0</th>\n",
       "      <td>23</td>\n",
       "      <td>F</td>\n",
       "      <td>HIGH</td>\n",
       "      <td>HIGH</td>\n",
       "      <td>25.355</td>\n",
       "      <td>DrugY</td>\n",
       "    </tr>\n",
       "    <tr>\n",
       "      <th>1</th>\n",
       "      <td>47</td>\n",
       "      <td>M</td>\n",
       "      <td>LOW</td>\n",
       "      <td>HIGH</td>\n",
       "      <td>13.093</td>\n",
       "      <td>drugC</td>\n",
       "    </tr>\n",
       "    <tr>\n",
       "      <th>2</th>\n",
       "      <td>47</td>\n",
       "      <td>M</td>\n",
       "      <td>LOW</td>\n",
       "      <td>HIGH</td>\n",
       "      <td>10.114</td>\n",
       "      <td>drugC</td>\n",
       "    </tr>\n",
       "    <tr>\n",
       "      <th>3</th>\n",
       "      <td>28</td>\n",
       "      <td>F</td>\n",
       "      <td>NORMAL</td>\n",
       "      <td>HIGH</td>\n",
       "      <td>7.798</td>\n",
       "      <td>drugX</td>\n",
       "    </tr>\n",
       "    <tr>\n",
       "      <th>4</th>\n",
       "      <td>61</td>\n",
       "      <td>F</td>\n",
       "      <td>LOW</td>\n",
       "      <td>HIGH</td>\n",
       "      <td>18.043</td>\n",
       "      <td>DrugY</td>\n",
       "    </tr>\n",
       "  </tbody>\n",
       "</table>\n",
       "</div>"
      ],
      "text/plain": [
       "   Age Sex      BP Cholesterol  Na_to_K   Drug\n",
       "0   23   F    HIGH        HIGH   25.355  DrugY\n",
       "1   47   M     LOW        HIGH   13.093  drugC\n",
       "2   47   M     LOW        HIGH   10.114  drugC\n",
       "3   28   F  NORMAL        HIGH    7.798  drugX\n",
       "4   61   F     LOW        HIGH   18.043  DrugY"
      ]
     },
     "execution_count": 2,
     "metadata": {},
     "output_type": "execute_result"
    }
   ],
   "source": [
    "# I have a Data folder in the root of my project\n",
    "import pandas as pd\n",
    "\n",
    "#// C:\\Users\\shust\\code\\_spring2025\\project-2-classification\\Data\\drug200.csv\n",
    "data = pd.read_csv(\"./Data/drug200.csv\")\n",
    "\n",
    "data['Drug'].unique()  # drug types: ['DrugY', 'drugC', 'drugX', 'drugA', 'drugB']\n",
    "\n",
    "\n",
    "\n",
    "data.isna().sum()  # no na variables\n",
    "\n",
    "data.describe() # 200 rows, two continuous vars (Age, Na_to_K)\n",
    "                # discrete vars: (Sex, BP, Cholesterol, Drug)\n",
    "\n",
    "data['BP'].unique() # BP types: ['HIGH', 'LOW', 'NORMAL']\n",
    "data['Sex'].unique() # Sex types: ['M', 'F']\n",
    "\n",
    "data.head()"
   ]
  },
  {
   "cell_type": "markdown",
   "metadata": {},
   "source": [
    "## Encoding categorical vars"
   ]
  },
  {
   "cell_type": "code",
   "execution_count": 3,
   "metadata": {},
   "outputs": [],
   "source": [
    "# mapping low:0, normal: 1, high: 2\n",
    "data['BP'].unique() # BP types: ['HIGH', 'LOW', 'NORMAL']\n",
    "\n",
    "\n",
    "bp_mapping = {'HIGH': 2, 'NORMAL': 1, 'LOW': 0}\n",
    "\n",
    "data['BP'] = data['BP'].map(bp_mapping)\n"
   ]
  },
  {
   "cell_type": "code",
   "execution_count": 4,
   "metadata": {},
   "outputs": [],
   "source": [
    "data['Cholesterol'].unique() # Chol types: ['HIGH', 'NORMAL']\n",
    "\n",
    "chol_mapping = {'HIGH': 1, 'NORMAL': 0}\n",
    "\n",
    "data['Cholesterol'] = data['Cholesterol'].map(chol_mapping)"
   ]
  },
  {
   "cell_type": "code",
   "execution_count": 5,
   "metadata": {},
   "outputs": [],
   "source": [
    "data['Sex'].unique() # Sex types: ['M', 'F']\n",
    "\n",
    "sex_mapping = {'M': 0, 'F': 1}\n",
    "\n",
    "data['Sex'] = data['Sex'].map(sex_mapping)"
   ]
  },
  {
   "cell_type": "code",
   "execution_count": 6,
   "metadata": {},
   "outputs": [
    {
     "data": {
      "text/html": [
       "<div>\n",
       "<style scoped>\n",
       "    .dataframe tbody tr th:only-of-type {\n",
       "        vertical-align: middle;\n",
       "    }\n",
       "\n",
       "    .dataframe tbody tr th {\n",
       "        vertical-align: top;\n",
       "    }\n",
       "\n",
       "    .dataframe thead th {\n",
       "        text-align: right;\n",
       "    }\n",
       "</style>\n",
       "<table border=\"1\" class=\"dataframe\">\n",
       "  <thead>\n",
       "    <tr style=\"text-align: right;\">\n",
       "      <th></th>\n",
       "      <th>Age</th>\n",
       "      <th>Sex</th>\n",
       "      <th>BP</th>\n",
       "      <th>Cholesterol</th>\n",
       "      <th>Na_to_K</th>\n",
       "      <th>Drug</th>\n",
       "    </tr>\n",
       "  </thead>\n",
       "  <tbody>\n",
       "    <tr>\n",
       "      <th>0</th>\n",
       "      <td>23</td>\n",
       "      <td>1</td>\n",
       "      <td>2</td>\n",
       "      <td>1</td>\n",
       "      <td>25.355</td>\n",
       "      <td>DrugY</td>\n",
       "    </tr>\n",
       "    <tr>\n",
       "      <th>1</th>\n",
       "      <td>47</td>\n",
       "      <td>0</td>\n",
       "      <td>0</td>\n",
       "      <td>1</td>\n",
       "      <td>13.093</td>\n",
       "      <td>drugC</td>\n",
       "    </tr>\n",
       "    <tr>\n",
       "      <th>2</th>\n",
       "      <td>47</td>\n",
       "      <td>0</td>\n",
       "      <td>0</td>\n",
       "      <td>1</td>\n",
       "      <td>10.114</td>\n",
       "      <td>drugC</td>\n",
       "    </tr>\n",
       "    <tr>\n",
       "      <th>3</th>\n",
       "      <td>28</td>\n",
       "      <td>1</td>\n",
       "      <td>1</td>\n",
       "      <td>1</td>\n",
       "      <td>7.798</td>\n",
       "      <td>drugX</td>\n",
       "    </tr>\n",
       "    <tr>\n",
       "      <th>4</th>\n",
       "      <td>61</td>\n",
       "      <td>1</td>\n",
       "      <td>0</td>\n",
       "      <td>1</td>\n",
       "      <td>18.043</td>\n",
       "      <td>DrugY</td>\n",
       "    </tr>\n",
       "  </tbody>\n",
       "</table>\n",
       "</div>"
      ],
      "text/plain": [
       "   Age  Sex  BP  Cholesterol  Na_to_K   Drug\n",
       "0   23    1   2            1   25.355  DrugY\n",
       "1   47    0   0            1   13.093  drugC\n",
       "2   47    0   0            1   10.114  drugC\n",
       "3   28    1   1            1    7.798  drugX\n",
       "4   61    1   0            1   18.043  DrugY"
      ]
     },
     "execution_count": 6,
     "metadata": {},
     "output_type": "execute_result"
    }
   ],
   "source": [
    "data.head()"
   ]
  },
  {
   "cell_type": "markdown",
   "metadata": {},
   "source": [
    "## EDA"
   ]
  },
  {
   "cell_type": "code",
   "execution_count": 7,
   "metadata": {},
   "outputs": [
    {
     "data": {
      "image/png": "[encoded data removed]",
      "text/plain": [
       "<Figure size 640x480 with 1 Axes>"
      ]
     },
     "metadata": {},
     "output_type": "display_data"
    }
   ],
   "source": [
    "import matplotlib.pyplot as plt\n",
    "import seaborn as sns\n",
    "\n",
    "sns.scatterplot(x=data['Age'], y=data['Na_to_K'], hue=data['Drug'], palette='Set1')\n",
    "\n",
    "plt.title('Age vs. Sodium to Potassium')\n",
    "plt.show()"
   ]
  },
  {
   "cell_type": "markdown",
   "metadata": {},
   "source": [
    "There doesn't really seem to be any correlation between age and the sodium_potassium column. We can also see that there are some pretty non-distinct areas where the drug types are. We could possibly create a separation from DrugY types and non-DrugY types that cuts off around 14 Na_to_K. However, non-drug types seems to be fairly scattered and mixed below the horizontal 14th line. \n",
    "\n",
    "We might also be able to create a separation, like in an SVC vertically after Age 50, separating drugA types and drugB types.\n",
    "\n",
    "However, there are other variables that might effect the drug types, which is hard to visualize in a 2d plane."
   ]
  },
  {
   "cell_type": "code",
   "execution_count": 8,
   "metadata": {},
   "outputs": [
    {
     "data": {
      "image/png": "[encoded data removed]",
      "text/plain": [
       "<Figure size 640x480 with 1 Axes>"
      ]
     },
     "metadata": {},
     "output_type": "display_data"
    }
   ],
   "source": [
    "plt.hist(x=data['Age'])\n",
    "plt.title('Age Distribution')\n",
    "plt.show()"
   ]
  },
  {
   "cell_type": "markdown",
   "metadata": {},
   "source": [
    "It seems like there was a good variety of ages in this test group, and there is a fairly even distribution of ages."
   ]
  },
  {
   "cell_type": "code",
   "execution_count": 9,
   "metadata": {},
   "outputs": [
    {
     "data": {
      "text/plain": [
       "Text(0.5, 1.0, 'Distribution of Drug Types')"
      ]
     },
     "execution_count": 9,
     "metadata": {},
     "output_type": "execute_result"
    },
    {
     "data": {
      "image/png": "[encoded data removed]",
      "text/plain": [
       "<Figure size 640x480 with 1 Axes>"
      ]
     },
     "metadata": {},
     "output_type": "display_data"
    }
   ],
   "source": [
    "sns.countplot(data['Drug'])\n",
    "plt.title(\"Distribution of Drug Types\")\n"
   ]
  },
  {
   "cell_type": "markdown",
   "metadata": {},
   "source": [
    "There are more DrugY than any other drug by far, with drugX coming in second place. This might effect our model. "
   ]
  },
  {
   "cell_type": "code",
   "execution_count": 10,
   "metadata": {},
   "outputs": [
    {
     "data": {
      "text/plain": [
       "Text(0.5, 1.0, 'Age vs Gender')"
      ]
     },
     "execution_count": 10,
     "metadata": {},
     "output_type": "execute_result"
    },
    {
     "data": {
      "image/png": "[encoded data removed]",
      "text/plain": [
       "<Figure size 640x480 with 1 Axes>"
      ]
     },
     "metadata": {},
     "output_type": "display_data"
    }
   ],
   "source": [
    "plt.subplot(1, 2, 1)\n",
    "sns.boxplot(x=data['Sex'], y=data['Age']) # M = 0, F = 1\n",
    "plt.title('Age vs Gender')"
   ]
  },
  {
   "cell_type": "markdown",
   "metadata": {},
   "source": [
    "Male entries are slightly older than females in this study, but the age range and averages are fairly close."
   ]
  },
  {
   "cell_type": "markdown",
   "metadata": {},
   "source": [
    "## Cross Validation"
   ]
  },
  {
   "cell_type": "code",
   "execution_count": 11,
   "metadata": {},
   "outputs": [],
   "source": [
    "# I do the cross validation within the models."
   ]
  },
  {
   "cell_type": "markdown",
   "metadata": {},
   "source": [
    "# Models"
   ]
  },
  {
   "cell_type": "markdown",
   "metadata": {},
   "source": [
    "## 1. k-Nearest Neighbors"
   ]
  },
  {
   "cell_type": "code",
   "execution_count": 12,
   "metadata": {},
   "outputs": [
    {
     "name": "stdout",
     "output_type": "stream",
     "text": [
      "              precision    recall  f1-score   support\n",
      "\n",
      "           0       0.60      0.86      0.71        28\n",
      "           1       1.00      0.25      0.40         8\n",
      "           2       0.67      0.40      0.50         5\n",
      "           3       0.33      0.33      0.33         3\n",
      "           4       0.58      0.44      0.50        16\n",
      "\n",
      "    accuracy                           0.60        60\n",
      "   macro avg       0.64      0.46      0.49        60\n",
      "weighted avg       0.64      0.60      0.57        60\n",
      "\n",
      "[[24  0  1  0  3]\n",
      " [ 6  2  0  0  0]\n",
      " [ 2  0  2  0  1]\n",
      " [ 1  0  0  1  1]\n",
      " [ 7  0  0  2  7]]\n"
     ]
    }
   ],
   "source": [
    "from sklearn.model_selection import train_test_split\n",
    "from sklearn.neighbors import KNeighborsClassifier\n",
    "from sklearn.preprocessing import StandardScaler, LabelEncoder\n",
    "from sklearn.metrics import accuracy_score\n",
    "\n",
    "X = data.drop(columns=['Drug']) \n",
    "y = data['Drug'] \n",
    "\n",
    "# -- make the 'Drug' column not strings\n",
    "label_encoder = LabelEncoder()\n",
    "y = label_encoder.fit_transform(y)\n",
    "\n",
    "\n",
    "X_train, X_test, y_train, y_test = train_test_split(X, y, test_size=0.3, random_state=32) # -- Cross validation\n",
    "\n",
    "scaler = StandardScaler()   # -- Scale variables before modeling\n",
    "X_train_scaled = scaler.fit_transform(X_train)\n",
    "X_test_scaled = scaler.transform(X_test)\n",
    "\n",
    "# -- use KNN model\n",
    "# k = sqrt(200) = 14.1 ~> 17\n",
    "k = 17\n",
    "kNN = KNeighborsClassifier(n_neighbors=k, p=3, metric='euclidean')\n",
    "\n",
    "kNN.fit(X_train_scaled, y_train)\n",
    "y_pred = kNN.predict(X_test_scaled)\n",
    "\n",
    "# -- describe metrics\n",
    "from sklearn.metrics import classification_report, confusion_matrix\n",
    "\n",
    "print(classification_report(y_test, y_pred))\n",
    "print(confusion_matrix(y_test, y_pred))\n"
   ]
  },
  {
   "cell_type": "markdown",
   "metadata": {},
   "source": [
    "This one did fairly well. However, if you fail to properly scale the variables before running the model. However, it only gets an accuracy of 60%, and there are a lot of misclassifications in the confusion matrix. \n",
    "\n",
    "I chose 17 as k because we have around 200 rows. This leads to about 14 after taking the square root. I then chose 17, because it was a prime number close to that which was not divisible by the number of drug types we had (5).\n",
    "\n",
    "However, adjusting k to be 19 increases accuracy by 65%. This means that giving the radius of the kNN neighbors algorithm more neighbor data points to analyze might increase the accuracy.  \n",
    "\n",
    "Any higher of a number might cause underfitting of the kNN algorithm. This means that we are being too lax with our classification 'radius' and are simplifying it too much. So I would probably choose 17 or 19 for this model.\n"
   ]
  },
  {
   "cell_type": "markdown",
   "metadata": {},
   "source": [
    "## 2. SVC"
   ]
  },
  {
   "cell_type": "code",
   "execution_count": 13,
   "metadata": {},
   "outputs": [
    {
     "name": "stdout",
     "output_type": "stream",
     "text": [
      "              precision    recall  f1-score   support\n",
      "\n",
      "           0       0.87      0.96      0.92        28\n",
      "           1       0.89      1.00      0.94         8\n",
      "           2       0.83      1.00      0.91         5\n",
      "           3       1.00      1.00      1.00         3\n",
      "           4       1.00      0.69      0.81        16\n",
      "\n",
      "    accuracy                           0.90        60\n",
      "   macro avg       0.92      0.93      0.92        60\n",
      "weighted avg       0.91      0.90      0.90        60\n",
      "\n",
      "[[27  0  1  0  0]\n",
      " [ 0  8  0  0  0]\n",
      " [ 0  0  5  0  0]\n",
      " [ 0  0  0  3  0]\n",
      " [ 4  1  0  0 11]]\n"
     ]
    },
    {
     "name": "stderr",
     "output_type": "stream",
     "text": [
      "C:\\Users\\shust\\AppData\\Local\\Packages\\PythonSoftwareFoundation.Python.3.12_qbz5n2kfra8p0\\LocalCache\\local-packages\\Python312\\site-packages\\sklearn\\svm\\_base.py:1249: ConvergenceWarning: Liblinear failed to converge, increase the number of iterations.\n",
      "  warnings.warn(\n"
     ]
    }
   ],
   "source": [
    "from sklearn.pipeline import Pipeline\n",
    "from sklearn.preprocessing import StandardScaler\n",
    "from sklearn.svm import LinearSVC \n",
    "\n",
    "X = data.drop(columns=['Drug'])\n",
    "y = data['Drug']\n",
    "\n",
    "label_encoder = LabelEncoder()\n",
    "y = label_encoder.fit_transform(y)\n",
    "\n",
    "X_train, X_test, y_train, y_test = train_test_split(X, y, test_size=0.3, random_state=32)\n",
    "\n",
    "svc_model = Pipeline([\n",
    "    ('scaler', StandardScaler()), \n",
    "    ('classifier', LinearSVC(C=10, loss='hinge'))\n",
    "])\n",
    "\n",
    "\n",
    "svc_model.fit(X_train, y_train)\n",
    "y_pred = svc_model.predict(X_test)\n",
    "\n",
    "from sklearn.metrics import classification_report, confusion_matrix\n",
    "\n",
    "print(classification_report(y_test, y_pred))\n",
    "print(confusion_matrix(y_test, y_pred))"
   ]
  },
  {
   "cell_type": "markdown",
   "metadata": {},
   "source": [
    "With this SVC model, you can enter in various values for c, the regularization parameter. A high c means you might get fewer misclassifications and have an overall smaller margin. \n",
    "\n",
    "Choosing a low c will give the model greater margins, which might too much of a simplification, and could give us less accuracy.  \n",
    "\n",
    "When modeling this, I chose various numbers for c, starting with 1, and going to 10, then 100.\n",
    "\n",
    "There was a great increase in accuracy from 1 to 10, but going from 10 to 100 had little effect. When c is too high, we then start to overfit on our training data, and tend to perform poorly when we actually use the testing set. You can see this when entering numbers like 1000 or 10000, dropping our accuracy to the mid 80% range.\n",
    "\n"
   ]
  },
  {
   "cell_type": "markdown",
   "metadata": {},
   "source": [
    "## 3. Random Forests"
   ]
  },
  {
   "cell_type": "code",
   "execution_count": 14,
   "metadata": {},
   "outputs": [
    {
     "name": "stdout",
     "output_type": "stream",
     "text": [
      "              precision    recall  f1-score   support\n",
      "\n",
      "           0       0.97      1.00      0.98        28\n",
      "           1       1.00      1.00      1.00         8\n",
      "           2       1.00      1.00      1.00         5\n",
      "           3       1.00      1.00      1.00         3\n",
      "           4       1.00      0.94      0.97        16\n",
      "\n",
      "    accuracy                           0.98        60\n",
      "   macro avg       0.99      0.99      0.99        60\n",
      "weighted avg       0.98      0.98      0.98        60\n",
      "\n",
      "[[28  0  0  0  0]\n",
      " [ 0  8  0  0  0]\n",
      " [ 0  0  5  0  0]\n",
      " [ 0  0  0  3  0]\n",
      " [ 1  0  0  0 15]]\n"
     ]
    }
   ],
   "source": [
    "from sklearn.ensemble import RandomForestClassifier\n",
    "\n",
    "scaler = StandardScaler()   # -- Scale variables before modeling\n",
    "X_train_scaled = scaler.fit_transform(X_train)\n",
    "X_test_scaled = scaler.transform(X_test)\n",
    "\n",
    "numberOfTreesInForest = 100\n",
    "clf = RandomForestClassifier(n_estimators=numberOfTreesInForest)\n",
    "clf.fit(X_train_scaled, y_train)\n",
    "\n",
    "y_pred = clf.predict(X_test_scaled)\n",
    "\n",
    "from sklearn.metrics import classification_report, confusion_matrix\n",
    "\n",
    "print(classification_report(y_test, y_pred))\n",
    "print(confusion_matrix(y_test, y_pred))"
   ]
  },
  {
   "cell_type": "markdown",
   "metadata": {},
   "source": [
    "Overall, the RandomForest classifier did a pretty good job at getting the drug types correct with an accuracy of 98%! This could be because we gave it 100 forests, meaning it had 100 decision trees made and increases the accuracy each time. \n",
    "\n",
    "However, just like with the SVCs, increasing the number of forests by a power of ten has diminishing returns in terms of accuracy. It doesn't really get much better, but stagnates at around 98%.\n",
    "\n",
    "Interestingly, choosing just 10 random forests can cause your model to spit out something different every time. This is because it isn't given enough small steps or iterations (like in a gradient descent) to refine each branch of the tree. So, we don't want to choose too low of a number of trees. \n",
    "\n",
    "I found that 100 trees seemed to work best, and produced the same result every time. This way, we aren't wasting computing power creating a thousand trees, but we still get the predictability and reliability of the model. \n",
    "\n",
    "Recall was great, being exactly 1.00. This might be a rounding error, but this means that the model got every true positive entry correct. "
   ]
  },
  {
   "cell_type": "markdown",
   "metadata": {},
   "source": [
    "# When you complete the models, write a brief summary of the performance for each model. Some questions you may want to consider:\n",
    "\n",
    "**Which model performed the best?**\n",
    "\n",
    "Random forest seems to perform best in terms of accuracy, precision, recal, and F1-score.\n",
    "\n",
    "**Which model took the most time to run? Which took the least time to run?**  \n",
    "\n",
    "Random forest also took the longest to run, especially when trying to create 1000 trees or even 10000+ trees. This is one of the downsides of runing random forests, is that they might take a long time to create all of those decision trees.\n",
    "\n",
    "**Which model was the easiest to code? Which model was the most challenging to code?**    \n",
    "\n",
    "I think they were all about the same to code, but for me, the kNN was the most difficult to visualize what was really going on. kNN is easy to understand in one dimension, but when you start to add dimensions, it is really difficult for me to picture what the model is doing to get the answers it does. \n",
    "\n",
    "I would want to consider the transparency of each model, meaning understanding what each step of the model is taking. In Nural networks for example, we don't really understand or can hand-model each step in between the input and output layer. Not understanding that means you might have a more difficult time changing and tweaking aspects of the model to increase performance metrics.\n"
   ]
  }
 ],
 "metadata": {
  "kernelspec": {
   "display_name": "Python 3",
   "language": "python",
   "name": "python3"
  },
  "language_info": {
   "codemirror_mode": {
    "name": "ipython",
    "version": 3
   },
   "file_extension": ".py",
   "mimetype": "text/x-python",
   "name": "python",
   "nbconvert_exporter": "python",
   "pygments_lexer": "ipython3",
   "version": "3.12.9"
  }
 },
 "nbformat": 4,
 "nbformat_minor": 2
}
