{
 "cells": [
  {
   "cell_type": "markdown",
   "metadata": {},
   "source": [
    "# Naive Bayes Object Oriented Programming ways  \n",
    "\n",
    "- 3 different facilities (R,S,T)"
   ]
  },
  {
   "cell_type": "code",
   "execution_count": 8,
   "metadata": {},
   "outputs": [],
   "source": [
    "import numpy as np\n",
    "import pandas as pd"
   ]
  },
  {
   "cell_type": "code",
   "execution_count": 9,
   "metadata": {},
   "outputs": [],
   "source": [
    "facility = ['R', 'S', 'T']\n",
    "cars_produced = [180, 145, 225]\n",
    "defective_windshields = [0.05, 0.07, 0.06] # percentage of defective windshields at each facility"
   ]
  },
  {
   "cell_type": "code",
   "execution_count": 10,
   "metadata": {},
   "outputs": [
    {
     "name": "stdout",
     "output_type": "stream",
     "text": [
      "R    0.016364\n",
      "S    0.018455\n",
      "T    0.024545\n",
      "dtype: float64 \n",
      "\n",
      "T    0.024545\n",
      "dtype: float64\n"
     ]
    }
   ],
   "source": [
    "class NaiveBayes():\n",
    "\n",
    "    # facility, cars produced, defective windshields\n",
    "    def fit_predict(self, f, cp, dw):\n",
    "        self.probabilities = pd.Series(index=f) \n",
    "        for facility, produce, windshield in zip(f, cp, dw):\n",
    "            # prob(facility | defective) = prob(defective | facility) * prob(produced at facility) / prob(defective)\n",
    "            # prob(defective) is going to be the same for every single case,so we don't really need to calculate that. Not dependent on facility\n",
    "            self.probabilities[facility] = windshield * (produce / sum(cp))\n",
    "        print(self.probabilities ,\"\\n\")\n",
    "        return self.probabilities[self.probabilities == self.probabilities.max()]\n",
    "\n",
    "\n",
    "b = NaiveBayes()\n",
    "\n",
    "print(b.fit_predict(facility, cars_produced, defective_windshields))\n",
    "        \n",
    "        "
   ]
  }
 ],
 "metadata": {
  "kernelspec": {
   "display_name": "Python 3",
   "language": "python",
   "name": "python3"
  },
  "language_info": {
   "codemirror_mode": {
    "name": "ipython",
    "version": 3
   },
   "file_extension": ".py",
   "mimetype": "text/x-python",
   "name": "python",
   "nbconvert_exporter": "python",
   "pygments_lexer": "ipython3",
   "version": "3.12.8"
  }
 },
 "nbformat": 4,
 "nbformat_minor": 2
}
