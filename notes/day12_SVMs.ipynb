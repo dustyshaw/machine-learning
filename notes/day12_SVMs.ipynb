{
 "cells": [
  {
   "cell_type": "markdown",
   "metadata": {},
   "source": [
    "# SVM  \n",
    "\n",
    "Separators in 2d data is 1d.  In 3d data, its a 2d plane. \n",
    "\n",
    "Separators are called Hyperplanes. \n",
    "\n",
    "create a new function that adds a dimension.  So it would be 2d line that we separate with a 1d line (straight line). Anything above the straight line is bad, below is good. Then superempose that 2d line to our 1d data. \n",
    "\n",
    "The more dimensions you have, the harder it will be. \n",
    "\n",
    "## The kernal trick:\n",
    "**Makes doing higher dimensions easier**\n",
    "\n",
    "Multi-linear regression: bias + weight(var) + weight1(var1) + weight2(var2) + ... \n",
    "\n",
    "```\n",
    "y = [bias, weight, weight1, weight2] * [var1,\n",
    "                                        var2\n",
    "                                        var3\n",
    "                                        ...]\n",
    "``` \n",
    "\n",
    "\n",
    "### Mercers theorem  \n",
    "\n",
    "If a particular function $k(a,b)$ respects theses conditions,   \n",
    "    1. $k$ is continuous  \n",
    "    2. $k$ shows simitry where $k(a,b) = k(b,a)$  \n",
    "    3. $k$ is definitive where the transpose stuff is non negative  \n",
    "then there exists a function $\\phi(a,b)$ that maps $a$ and $b$ into another space such that $K(a,b)=f(a^T) f(b)$ \n",
    "\n",
    "\n",
    "Compares every attribute of my data with the other attributes of the data. \n",
    "\n",
    "\n",
    "$\\phi (\\bar{x}) = \\bar{x} $\n",
    "\n",
    "Let's do a two degree polynomial. \n",
    "\n",
    "$ \\phi (\\bar{x}) = \\phi(x_1, x_2) = (x_1, x_2, x_1 * x_2, x_2 * x_1, x_1^2, x_2^2)$\n",
    "\n",
    "in n-dimensions, it will look like...\n",
    "\n",
    "$$ K(\\bar{a},\\bar{b}) = ( \\gamma  a^T*b + r )^d $$\n",
    "\n",
    "\n",
    "\n",
    "## RBF Kernel  \n",
    "\n",
    "The phi function, whatever it is, is infinetely dimensional.  But we have a kernel for it...\n",
    "\n",
    "$$ K (a,b) = e^{-\\gamma ||a - b||^2} $$\n",
    "\n",
    "## Sigmoid  \n",
    "$$ K (a,b) = tanh(\\gamma a^T*b + r) $$\n"
   ]
  },
  {
   "cell_type": "code",
   "execution_count": null,
   "metadata": {
    "vscode": {
     "languageId": "plaintext"
    }
   },
   "outputs": [],
   "source": []
  }
 ],
 "metadata": {
  "language_info": {
   "name": "python"
  }
 },
 "nbformat": 4,
 "nbformat_minor": 2
}
