{
 "cells": [
  {
   "cell_type": "markdown",
   "metadata": {},
   "source": [
    "# K-Nearest Neighbors  \n",
    "\n",
    "- identify the new data point within your set \n",
    "- Find the k nearest points from your data set\n",
    "- count the number in each category\n",
    "- select the highest frequenting feature and that is your data points feature. \n",
    "\n",
    "## What should I pick for the value of k?  \n",
    "- How large hsould my margin be?\n",
    "- Odd - avoid ties   (also not a multiple of the number of categories you have lol)\n",
    "- k = sqrt(n)\n",
    "- make k the nearest odd integer to square root of n      \n"
   ]
  },
  {
   "cell_type": "code",
   "execution_count": null,
   "metadata": {
    "vscode": {
     "languageId": "plaintext"
    }
   },
   "outputs": [],
   "source": []
  }
 ],
 "metadata": {
  "language_info": {
   "name": "python"
  }
 },
 "nbformat": 4,
 "nbformat_minor": 2
}
