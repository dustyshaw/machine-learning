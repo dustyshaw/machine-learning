{
 "cells": [
  {
   "cell_type": "markdown",
   "metadata": {},
   "source": [
    "# Day 1\n",
    "**January 8, 2025**\n",
    "\n",
    "Data Science: the study of how to create efficient algorithms to collect, analyze, and draw conclusions from data  \n",
    "\n",
    "Data Science Foundations: How to collect, clean, modify, and graph data  \n",
    "\n",
    "Data Mining: Handling large amounts of data  \n",
    "\n",
    "Machine Learning: Drawing conclusions from data using models  \n",
    "\n",
    "1. The data Science Process  \n",
    "2. Tico Bray - Collected large amounts of star data  \n",
    "3. Kepler - analyzed  \n",
    "4. Newton - create general model  \n",
    "\n",
    "Pi Model  \n",
    "\n",
    "\n",
    "Machine Learnng: Modeling and drawing conclusions from the data\n",
    "- Build Models from Data\n",
    "- Improve models as data is added\n",
    "- Make predictions\n",
    "- Linear Algebra\n",
    "- Optimizations from calc\n",
    "- Statistics!\n",
    "\n",
    "Goals \n",
    "An algorithm that can be used in future scenarios\n",
    "- Accurate and Fast\n",
    "- General\n",
    "- Interpretablility (do we understand it?)\n",
    "    \n",
    "Machine Learning Process\n",
    "Data Pre-Processing\n",
    "Obtaining and loading data. Cleaning data, one hot encoding, missing values, etc…\n",
    "Graphing data\n",
    "Splitting data into training and testing\n",
    "Modeling\n",
    "Building and Training models\n",
    "Make predictions from models\n",
    "Evaluating\n",
    "Calculate performance\n",
    "\n",
    "\n",
    "EDA\n",
    "\n",
    "df.info()\n",
    "\n",
    "df.describe()\n",
    "\n",
    "sns.boxplot(datadf, x=’data’)\n",
    "\n",
    "plt.scatter(df[‘data’], df[‘target])\n",
    "\n"
   ]
  }
 ],
 "metadata": {
  "kernelspec": {
   "display_name": "Python 3",
   "language": "python",
   "name": "python3"
  },
  "language_info": {
   "codemirror_mode": {
    "name": "ipython",
    "version": 3
   },
   "file_extension": ".py",
   "mimetype": "text/x-python",
   "name": "python",
   "nbconvert_exporter": "python",
   "pygments_lexer": "ipython3",
   "version": "3.12.8"
  }
 },
 "nbformat": 4,
 "nbformat_minor": 2
}
