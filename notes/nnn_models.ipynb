{
 "cells": [
  {
   "cell_type": "markdown",
   "metadata": {},
   "source": [
    "1. Feed forward\n",
    "\n",
    "big then goes small\n",
    "\n",
    "\n",
    "2. Complex models\n",
    "\n",
    "big layers then input goes directly towards middle layers.  \n",
    "\n",
    "\n",
    "3.  Autoencoders   \n",
    "\n",
    "start big then small then go back to big  \n",
    "\n",
    "input > encoder network > latent space > decoder network > output layer\n"
   ]
  },
  {
   "cell_type": "markdown",
   "metadata": {},
   "source": [
    "# Convolutional Nueral Networks (CNN)"
   ]
  },
  {
   "cell_type": "markdown",
   "metadata": {},
   "source": [
    "**problem** when the convolutional layer isn't the same size as the original image, you can add padidng (1s or 0s)\n",
    "\n",
    "**pooling** is a type of convolutional layer that is used in combination\n",
    "    - similar to a convolution layer\n",
    "    - not weighted\n",
    "    - simply uses an aggregation function\n",
    "        - can take max, min, avg, median"
   ]
  },
  {
   "cell_type": "markdown",
   "metadata": {},
   "source": [
    "# Recurrent NN (RNN)\n",
    "\n",
    "- has some weights going to the next layer and also going to itself\n",
    "\n",
    "- used to make models of stuff that happened in the past  \n",
    "- create time delays in the network  \n",
    "- LSTM (long short term memory) networks\n",
    "- Large Language Models\n"
   ]
  }
 ],
 "metadata": {
  "language_info": {
   "name": "python"
  }
 },
 "nbformat": 4,
 "nbformat_minor": 2
}
