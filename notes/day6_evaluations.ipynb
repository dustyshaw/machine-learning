{
 "cells": [
  {
   "cell_type": "markdown",
   "metadata": {},
   "source": [
    "# Categorical Evaluations  \n",
    "\n",
    "- Accuracy: the fraction of correct predictions  \n",
    "\n",
    "$$\n",
    "\\frac{num correct}{num predicted}\n",
    "$$\n",
    "\n",
    "- the bigger your data set, the more you're getting wrong, so the accuracy doesn't really scale very well. \n",
    "\n",
    "- Recall: find all relevant cases. How many did I correctly predict?\n",
    "\n",
    "$$\n",
    "recall = \\frac{truepos}{truepos + falseneg}\n",
    "$$\n",
    "\n",
    "falseneg = It should have been positive, but I gave it a negative.  \n",
    "\n",
    "$$\n",
    "precision = \\frac{truepos}{truepos + falsepos}\n",
    "$$\n",
    "\n",
    "- F1 score: essentially the average between recall and precision.  \n",
    "$$\n",
    "F_1 = 2 * \\frac{precision * recall}{precision + recall}\n",
    "$$"
   ]
  }
 ],
 "metadata": {
  "language_info": {
   "name": "python"
  }
 },
 "nbformat": 4,
 "nbformat_minor": 2
}
