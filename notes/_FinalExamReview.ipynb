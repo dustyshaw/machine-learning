{
 "cells": [
  {
   "cell_type": "markdown",
   "id": "b24636e8",
   "metadata": {},
   "source": [
    "# Final Exam Review\n",
    "\n",
    "Class starts with him asking us for questions."
   ]
  },
  {
   "cell_type": "markdown",
   "id": "58f98e19",
   "metadata": {},
   "source": [
    "## Logistic Regressions\n",
    "\n",
    "We start with this equation here:\n",
    "$$ y = b_0 + b_1 x $$\n",
    "\n",
    "However, we turn this basic equation into a probability:  \n",
    "$$ P = \\frac{1}{1 + e^{-(b_0 + b_1x)}}  $$\n",
    "\n",
    "By turning it into a probability, it is now a Sigmoid function.   \n",
    "The sigmoid can then graph the probability of each point.  \n",
    "Now, instead of trying to predict and exact value, you predict the probability of it being in one group or not.  \n",
    "\n",
    "To make Logistic Regressions more performant, we do a **Gradient Descent** on it. With the gradient descent, we nudge the weights $b_0$ and $b_1$ a little to see if the error goes up or down until it settles.  \n",
    "\n",
    "### Multi-Linear Regression  \n",
    "Same thing, except with more parameters. \n",
    "$$ P = \\frac{1}{1 + e^{-(b_0 + b_1x + b_2 x_2 + b_3 x_3 ...)}}  $$\n",
    "\n",
    "```\n",
    "from sklearn.linear_model import LogisticRegression\n",
    "\n",
    "log_reg = LogisticRegression()\n",
    "\n",
    "log_reg.fit(x.reshape(-1, 1), y)\n",
    "```\n",
    "\n"
   ]
  },
  {
   "cell_type": "markdown",
   "id": "f5e3ab70",
   "metadata": {},
   "source": [
    "# SVC's  \n",
    "Use lines that increase in margin and check if each dot is on the right side. \n",
    "\n",
    "Support Vector Machines add more dimensions to the data so you can seperate them in better ways (ex. like a bullseye). Use the Kernel Trick and create hyperplanes to extrude the 2d data into a 3d shape and find a plane that seperates the data. "
   ]
  },
  {
   "cell_type": "markdown",
   "id": "c0455d34",
   "metadata": {},
   "source": [
    "# Topics\n",
    "\n",
    "* The Machine Learning landscape \n",
    "    * Types of machine learning (supervised, unsupervised, online, instance-based and model-based)\n",
    "    * Diffent models (where all of our models fit in the machine learning landscape)\n",
    "* EDA (Exploratory Data Analysis) - Get to know the data, and ask better questions about the data, and gives us insights into what variables influence the data more\n",
    "    * Graphing\n",
    "* Preprocessing\n",
    "    * Cleaning the data\n",
    "        * Handle missing data\n",
    "        * data wrangling\n",
    "    * Feature Scaling\n",
    "        * Normalization(Min-Max) 0-1\n",
    "        * Standardization -1 to 1\n",
    "    * Encoding categorical variables to be numbers\n",
    "        * one-hot (make a column for each category with a value of either 0 or 1)\n",
    "        * ordinal (make a specific order for each matching category)\n",
    "    * Cross-Validation (split data into train-test-split)\n",
    "        * make sure the model works on data that it wasn't trained on\n",
    "        * extrapolation is when you use a model that was not in the training data (bad)\n",
    "        * interpolation is when you use the model to predict a value within the training data \n",
    "* (Piping)\n",
    "\n",
    "\n",
    "* Regression Models (supervised)\n",
    "    * Linear Regression\n",
    "    * Multilinear Regression\n",
    "    * Polynomial regression\n",
    "\n",
    "* Classification Models (supervised but discrete)\n",
    "    * knn\n",
    "    * decision trees\n",
    "    * svc and svms\n",
    "    * random forests\n",
    "    * ensemble learning (decision trees)\n",
    "    * NN\n",
    "        * ANN, DNN, CNN, RNN, GAN, ...\n",
    "    * log reg\n",
    "    \n",
    "* Clustering Models (Unsupervised but discrete)\n",
    "    * kMenas\n",
    "    * DbScan\n",
    "    * Gaussian Mixture Models\n",
    "    * Hierarchical Clustering\n",
    "\n",
    "* Dimensionality Reduction (unsupervised)\n",
    "    * PCA principle comp analysis"
   ]
  },
  {
   "cell_type": "markdown",
   "id": "21928ffd",
   "metadata": {},
   "source": [
    "    "
   ]
  }
 ],
 "metadata": {
  "language_info": {
   "name": "python"
  }
 },
 "nbformat": 4,
 "nbformat_minor": 5
}
