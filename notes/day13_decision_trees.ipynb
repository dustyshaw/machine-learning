{
 "cells": [
  {
   "cell_type": "markdown",
   "metadata": {},
   "source": [
    "# Decision Trees  \n",
    "_A discrete, supervised, classification model._  \n",
    "\n",
    "Nested if statements to separate data into categories.  \n",
    "\n",
    "Decision trees can be used for classification or regression (similar to support vector classifiers).\n",
    "\n",
    "- Classification: separate, or branch, the data into the categories based on the if statement. If we take a value and it's less than or greater than the threshold, we classify it into a group. \n",
    "- Regression: Create boundaries and assign a value to the data based on which boundaries surround it. If a data point sits within a particular range or interval, and estimates the value based on other values in that range.   \n",
    "\n",
    "\n",
    "## Parts of a Tree  \n",
    "1. **Node**: Any point where a decision needs to be made. The question part. (Ex. Has legs?)\n",
    "2. **Edge**: A possible outcome of each node, leading to the next node.  (Ex. \"yes\" or \"no\")\n",
    "3. **Root**: The first node. The very first question you ask. (Ex. \"Is alive?\")\n",
    "4. **Leaves**: The end of each branch. Predict the outcome. (Ex. Dog)\n",
    "\n"
   ]
  },
  {
   "cell_type": "markdown",
   "metadata": {},
   "source": [
    "# Example"
   ]
  },
  {
   "cell_type": "code",
<<<<<<< HEAD
   "execution_count": 78,
=======
   "execution_count": 25,
>>>>>>> 4bccad4ce200af4e5675ccdfc8f9f0a8648d4f10
   "metadata": {},
   "outputs": [
    {
     "ename": "ModuleNotFoundError",
     "evalue": "No module named 'seaborn'",
     "output_type": "error",
     "traceback": [
      "\u001b[1;31m---------------------------------------------------------------------------\u001b[0m",
      "\u001b[1;31mModuleNotFoundError\u001b[0m                       Traceback (most recent call last)",
      "Cell \u001b[1;32mIn[25], line 4\u001b[0m\n\u001b[0;32m      2\u001b[0m \u001b[38;5;28;01mimport\u001b[39;00m \u001b[38;5;21;01mpandas\u001b[39;00m \u001b[38;5;28;01mas\u001b[39;00m \u001b[38;5;21;01mpd\u001b[39;00m\n\u001b[0;32m      3\u001b[0m \u001b[38;5;28;01mimport\u001b[39;00m \u001b[38;5;21;01mmatplotlib\u001b[39;00m\u001b[38;5;21;01m.\u001b[39;00m\u001b[38;5;21;01mpyplot\u001b[39;00m \u001b[38;5;28;01mas\u001b[39;00m \u001b[38;5;21;01mplt\u001b[39;00m\n\u001b[1;32m----> 4\u001b[0m \u001b[38;5;28;01mimport\u001b[39;00m \u001b[38;5;21;01mseaborn\u001b[39;00m \u001b[38;5;28;01mas\u001b[39;00m \u001b[38;5;21;01msns\u001b[39;00m\n\u001b[0;32m      5\u001b[0m \u001b[38;5;28;01mfrom\u001b[39;00m \u001b[38;5;21;01msklearn\u001b[39;00m\u001b[38;5;21;01m.\u001b[39;00m\u001b[38;5;21;01mdatasets\u001b[39;00m \u001b[38;5;28;01mimport\u001b[39;00m load_iris\n",
      "\u001b[1;31mModuleNotFoundError\u001b[0m: No module named 'seaborn'"
     ]
    }
   ],
   "source": [
    "import numpy as np\n",
    "import pandas as pd\n",
    "import matplotlib.pyplot as plt\n",
    "import seaborn as sns\n",
    "from sklearn.datasets import load_iris"
   ]
  },
  {
   "cell_type": "code",
   "execution_count": 79,
   "metadata": {},
   "outputs": [],
   "source": [
    "iris_data = load_iris()\n"
   ]
  },
  {
   "cell_type": "code",
<<<<<<< HEAD
   "execution_count": 80,
=======
   "execution_count": null,
>>>>>>> 4bccad4ce200af4e5675ccdfc8f9f0a8648d4f10
   "metadata": {},
   "outputs": [
    {
     "data": {
      "text/html": [
       "<div>\n",
       "<style scoped>\n",
       "    .dataframe tbody tr th:only-of-type {\n",
       "        vertical-align: middle;\n",
       "    }\n",
       "\n",
       "    .dataframe tbody tr th {\n",
       "        vertical-align: top;\n",
       "    }\n",
       "\n",
       "    .dataframe thead th {\n",
       "        text-align: right;\n",
       "    }\n",
       "</style>\n",
       "<table border=\"1\" class=\"dataframe\">\n",
       "  <thead>\n",
       "    <tr style=\"text-align: right;\">\n",
       "      <th></th>\n",
       "      <th>sepal length (cm)</th>\n",
       "      <th>sepal width (cm)</th>\n",
       "      <th>petal length (cm)</th>\n",
       "      <th>petal width (cm)</th>\n",
       "      <th>species</th>\n",
       "    </tr>\n",
       "  </thead>\n",
       "  <tbody>\n",
       "    <tr>\n",
       "      <th>0</th>\n",
       "      <td>5.1</td>\n",
       "      <td>3.5</td>\n",
       "      <td>1.4</td>\n",
       "      <td>0.2</td>\n",
       "      <td>setosa</td>\n",
       "    </tr>\n",
       "    <tr>\n",
       "      <th>1</th>\n",
       "      <td>4.9</td>\n",
       "      <td>3.0</td>\n",
       "      <td>1.4</td>\n",
       "      <td>0.2</td>\n",
       "      <td>setosa</td>\n",
       "    </tr>\n",
       "    <tr>\n",
       "      <th>2</th>\n",
       "      <td>4.7</td>\n",
       "      <td>3.2</td>\n",
       "      <td>1.3</td>\n",
       "      <td>0.2</td>\n",
       "      <td>setosa</td>\n",
       "    </tr>\n",
       "    <tr>\n",
       "      <th>3</th>\n",
       "      <td>4.6</td>\n",
       "      <td>3.1</td>\n",
       "      <td>1.5</td>\n",
       "      <td>0.2</td>\n",
       "      <td>setosa</td>\n",
       "    </tr>\n",
       "    <tr>\n",
       "      <th>4</th>\n",
       "      <td>5.0</td>\n",
       "      <td>3.6</td>\n",
       "      <td>1.4</td>\n",
       "      <td>0.2</td>\n",
       "      <td>setosa</td>\n",
       "    </tr>\n",
       "    <tr>\n",
       "      <th>...</th>\n",
       "      <td>...</td>\n",
       "      <td>...</td>\n",
       "      <td>...</td>\n",
       "      <td>...</td>\n",
       "      <td>...</td>\n",
       "    </tr>\n",
       "    <tr>\n",
       "      <th>145</th>\n",
       "      <td>6.7</td>\n",
       "      <td>3.0</td>\n",
       "      <td>5.2</td>\n",
       "      <td>2.3</td>\n",
       "      <td>virginica</td>\n",
       "    </tr>\n",
       "    <tr>\n",
       "      <th>146</th>\n",
       "      <td>6.3</td>\n",
       "      <td>2.5</td>\n",
       "      <td>5.0</td>\n",
       "      <td>1.9</td>\n",
       "      <td>virginica</td>\n",
       "    </tr>\n",
       "    <tr>\n",
       "      <th>147</th>\n",
       "      <td>6.5</td>\n",
       "      <td>3.0</td>\n",
       "      <td>5.2</td>\n",
       "      <td>2.0</td>\n",
       "      <td>virginica</td>\n",
       "    </tr>\n",
       "    <tr>\n",
       "      <th>148</th>\n",
       "      <td>6.2</td>\n",
       "      <td>3.4</td>\n",
       "      <td>5.4</td>\n",
       "      <td>2.3</td>\n",
       "      <td>virginica</td>\n",
       "    </tr>\n",
       "    <tr>\n",
       "      <th>149</th>\n",
       "      <td>5.9</td>\n",
       "      <td>3.0</td>\n",
       "      <td>5.1</td>\n",
       "      <td>1.8</td>\n",
       "      <td>virginica</td>\n",
       "    </tr>\n",
       "  </tbody>\n",
       "</table>\n",
       "<p>150 rows × 5 columns</p>\n",
       "</div>"
      ],
      "text/plain": [
       "     sepal length (cm)  sepal width (cm)  ...  petal width (cm)    species\n",
       "0                  5.1               3.5  ...               0.2     setosa\n",
       "1                  4.9               3.0  ...               0.2     setosa\n",
       "2                  4.7               3.2  ...               0.2     setosa\n",
       "3                  4.6               3.1  ...               0.2     setosa\n",
       "4                  5.0               3.6  ...               0.2     setosa\n",
       "..                 ...               ...  ...               ...        ...\n",
       "145                6.7               3.0  ...               2.3  virginica\n",
       "146                6.3               2.5  ...               1.9  virginica\n",
       "147                6.5               3.0  ...               2.0  virginica\n",
       "148                6.2               3.4  ...               2.3  virginica\n",
       "149                5.9               3.0  ...               1.8  virginica\n",
       "\n",
       "[150 rows x 5 columns]"
      ]
     },
     "metadata": {},
     "output_type": "display_data"
    }
   ],
   "source": [
    "# use pandas and Seaborn to plot the data\n",
    "iris = pd.DataFrame(data=iris_data.data, columns=iris_data.feature_names)\n",
    "\n",
    "# makes the species column the actual name of the species\n",
    "iris['species'] = pd.Series(iris_data.target).apply(lambda x: iris_data.target_names[x])\n",
    "\n",
    "display(iris)"
   ]
  },
  {
   "cell_type": "code",
   "execution_count": 81,
   "metadata": {},
   "outputs": [
    {
     "data": {
      "text/plain": [
       "[<matplotlib.lines.Line2D at 0x17e43f08e00>]"
      ]
     },
     "execution_count": 81,
     "metadata": {},
     "output_type": "execute_result"
    },
    {
     "data": {
      "image/png": "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",
      "text/plain": [
       "<Figure size 1400x500 with 2 Axes>"
      ]
     },
     "metadata": {},
     "output_type": "display_data"
    }
   ],
   "source": [
    "fig, ax = plt.subplots(1,2,figsize=(14,5))\n",
    "sns.scatterplot(data=iris, x='sepal length (cm)', y='sepal width (cm)', hue='species', ax=ax[0])\n",
    "sns.scatterplot(data=iris, x='petal length (cm)', y='petal width (cm)', hue='species', ax=ax[1])\n",
    "\n",
    "\n",
    "\n",
    "# if we look at these graphs, we can try to separate the species based on petal lenght and petal width since there are some clear separations there. \n",
    "# first good question to ask would be if petal length is less than 2.5\n",
    "\n",
    "plt.plot([2.5, 2.5],[0, 2.5], color='k', linestyle=\"--\")\n",
    "plt.legend()\n",
    "\n",
    "# if petal length < 2.5 , then Setosa! (first leaf)\n",
    "\n",
    "\n",
    "# Maybe if the petal width is greater than 1.75, then virginica (second leaf)\n",
    "plt.plot([2.5, 7],[1.75, 1.75], color='k', linestyle=\"-.\")\n",
    "\n",
    "# If we add another, then we can determine better.\n",
    "# if petal length > 5, then verginica\n",
    "# if less, then versicolor\n",
    "plt.plot([5, 5],[0, 1.75], color='k', linestyle=\":\")\n",
    "\n",
    "# leaves us with 2-3 missclassifications\n",
    "\n"
   ]
  },
  {
   "cell_type": "markdown",
   "metadata": {},
   "source": [
    "# Where do we make the split?  \n",
    "A few measures that help the model determine where the split should be:  \n",
    "- Gini index\n",
    "- Entropy  \n",
    "- Information Gain\n"
   ]
  },
  {
   "cell_type": "markdown",
   "metadata": {},
   "source": [
    "\n",
    "## Gini Index  \n",
    "\n",
    "$P_{ik}$ = Percentage of each classification (k) at the (ith) node. What percentage was classified yes or no at a particular node.\n",
    "\n",
    "$$P_{ik} = \\frac{n_k}{n_i}$$\n",
    "\n",
    "Ex. At the green node, value = [0, 49, 5], [setosa, versicolog, virginica], so $n_i = 54$,$p_{i0} = 0$, $p_{i1} = \\frac{49}{54}$ and $p_{i2} = \\frac{5}{54}$\n",
    "\n",
    "To make a good split, we can evaluate it by the percentage of classifications. A classification of [50, 0, 0] would be a perfect split. \n",
    "\n",
    "Now we add them up. \n",
    "\n",
    "\n",
    "$$ \\sum P_{ik} = \\sum \\frac{n_k}{n_i}^2 $$\n",
    "\n",
    "Ex. $0 + \\frac{49}{54}^2 + \\frac{5}{54}^2 = 0.834$  \n",
    "Ex2. $0 + \\frac{50}{50}^2 + 0 = 1$  \n",
    "\n",
    "We want the flipped index so 0 means no error and 1 means lots of error, So we take 1 - the percent.\n",
    "\n",
    "<center><h3>Gini Index for i'th node</h3></center>  \n",
    "\n",
    "\n",
    "$$ G_{i} = 1 - \\sum \\frac{n_k}{n_i}^2 $$\n",
    "\n",
    "Gini index can tell us if we need to make a new split or not. For example, if the Gini index is greater than 0.1, then we should do another split."
   ]
  },
  {
   "cell_type": "code",
   "execution_count": 82,
   "metadata": {},
   "outputs": [
    {
     "name": "stdout",
     "output_type": "stream",
     "text": [
      "0.6666666666666665\n",
      "0.0\n",
      "0.5\n",
      "0.1680384087791495\n",
      "\n",
      "\n",
      "\n",
      "0.040798611111111174\n",
      "0.4444444444444444\n"
     ]
    }
   ],
   "source": [
    "# some array of values like [0, 49, 5]\n",
    "def gini(x):\n",
    "    result = 1\n",
    "    for val in x:\n",
    "        result -= (val / sum(x)) ** 2\n",
    "    return result\n",
    "        \n",
    "print(gini([50, 50, 50])) # greater than 0.75, so we need to split again after this node\n",
    "\n",
    "print(gini([50, 0, 0])) # less than 0.75, so it's a leaf\n",
    "\n",
    "print(gini([0, 50, 50])) # greater than 0.75, so we need to split again\n",
    "\n",
    "print(gini([0, 49, 5])) # greater than 0.75, so we need to split again\n",
    "\n",
    "print(\"\\n\\n\")\n",
    "# gini index of our third split left\n",
    "# 47 versicolor, 1 verginica\n",
    "print(gini([0, 47, 1])) # good, so we give it a leaf\n",
    "\n",
    "# gini index of our third split right\n",
    "# 4 virginica, 2 versicolor\n",
    "print(gini([0, 2, 4])) # greater than 0.1, we don't really want to split after this because the number of data points is so low..\n",
    "\n",
    "        "
   ]
  },
  {
   "cell_type": "markdown",
   "metadata": {},
   "source": [
    "# Entropy   \n",
    "\n",
    "**Entropy**: Large difference in energy means low entropy. No difference, high entoeiyioffjiskdfj  \n",
    "\n",
    "RRRR => P(RRRR) = 1 *not surprised = low entropy*  entropy = 0\n",
    "RRBB => P(RRBB) = 0.0625 *very surprised = high entropy*\n",
    "\n",
    "Maybe instead of multiplying, we take a log of them. This goes from multiplication to addition based on the rules of logs.  \n",
    "\n",
    "Expected Val = $\\sum x_i * P(x_i) $\n",
    "\n",
    "### Entropy \n",
    "\n",
    "$$\n",
    "Entropy = -\\sum P(x) * log_2(P(x))\n",
    "$$\n",
    "\n",
    "Information gain: make a stab in the dark and thena nother one after that and see how much closer you got to low entropy. \n",
    "\n",
    "\n",
    "AAAAAA => P(AAAAAA) = 1 *not surprised = low entropy*  entropy = 0\n",
    "AABBCCDD => P(AABBCCDD) = 1 *not surprised = low entropy*  entropy = 0"
   ]
  },
  {
   "cell_type": "code",
   "execution_count": null,
   "metadata": {},
   "outputs": [],
   "source": [
    "from sklearn.tree import DecisionTreeClassifier"
   ]
  },
  {
   "cell_type": "markdown",
   "metadata": {},
   "source": [
    "# CART  \n",
    "Clasfication And Regression Tree\n",
    "The loss function for CART:  \n",
    "$$\n",
    "\n",
    "J = \\frac{n_1}{m} * G_1  + \\frac{n_2}{m} * G_2\n",
    "$$\n",
    "\n",
    "where $m = n_1 + n_2$\n",
    "\n",
    "Now that we have the loss function $J$, now we use Gradient Descent to minimize mean squared error. Lowest loss function possible.  \n",
    "\n",
    "Downsides is that this can be computationally expensive, especially with many branches.  "
   ]
  },
  {
   "cell_type": "markdown",
   "metadata": {},
   "source": [
    "# Using a Decision Tree as a Regressor  \n",
    "\n",
    "\n"
   ]
  },
  {
   "cell_type": "code",
   "execution_count": null,
   "metadata": {},
   "outputs": [
    {
     "data": {
      "text/plain": [
       "<matplotlib.collections.PathCollection at 0x15eac48ef90>"
      ]
     },
     "execution_count": 3,
     "metadata": {},
     "output_type": "execute_result"
    },
    {
     "data": {
      "image/png": "iVBORw0KGgoAAAANSUhEUgAAAigAAAGdCAYAAAA44ojeAAAAP3RFWHRTb2Z0d2FyZQBNYXRwbG90bGliIHZlcnNpb24zLjkuMS5wb3N0MSwgaHR0cHM6Ly9tYXRwbG90bGliLm9yZy8kixA/AAAACXBIWXMAAA9hAAAPYQGoP6dpAABEPUlEQVR4nO3de3RU5b3H/88Ec+E2EwMmk8jFiBeIATlQgSnWthggiBSO9LRQVGwtHnNCV8XWcujS0tRT8dJ1tPZY7OqvBc+i4Kk9IgtRXCCCRwxiwfwUsRTyi6KSAYVmBsGEkOzfH+lMM8lc9p5LZk/yfq2VtZyZZ/Y8O3vi/vI83+f7OAzDMAQAAGAjWenuAAAAQFcEKAAAwHYIUAAAgO0QoAAAANshQAEAALZDgAIAAGyHAAUAANgOAQoAALCdC9LdgXi0t7fr2LFjGjx4sBwOR7q7AwAATDAMQ6dPn1ZJSYmysqKPkWRkgHLs2DENHz483d0AAABx+PDDDzVs2LCobTIyQBk8eLCkjhN0Op1p7g0AADDD7/dr+PDhwft4NBkZoASmdZxOJwEKAAAZxkx6BkmyAADAdghQAACA7RCgAAAA2yFAAQAAtkOAAgAAbIcABQAA2A4BCgAAsB0CFAAAYDsZWagNAAAkrq3d0N6GUzpxulmFg/M0qbRA/bLssccdAQoAAH3Q1gONqtl8UI2+5uBzxa48rZxTpsry4jT2rANTPAAA9DFbDzSqat3+kOBEkry+ZlWt26+tBxrT1LN/IEABAKAPaWs3VLP5oIwwrwWeq9l8UG3t4Vr0HAIUAAD6kL0Np7qNnHRmSGr0NWtvw6me61QYBCgAAPQhJ05HDk7iaZcqBCgAAPQhhYPzktouVQhQAADoQyaVFqjYladIi4kd6ljNM6m0oCe71Q0BCgAAfUi/LIdWzimTpG5BSuDxyjllaa+HQoACAEAfU1lerNU3T5DbFTqN43blafXNE2xRB4VCbQAA9EGV5cWaXuamkiwAALCXflkOeUYNSXc3wmKKBwAA2A4BCgAAsB0CFAAAYDsEKAAAwHYIUAAAgO0QoAAAANuxFKCsXr1a48aNk9PplNPplMfj0Ysvvhh8/Stf+YocDkfIz5133hlyjKNHj2r27NkaMGCACgsLdc899+j8+fPJORsAANArWKqDMmzYMD344IO6/PLLZRiGnnrqKc2dO1dvvfWWrrrqKknSkiVL9LOf/Sz4ngEDBgT/u62tTbNnz5bb7dbrr7+uxsZG3XrrrcrOztYDDzyQpFMCAACZzmEYhpHIAQoKCvTII4/o9ttv11e+8hWNHz9ejz32WNi2L774om688UYdO3ZMRUVFkqQnn3xSy5cv1yeffKKcnBxTn+n3++VyueTz+eR0OhPpPgAA6CFW7t9x56C0tbXp6aef1pkzZ+TxeILP/+EPf9DQoUNVXl6uFStW6OzZs8HXamtrNXbs2GBwIkkzZ86U3+/Xu+++G29XAABAL2O51P0777wjj8ej5uZmDRo0SBs3blRZWceuiN/61rc0cuRIlZSU6O2339by5ct16NAhPfvss5Ikr9cbEpxICj72er0RP7OlpUUtLS3Bx36/32q3AQBABrEcoFx55ZWqq6uTz+fTn/70Jy1evFi7du1SWVmZ7rjjjmC7sWPHqri4WNdff73q6+s1atSouDu5atUq1dTUxP1+AACQWSxP8eTk5Oiyyy7TxIkTtWrVKl199dX65S9/Gbbt5MmTJUlHjhyRJLndbh0/fjykTeCx2+2O+JkrVqyQz+cL/nz44YdWuw0AAExoazdUW39Sm+o+Vm39SbW1J5SqGreEdzNub28PmX7prK6uTpJUXFwsSfJ4PPr5z3+uEydOqLCwUJK0bds2OZ3O4DRROLm5ucrNzU20qwAAIIqtBxpVs/mgGn3NweeKXXlaOadMleXFPdoXSwHKihUrNGvWLI0YMUKnT5/W+vXrtXPnTr300kuqr6/X+vXrdcMNN2jIkCF6++23tWzZMl133XUaN26cJGnGjBkqKyvTLbfcoocfflher1f33nuvqqurCUAAAEijrQcaVbVuv7qOl3h9zapat1+rb57Qo0GKpQDlxIkTuvXWW9XY2CiXy6Vx48bppZde0vTp0/Xhhx9q+/bteuyxx3TmzBkNHz5c8+fP17333ht8f79+/fT888+rqqpKHo9HAwcO1OLFi0PqpgAAgJ7V1m6oZvPBbsGJJBmSHJJqNh/U9DK3+mU5eqRPCddBSQfqoAAAkDy19Se18Ld7YrbbsGSKPKOGxP05PVIHBQAA9A4nTjfHbmShXTIknCQLAADSq63d0N6GUzpxulmFg/M0qbTA0lRM4eC8pLZLBgIUAAAyWDJW3kwqLVCxK09eX3PYPBSHJLerI/DpKUzxAACQoQIrbzoHJ9I/Vt5sPdAYfC5afZN+WQ6tnNNR7qPruEvg8co5ZT2WICsxggIAQEaysvJm20FvzFGWyvJirb55Qrd27jTVQWEVDwAAGcjsyptZ5W69eKD7fneBsZCu9U0SzWeJxsr9mxEUAAAykNkVNeGCEylyfZN+WY6ElhInCzkoAABkoGSsqDEkNfqatbfhVOIdSjICFAAAMlBg5U0yJl96sr6JWQQoAABkoGgrb6zqyfomZhGgAABgY9GWBwdW3rhd8QUYDnWs5unJ+iZmkSQLAIBNmSnCVllerOllbu1tOKXdRz7Rf71Sb+rY6apvYhbLjAEAsKFAEbauN2mHOpJbl1VcrkuGDgxZCtzWbujah3ZErAjbmdVqs8nAMmMAADJYrCJskvTo9sPB5zoHGyvnlKlq3f5gINPV7VMvUUWZO6n1TVKBHBQAAGxmb8OpbuXro+lc2j5SXkqxK09P3jxB9825Sp5RQ2wdnEiMoAAAYDtWl/12LbrWOS8lFRVhewIBCgAANhPPst/ORdcCIyR2qAgbL6Z4AACwmUSKsNmx6Fo8CFAAALCZRIqw2bHoWjwIUAAAsCGrRdjsXHQtHuSgAABgU12TXd//9Kwe2/5XSaFLiO1edC0eBCgAANhY12TXK92DulWXdaeh6FqqEaAAAJBBesMSYjMIUAAAyDCZvoTYDJJkAQCA7RCgAAAA2yFAAQAAtkOAAgAAbIcABQAA2A4BCgAAsB2WGQMAkCZt7Uavr2cSLwIUAADSYOuBxm4VYYt7YUXYeDHFAwBAD2lrN1Rbf1I/2/yu7ly3PyQ4kSSvr1lV6/Zr64HGNPXQPhhBAQCgB4QbMenKUMfGfzWbD2p6mbtPT/cQoAAAkAKd80sCuxAbsd8mQ1Kjr1l7G071+nL20RCgAACQZGZGS2I5cTr+9/YGBCgAACTR1gONqlq339RoSTSFg/OS0p9MZSlJdvXq1Ro3bpycTqecTqc8Ho9efPHF4OvNzc2qrq7WkCFDNGjQIM2fP1/Hjx8POcbRo0c1e/ZsDRgwQIWFhbrnnnt0/vz55JwNAABp1NZuqGbzwYSCE4c6VvNMKi1IVrcykqUAZdiwYXrwwQe1b98+/fnPf9a0adM0d+5cvfvuu5KkZcuWafPmzXrmmWe0a9cuHTt2TDfddFPw/W1tbZo9e7bOnTun119/XU899ZTWrl2rn/zkJ8k9KwAA0mBvw6mEpnUCKbEr55T16QRZSXIYhpHQKFRBQYEeeeQRff3rX9dFF12k9evX6+tf/7ok6S9/+YvGjBmj2tpaTZkyRS+++KJuvPFGHTt2TEVFRZKkJ598UsuXL9cnn3yinJwcU5/p9/vlcrnk8/nkdDoT6T4AAEmzqe5jff/purjf39vroFi5f8ddB6WtrU1PP/20zpw5I4/Ho3379qm1tVUVFRXBNqNHj9aIESNUW1srSaqtrdXYsWODwYkkzZw5U36/PzgKAwBApoo3b+T2qZdow5Ipem35tF4bnFhlOUn2nXfekcfjUXNzswYNGqSNGzeqrKxMdXV1ysnJUX5+fkj7oqIieb1eSZLX6w0JTgKvB16LpKWlRS0tLcHHfr/farcBAEi5SaUFKnblyetrNpWH0ttHTBJhOUC58sorVVdXJ5/Ppz/96U9avHixdu3alYq+Ba1atUo1NTUp/QwAABLVL8uhlXPKVLVuvxxSSJASeLys4nJdMnQge+/EYDlAycnJ0WWXXSZJmjhxot5880398pe/1De/+U2dO3dOTU1NIaMox48fl9vtliS53W7t3bs35HiBVT6BNuGsWLFCd999d/Cx3+/X8OHDrXYdAICU6Lrp3xPfmqD7t4TWQXGbHC1hA8EOCddBaW9vV0tLiyZOnKjs7Gy9/PLLmj9/viTp0KFDOnr0qDwejyTJ4/Ho5z//uU6cOKHCwkJJ0rZt2+R0OlVWVhbxM3Jzc5Wbm5toVwEASLpIm/7dN3uMLhyYaynQYAPBf7C0imfFihWaNWuWRowYodOnT2v9+vV66KGH9NJLL2n69OmqqqrSCy+8oLVr18rpdOp73/ueJOn111+X1JFYO378eJWUlOjhhx+W1+vVLbfcou9+97t64IEHTHeaVTwAADuIVJQtEIasvnmC6cAimceyKyv3b0sjKCdOnNCtt96qxsZGuVwujRs3LhicSNKjjz6qrKwszZ8/Xy0tLZo5c6Z+/etfB9/fr18/Pf/886qqqpLH49HAgQO1ePFi/exnP4vjNAEASI+2dkN76k/q3//3nbDJsFY3/YtW4K2vbiCYcB2UdGAEBQCQLlb32dmwZErMTf9q609q4W/3JOVYdpayERQAAPqyePbZMbPpn9mNAfvSBoJxF2oDAKAviXefHTPF28wWeOtLGwgSoAAAYILVfXasbPoXKPAWKbukL24gSIACAIAJVqZXrG76Fyjw1vm98R6rtyBAAQDABCvTK25XnuVlwZXlxVp98wS5XaGfE8+xegOSZAEAMMHMPjv5/bP1xKIJmnLpkLhGOyrLizW9zE0lWRGgAABgSqx9diTpwfljNfWyoQl/TiYvJU4WpngAADCJaZiewwgKAAAWMA3TMwhQAACwiGmY1GOKBwAA2A4BCgAAsB0CFAAAYDsEKAAAwHYIUAAAgO0QoAAAANshQAEAALZDgAIAAGyHAAUAANgOAQoAALAdAhQAAGA77MUDAEAnbe0GGwHaAAEKAAB/t/VAo2o2H1Sjrzn4nNuZq4WTRuiSoQMJWHoQAQoAAOoITqrW7ZfR5Xmvv0WPbj8cfFzsytPKOWWqLC/u2Q72MeSgAAD6vLZ2QzWbD3YLTsLx+ppVtW6/th5oTHm/+jICFABAn7e34VTItE40gSCmZvNBtbWbCWkQDwIUAECfd+K0ueAkwJDU6GvW3oZTqekQCFAAACgcnBfX+6wGNjCPAAUA0OdNKi1QsStPVtfmxBvYIDYCFABAn9cvy6GVc8okyVSQ4lDHap5JpQUp7VdfRoACAICkyvJirb55gtyu6KMigQBm5Zwy6qGkEHVQAAD4u8ryYk0vcwcryb7/6Vlt2HtUXn+nwm3UQekRBCgAAHTSL8shz6ghwcdLp11G6fs0IEABACCKrgELegY5KAAAwHYIUAAAgO0QoAAAANuxFKCsWrVK11xzjQYPHqzCwkLNmzdPhw4dCmnzla98RQ6HI+TnzjvvDGlz9OhRzZ49WwMGDFBhYaHuuecenT9/PvGzAQAAvYKlJNldu3apurpa11xzjc6fP68f//jHmjFjhg4ePKiBAwcG2y1ZskQ/+9nPgo8HDBgQ/O+2tjbNnj1bbrdbr7/+uhobG3XrrbcqOztbDzzwQBJOCQAAZDqHYRhxb8X4ySefqLCwULt27dJ1110nqWMEZfz48XrsscfCvufFF1/UjTfeqGPHjqmoqEiS9OSTT2r58uX65JNPlJOTE/Nz/X6/XC6XfD6fnE5nvN0HAPQibe0Gy4Ftzsr9O6EcFJ/PJ0kqKAgt9fuHP/xBQ4cOVXl5uVasWKGzZ88GX6utrdXYsWODwYkkzZw5U36/X++++24i3QEA9FFbDzTq2od2aOFv9+j7T9dp4W/36NqHdmjrgcZ0dw1xirsOSnt7u+666y5NnTpV5eXlwee/9a1vaeTIkSopKdHbb7+t5cuX69ChQ3r22WclSV6vNyQ4kRR87PV6w35WS0uLWlpago/9fn+83QYA9DJbDzSqat1+dZ0O8PqaVbVuv1bfPIGqrxko7gClurpaBw4c0GuvvRby/B133BH877Fjx6q4uFjXX3+96uvrNWrUqLg+a9WqVaqpqYm3qwCAXqqt3VDN5oPdghNJMtSxb07N5oOaXuYOO93DtJB9xRWgLF26VM8//7xeffVVDRs2LGrbyZMnS5KOHDmiUaNGye12a+/evSFtjh8/Lklyu91hj7FixQrdfffdwcd+v1/Dhw+Pp+sAgF5kb8MpNfqaI75uSGr0NWtvw6lu1WC3HmhUzeaDIe8vZp8d27CUg2IYhpYuXaqNGzdqx44dKi0tjfmeuro6SVJxccfF9ng8euedd3TixIlgm23btsnpdKqsrCzsMXJzc+V0OkN+AAA4cTpycBKtXWBaqGtwE5gWIncl/SyNoFRXV2v9+vXatGmTBg8eHMwZcblc6t+/v+rr67V+/XrdcMMNGjJkiN5++20tW7ZM1113ncaNGydJmjFjhsrKynTLLbfo4Ycfltfr1b333qvq6mrl5uYm/wwBABkt2jRM4eA8U8fo3C7RaSH0DEsByurVqyV1LCXubM2aNbrtttuUk5Oj7du367HHHtOZM2c0fPhwzZ8/X/fee2+wbb9+/fT888+rqqpKHo9HAwcO1OLFi0PqpgAAIMWehplUWqBiV568vuawAYdDktvVEdQEJDIthJ5jKUCJVTJl+PDh2rVrV8zjjBw5Ui+88IKVjwYA9DFmV+esnFOmqnX75ZBC2gbGPlbOKQsZCYl3Wgg9i714AAC2E2saRuqYhmlrN1RZXqzVN0+Q2xU63eN25YVdYhzPtBB6XtzLjAEASBWr0zCV5cWaXuYOyVWZOPJC7fvgb9pU93FI7ko800LoeQQoAADbiWcapl+WI5gzsvVAo778yCsRc1esTguh5zHFAwCwnUSmYaItIb5z3X79cvtf1XK+XXdVXKEip7lpIfQ8RlAAALYT7zSMmdyVR7cfDj7nduZqWcXlumToQCrJ2gwjKAAA2+mX5dDKOR3FO7uGC9GmYWLlrnR13N+ix7YfVu4FWfKMGkJwYiMEKAAAW7K6OkeyvjS464og2AdTPAAA2wq3OifaNEw8S4MpzGZPBCgAAFvrvDonlli5K9FQmM1emOIBAPQa0XJXYqEwm70QoAAAepVIuSuRONRRI4XCbPbCFA8AwFai7V5sVtfclfc/PavHtv9VEoXZMgUBCgDANmLtXmxF19yVK92Duh3bHeexkXoOI9YWxTbk9/vlcrnk8/nkdDrT3R0AQBJE2r04MK6RjAqvyRidQfys3L8ZQQEApF2sCrAOddQqmV7mTiigsLIiCOlFkiwAIO2s7F6MvoERFABASliZToln92L0bgQoAICks5rsmsjuxeidmOIBACRVINm165SN19esqnX7tfVAY7f3BCrARsou6VqrpK3dUG39SW2q+1i19SfZR6cXYgQFAJA08Sa7BirAVq3bL4ei1ypJ5lJk2BcjKACApEkk2dXM7sXxjM4gMzGCAgBIGqvJrl0TaaeXuSPuXtxTS5FhDwQoAICksZLsanWqxsroDLVOMh9TPACApDGb7Pq3M+csT9WwFLlvIUABACRNINlVUrcgJfD4vtljdP+WyFM1UsdUTdeVOSxF7lsIUAAASRUr2fXCgblxJdJaXYqMzEYOCgAg6SrLiyMmu26q+9jUMbpO1VhZiozMR4ACAEiJSBvzJTJVExid6Zpc66YOSq9DgAIASAqze+8Epmq8vuaweSgOdQQckaZqoo3OoPcgQAEAJMzKkuFkTNVEGp1B70GSLAAgIfFUdzVTNRZ9GyMoAIC4JVLdlakaREOAAgCIW6LVXZmqQSRM8QAA4kZ1V6QKAQoAIG5Ud0WqEKAAAOJGdVekCgEKACBuZvbeobor4mEpQFm1apWuueYaDR48WIWFhZo3b54OHToU0qa5uVnV1dUaMmSIBg0apPnz5+v48eMhbY4eParZs2drwIABKiws1D333KPz588nfjYAgB7HkmGkgqVVPLt27VJ1dbWuueYanT9/Xj/+8Y81Y8YMHTx4UAMHDpQkLVu2TFu2bNEzzzwjl8ulpUuX6qabbtLu3bslSW1tbZo9e7bcbrdef/11NTY26tZbb1V2drYeeOCB5J8hACDlWDKMZHMYhhFu+bopn3zyiQoLC7Vr1y5dd9118vl8uuiii7R+/Xp9/etflyT95S9/0ZgxY1RbW6spU6boxRdf1I033qhjx46pqKhIkvTkk09q+fLl+uSTT5STkxPzc/1+v1wul3w+n5xOZ7zdBwAAPcjK/TuhHBSfzydJKijoSH7at2+fWltbVVFREWwzevRojRgxQrW1tZKk2tpajR07NhicSNLMmTPl9/v17rvvJtIdAADQS8RdqK29vV133XWXpk6dqvLyckmS1+tVTk6O8vPzQ9oWFRXJ6/UG23QOTgKvB14Lp6WlRS0tLcHHfr8/3m4DAIAMEHeAUl1drQMHDui1115LZn/CWrVqlWpqalL+OQAA87sSA6kUV4CydOlSPf/883r11Vc1bNiw4PNut1vnzp1TU1NTyCjK8ePH5Xa7g2327t0bcrzAKp9Am65WrFihu+++O/jY7/dr+PDh8XQdABCFlV2JgVSylINiGIaWLl2qjRs3aseOHSotLQ15feLEicrOztbLL78cfO7QoUM6evSoPB6PJMnj8eidd97RiRMngm22bdsmp9OpsrKysJ+bm5srp9MZ8gMASC4ruxK3tRuqrT+pTXUfq7b+pNra415vAYRlaQSlurpa69ev16ZNmzR48OBgzojL5VL//v3lcrl0++236+6771ZBQYGcTqe+973vyePxaMqUKZKkGTNmqKysTLfccosefvhheb1e3XvvvaqurlZubm7yzxAAEJOVXYm3HfQyyoKUs7TM2OEIPwe5Zs0a3XbbbZI6CrX94Ac/0IYNG9TS0qKZM2fq17/+dcj0zQcffKCqqirt3LlTAwcO1OLFi/Xggw/qggvMxUssMwaA5Ajkm+w+8on+65X6mO2XVVyhx7b/tVsgE7g7xCrMRn5L32bl/p1QHZR0IUABgMSFyzeJJb9/tpo+bw37mkMd1WNfWz4tbNBBfgt6rA4KACAzRco3iSVScCJ1TAU1+pq1t+GU6c8Ll98CSAQoANBrRUpkjZZvEolDHaMnZpw4HRqExMpvkTryW0i0RWdx10EBANhXtOkUV/8cSyMngcmab0+9RI9uPxyzfeHg0E0D9zacivp5nUdePKOGmO4XejdGUACgl4k1nbL9YPiq3ZEEdiVeOu1yFbvyFCml1aGOIGhSaUHI811HVCIx2w59AyMoANCLmFkuvLHuY1PHWvrVyzT1sqEhK21WzilT1br9ckghnxEIWlbOKeuWINt1RCUSs+3QNzCCAgC9iJnplFNnWlUwMCfmSMiy6VfIM2pISMBRWV6s1TdPkNsVGkwERlnCrcaZVFoQ18gL+jZGUACgFzE7TTJvfInW7H7f0khIQGV5saaXuU3XM+mX5Yhr5AV9GyMoANCLmJ0mmV7mtjwS0lm/LIc8o4Zo7viLu42yhBPPyAv6NkZQAKAXCUyneH3NYfNQAsXUAiMeVkZCEmV15AV9GwEKAPQiVqdTAiMhPdk/lhLDDKZ4AKCXYToFvQEjKADQC0WaTpGk2vqTlqdY2OQPPY0ABQB6qa7TKfFu1scmf0gHpngAoA+Id7M+NvlDuhCgAEAvF+9mfWzyh3QiQAGAXs7KZn3JeB+QDAQoANDLxbtZH5v8IZ0IUACgl4t3sz42+UM6EaAAQC8X72Z9bPKHdCJAAYBeLlBdVlK3YCPaZn3xvg9IBgIUAOgD4q0uS1VapIvDMIyMWx/m9/vlcrnk8/nkdDrT3R0AyBjxVoSlkiySwcr9m0qyANCHxLtZH5v8oacxxQMAAGyHAAUAANgOAQoAALAdclAAIM3MJKAmqw2QKQhQACCNth5oVM3mgyF73hS78rRyTllwCW+y2gCZhGXGAJAmWw80qmrd/m67BQfGPFbfPEGSktKGIAV2YOX+TYACAGnQ1m7o2od2RNwt2CGpyJkrySGvP7E2bleeXls+jekepJ2V+zdJsgCQBnsbTkUMTiTJkOT1t0QMPKy0afQ1a2/Dqfg7C6QBAQoApMGJ05GDit7weUCiCFAAIA0KB+fFbpTBnwckigAFANJgUmmBil153XYJDnBIcjtz5XYm3qbY1bHkGMgkBCgAkAb9shxaOadMkroFF4HHP/3aVfrp1xJvs3JOGQmyyDgEKACQJpXlxVp98wS5XaHTL25XXnBpcLLaAJmGZcYAkGZUkkVfkdJlxq+++qrmzJmjkpISORwOPffccyGv33bbbXI4HCE/lZWVIW1OnTqlRYsWyel0Kj8/X7fffrs+++wzq10BAFtrazdUW39Sm+o+Vm39SbW1h//3YL8shzyjhmju+IvlGTUkbFCRrDZAprBc6v7MmTO6+uqr9Z3vfEc33XRT2DaVlZVas2ZN8HFubm7I64sWLVJjY6O2bdum1tZWffvb39Ydd9yh9evXW+0OANgSpeeBxFgOUGbNmqVZs2ZFbZObmyu32x32tffee09bt27Vm2++qS984QuSpF/96le64YYb9Itf/EIlJSVWuwQAthKphL3X16yqdfvJCwFMSEmS7M6dO1VYWKgrr7xSVVVVOnnyZPC12tpa5efnB4MTSaqoqFBWVpbeeOONVHQHAJIu0vRNW7uhms0HuwUnkoLP1Ww+GHG6B0CHpO9mXFlZqZtuukmlpaWqr6/Xj3/8Y82aNUu1tbXq16+fvF6vCgsLQztxwQUqKCiQ1+sNe8yWlha1tLQEH/v9/mR3GwBMizZ94+qfE7OEfaD0vGfUkB7oLZCZkh6gLFiwIPjfY8eO1bhx4zRq1Cjt3LlT119/fVzHXLVqlWpqapLVRQCIW6zpm+9MvcTUcSg9D0SX8jool156qYYOHaojR45Iktxut06cOBHS5vz58zp16lTEvJUVK1bI5/MFfz788MNUdxsAujEzfbOx7mNTx6L0PBBd0kdQuvroo4908uRJFRd3JIR5PB41NTVp3759mjhxoiRpx44dam9v1+TJk8MeIzc3t9tKIADoaWZ2ID51plUFA3P0tzPnwgYyDnUUUItWep56JkAcAcpnn30WHA2RpIaGBtXV1amgoEAFBQWqqanR/Pnz5Xa7VV9frx/96Ee67LLLNHPmTEnSmDFjVFlZqSVLlujJJ59Ua2urli5dqgULFrCCB4CtmZ2WmTe+RGt2vy+HFBKkmCk9b3Z5MkEMejvLlWR37typr371q92eX7x4sVavXq158+bprbfeUlNTk0pKSjRjxgzdf//9KioqCrY9deqUli5dqs2bNysrK0vz58/X448/rkGDBpnqA5VkAaRDbf1JLfztnpjtNiyZIt/n5yzXQYmU3xIIOwLLk6mxgkxl5f5NqXsAMKGt3dCe+pOqXr9fTZ+3hm0TmL55bfk09ctyWBrlaGs3dO1DOyJOIQWOfd/sMlWvjx3EAHZk5f6d8hwUAMg0XQOLv505p/u3HIyafxJu+iZQej7asQNBi5n8lkZfs+7ddCBikq5DHTVWppe5me5BxiNAAYBOwk2fmOE2McUSbWqm5Xy7qc85deZcxNeosYLehAAFAP4uUg5INPn9s/XEogmacmn0zfli1U+5q+LyuPocDjVW0BukvA4KAGSCaDVOomn6vFVZDkfU4MRM/ZQNe4/K7cxTpKM4JBUMzDbVJ2qsoDcgQAEAxa5xEk2sEQsz+SVef4sWThohSd2ClMDj/5hbrmJX9CCmOEaNFSBTEKAAgBKbFok1YmH22JcMHaDVN0+Q2xV6PLcrT6tvnqAbxpVo5ZwySZGDmGg1VoBMQg4KACi+aREzVWGtHLtwcJ48o4Zoepk74vLkyvJirb55QrdkWzNJukAmIUABAEmTSgtU7MqT19dsKg/FyohFrGN3DXTCLU/urLK8OGoQA/QGTPEAgDqCgkjTJ+EEpl3MjFhEO3a8UzOBIGbu+IvlGRV9BRGQiagkCwCdRKpVct/sMbpwYG5CIxaUqEdfR6l7AEhAKjfiY5M/9GWUugeABMTKAbHrsYHehBwUAABgO4ygAOjVmFIBMhMBCoBei6RUIHMxxQOgVwpszte1xHxgc76tBxrT1DMAZhCgAOh1zGzOV7P5oNraM24RI9BnEKAA6HXMbM7X6GvW2t0NBCmATRGgAOh1zG7Od/+W93TtQzuSNt3T1m6otv6kNtV9rNr6kwQ/QAJIkgXQ61jZ+C+Qk2K2bH0kJOQCycUICoCMYGV0IrA5n5nFxMnISSEhF0g+RlAA2J7Z0YnONU8WXDNCj23/qxxSzN2JAzkpextOWa7yGish16GO4Gd6mZv6K4AFBCgAbC0wOtE1AOg6NRMuiMkfkC1JajrbauqzzOaudGY2ITee4AfoywhQANiW2dGJ9napen33IMZ3tlWGpK9PuFh/2v9xzM+zkrsSYDaoiSf4AfoyclAA2JbZ0Yl7Nx2IGsS8duRTuZ2Rc1Ic6pgymlRaYLmPZoOaeIIfoC8jQAFgW2ZHHU6dORfxNUOS19+ihZNGSFK3ICXweOWcsrhyRGIl5CYS/AB9GQEKANtK5qjDJUMHaPXNE+R2hR7T7cpLaIlxvyyHVs4pk5T84Afoy8hBAWBbgdEJr6857BSOQ9KFA7N16kzsJNjCwXnyjBqi6WXupO9uXFlerNU3T+iWpOumDgoQN4dhGBlX6tDv98vlcsnn88npdKa7OwAs6LwU2EyAEFjFI4UuFw6844lv/ZPu3/Je1CDG7crTa8unRfwcq31K1rkBfY2V+zcjKAB6TKR6JvfNHqMLB+aGvbFHGp0ocuZq4aQRam03ItY8MTPFkswKsP2yHCwlBpKEERQAPSJSPZNwYhVhe//Ts9qw96i8/ug1T2IFGpH6FAhlEi1/DyCUlfs3AQqAlGtrN3TtQzuiLhnuLFqAEC2oMCQtq7hclwwdGHOKJVafzEwNAbDGyv2bVTwAUi5WPZOuIu2PY6Zw29Nvfqgbx5XIM2pI1MDCSgVYAD2PAAVAysVTRTUQIKzd3RAMUpIZVFABFrA3AhQAKZdIPZP7t7ynax/aoa0HGpMaVFABFrA3AhQAKRer2mosgY0B3//0jKn2ZoIKKsAC9kaAAiDlolVbNSOQc7Jh79Gk7alDBVjA3iwHKK+++qrmzJmjkpISORwOPffccyGvG4ahn/zkJyouLlb//v1VUVGhw4cPh7Q5deqUFi1aJKfTqfz8fN1+++367LPPEjoRAPYWqGfStdS8WanYUydSnxItfw8gcZYLtZ05c0ZXX321vvOd7+imm27q9vrDDz+sxx9/XE899ZRKS0t13333aebMmTp48KDy8jr+J7Bo0SI1NjZq27Ztam1t1be//W3dcccdWr9+feJnBMC2KsuLu5Wa/9uZc7p/y0HTq3wCe+okq6x8uD5RARZIv4TqoDgcDm3cuFHz5s2T1DF6UlJSoh/84Af64Q9/KEny+XwqKirS2rVrtWDBAr333nsqKyvTm2++qS984QuSpK1bt+qGG27QRx99pJKSkpifSx0UoHdpaze0dneD7t/yXsy2G5ZMkWfUEMrKAxkobXVQGhoa5PV6VVFREXzO5XJp8uTJqq2tlSTV1tYqPz8/GJxIUkVFhbKysvTGG28kszsAMkS/LIdum1pqKWk1UFZ+7viLY9Y8AZB5khqgeL1eSVJRUVHI80VFRcHXvF6vCgsLQ16/4IILVFBQEGzTVUtLi/x+f8gPgMzQ1m6otv6kNtV9rNr6kyGF1zojaRVAZxmxWeCqVatUU1OT7m4AsMjqRnyRNgaMN78EQOZKaoDidrslScePH1dx8T/+R3L8+HGNHz8+2ObEiRMh7zt//rxOnToVfH9XK1as0N133x187Pf7NXz48GR2HUCSRdozJ1DTJNIqGZJWAUhJnuIpLS2V2+3Wyy+/HHzO7/frjTfekMfjkSR5PB41NTVp3759wTY7duxQe3u7Jk+eHPa4ubm5cjqdIT8A7CvWnjlS9312OiO/BIDlEZTPPvtMR44cCT5uaGhQXV2dCgoKNGLECN111136j//4D11++eXBZcYlJSXBlT5jxoxRZWWllixZoieffFKtra1aunSpFixYYGoFDwD7s7JnjmfUkJ7rGICMYTlA+fOf/6yvfvWrwceBqZfFixdr7dq1+tGPfqQzZ87ojjvuUFNTk6699lpt3bo1WANFkv7whz9o6dKluv7665WVlaX58+fr8ccfT8LpALADNuIDkKiE6qCkC3VQAHurrT+phb/dE7NdoKYJgL4hbXVQAEBiIz4AiSNAAZA0gZonz799TAuuSd6eOQD6noyogwLA/sLVPMkfkC1JajrbGnyOmiYAzCBAAZCwSDVPfGdbZUhaVnG5Lhk6kJomAEwjQAGQkFg1TxySnn7zQ722fBqBCQDTyEEBejmze+HEy0rNEwAwixEUoBezuhdOPKh5AiAVGEEBeqlAXkjX0Y3AXjhbDzQm5XMKB+fFbmShHQBIBChAr5ToXjhWUPMEQCoQoAC9UKJ5IVbyVvplObRyTpkkap4ASB5yUACbams3tLfhlE6cbra8PDeRvJB48lYqy4u1+uYJ3d5HzRMA8SJAAWzIbJAQKYiJNy8kUj2TQN7K6psnRA1Sppe54w6qAKAzAhTAZswGCdGCmOllbhW78uT1NYfNQ3GoY3Sjc16ImXomNZsPanqZOxh0hAuQ2PwPQDIQoAA2YjZIaG+XqtdHD2JWzilT1br9ckgh7SLlhVjJW/GMGtIjS5gB9F0kyQI2YjZIuHfTgZgrdKaXubX65glyu0KncdyuvLBTNVbyVnpqCTOAvosRFMBGzAYJp86ci/ha55GOcHkhE0deqH0f/E2b6j6OK29l6MBc/fBP/6+lqSAAsIoABbCRZBYzCwQ7/bIcwbyQrQca9eVHXkkob0UOWZoKAoB4MMUD2IiZomcFA7NNHSvSCp1I0zLbDnqj1jMxJC24Zrheetdr6vMpbQ8gEQQogI2YKXr2H3PLLVduNVtZNlLeimtAtvIHZOvR7Yf137UfmDoXStsDSARTPIDNmCl6lpXlSMkKnUe3/VVTLxuqXfd8Vfs++JtOnG7W+5+e1WPb/xo2uAkn3BJmALDKYRhGcvde7wF+v18ul0s+n09OpzPd3QFSIlYlWSvLfDfVfazvP11n+rM756Vc+9COqMFNZ4HeRSvoBqDvsnL/ZgQFsKnOya3hWKncanW6JZCXclfF5aaDE4nS9gCShwAFsIF4992JFcQEBJJvI63Q6SqwXHjN7vdNtJZu9YzUrPJiStsDSBoCFCDNeqIiayD5NlzeSiSGpKbPW00df1Z5MUuKASQVq3iANOrJiqyB5NuuK3Riye+fbWnFEAAkAwEKkCZml/62tScvj72yvFivLZ+mDUumaOlXR5l6z7enlkqKvOy564ohAEgGAhRAHcFCbf1Jbar7WLX1J5MaFERiZXO+ZArkrSybfqWpeipLp11maU8fAEgGclDQ56VrV14rm/OlQrS8lK6jI1ZWDAFAMjCCgj4t2TkgVkZizC79TWVF1kh5KeFGRwIjL3PHXyzPqCEEJwBSihEU9FmxckCs7sprdSQm1tLfeCqyxrNcmdERAHZEgII+y0oOSKwltIGRmK6BRmAkJlyuhpUpFjMSmaoyW08FAHoKUzzos5KVA5LIahwrUyzR9ORyZQDoCYygoM9KVg5IPCMxXadiOm/OZ3WKJdlTVQBgBwQoSIt4S7snU7JyQKyOxESbipk7/mKz3Q9K5lQVANgFAQp6XLqW9XaVrBwQKyMx8eSqxJLu5coAkArkoHSSjmJdPSHe80rF78NuuRLRckCe+NY/ydU/J+b5B0ZiYhU8mzjywpRUjrXDcmUASDZGUP7OLv+qT7Z4zysVvw+75kqEW2b7tzPndP8Wc+dvdiRm3wd/S8lUTCqWKwNAuiV9BOWnP/2pHA5HyM/o0aODrzc3N6u6ulpDhgzRoEGDNH/+fB0/fjzZ3bDEbv+qT5Z4zytVv490lXY3MxLUuQiZ7/Nzql7f/fwbfc26c91+3b/53W7HMbMaJ1VTMYEASWK/HAC9R0pGUK666ipt3779Hx9ywT8+ZtmyZdqyZYueeeYZuVwuLV26VDfddJN2796diq7EZNd/1Scq3vNK5e8jHbkSVkeCop1/wO92v6/f7X6/23FiFTxL5VRMIEDqeq7uXjAKCKBvSkmAcsEFF8jtdnd73ufz6Xe/+53Wr1+vadOmSZLWrFmjMWPGaM+ePZoyZUoquhNVb10BYfa8Ht32V029bGjwRprK30dP50rEk5Aa6/xjHSdawbNUT8VQERZAb5KSJNnDhw+rpKREl156qRYtWqSjR49Kkvbt26fW1lZVVFQE244ePVojRoxQbW1tKroSU6atgDCbuGq2v//1yhEt/O0eXfvQDm090JjS34fZZNJk5ErEWzzNynlZTWztiakY9ssB0FskPUCZPHmy1q5dq61bt2r16tVqaGjQl770JZ0+fVper1c5OTnKz88PeU9RUZG8Xm/EY7a0tMjv94f8JEsmrYDYeqBR1z60Qwt/u0fff7ouJLDoymp/A6MB7396xlT7eH4fPZkrEW++i9Xzspo3k6zKsQDQ2yV9imfWrFnB/x43bpwmT56skSNH6o9//KP69+8f1zFXrVqlmpqaZHUxRKasgLA6XRHrvLoK5Jds2HtUbmeejvtTNw0Rb66EleJu8Y4EWf29Wf08Kf6pGDsUtwOAnpLyZcb5+fm64oordOTIEU2fPl3nzp1TU1NTyCjK8ePHw+asBKxYsUJ333138LHf79fw4cOT0j+rxbrScZOIJ3E12nlFYkjy+lu0rOIKPbb9r0nZwC6ceG7QVpNdzY6EHD7+mWrrTwY/P57fW6zPi/SdsZLD01uXwQNAJA7DMFJajeyzzz7TiBEj9NOf/lSLFy/WRRddpA0bNmj+/PmSpEOHDmn06NGqra01nSTr9/vlcrnk8/nkdDqT0k8zN4B03SRq609q4W/3xGy3YcmUbje9cH2O5ZcLxiv3gqy03xADN/ZtB736/e73u70eCGfCTY20tRu69qEdpkdCzFzrcAIjSq8tnxY2wErGdybS6Fm08wcAO7Jy/056gPLDH/5Qc+bM0ciRI3Xs2DGtXLlSdXV1OnjwoC666CJVVVXphRde0Nq1a+V0OvW9731PkvT666+b/oxUBChS9NGRdN4kNtV9rO8/XRez3S8XjA+7l0vgvHYf+UT/9Up9zOMEAp10TikkI0AIXDMp9khIuOvYNUAKN6JkSFpWcbkuGTowJd+ZQKAV6fcQK0ACADuxcv9O+hTPRx99pIULF+rkyZO66KKLdO2112rPnj266KKLJEmPPvqosrKyNH/+fLW0tGjmzJn69a9/nexuxCXSsHu6a6VYTeQNF1h4Rg3RpNIC/e/+j03n21idhkiWSDf2cKIte46U7xLpOF2vY+D8A7+7rsdxDciWJD26/XDwucDoyPQyd1K+M711GTwAxJL0AOXpp5+O+npeXp6eeOIJPfHEE8n+6JRJ903CSiJvrCmFZGyOl0pmCqWFEylJtXO+S6wRpFjBTue8mfc/PavHtv81YtLyXRWXJ+U7k2nL4AEgWdgs0IR03yTMLs/ddtAbs0S93Ze5WimU1lm0UabASMjlRYNNHSvSdQwc58ZxJXr6zaNRa6ysCZMzY+WzAjJpGTwAJBObBZpgh5tErOW508vcuvahHaamFOxccdRqkGdl2XOyrqOZEbWmz1uT8lmZsgweAJKNAMUEu9wkogUWtfUnLU0ppCu/JBYrQZ7VaalkXUezQVR+/2z5Pm9N6LOsLoMHgN6CKZ4oAmXln3/7mBZcM0JS+neLjVTKPN3TUMkSqxx+Z1anpZJVydZsEPXtqaUJf5ZE9VkAfRMjKBGESzbN//uqjaaz/xi+t8tusXaYhkoGM4XSbp96iSrK3HFNSyVj11+zIzFLp12mK92DkrLDsJ2n5QAgFVJeqC0VUlUHJSBa/YpodS/SKVZhskyrl5HqoniJ1niJVGMlWj0VAgsAfV1aC7X1hFQGKJlcGMvKTTMT2P3GTvl5ALAmrYXaMl06a54kekNOxvSFndg1kTeAaRcASB0ClC7SlWyarH+Nc9PsWXYPogAgUxGgdJGOZNNIOS+BAmtWp2a4aQIAMh0BShc9VfMkMJ3j9X2u+7e8F7Uq6b//7zsanJetKZcOSdlIiN3zPQAAfQsBShc9URjL7E69AU2ft2rR//NGyhIwrUwvEcgAAHoCq3giSNUKDSs79XaVitU40ZZUd/2scL8TtzNXCyeNCFl2LanHghgCJgDIHCwzTpJk3fy6TuecOnMu7j4lc5mzlSXVgY0IY31ZwhWz6+mRn/tmj9GFA3MJWgDAZlhmnCTJSDa1Op0TSzKXOZtdUr2n/qRqNh80NerTOTAJiDfZN5pIIz+Nvmb92/q3Qp6jNgkAZB724kmhwE00WcFJZ8lY5mz2GLX/36cJnUMgiKjZfFBt7YkP2LW1G6YDJukfAdLWA40JfzYAoGcQoKSI1ZuoVYFlzoENDTfVfaza+pOWAgDzS6UTnx7pPPITjpXziDXyE+6zpeQFSACA1GOKJwXa2g2t3d0Q16jDhQMuULvhkO/z7lMlUugy50QTec0uqfaMGqL/euWI5XMJJ9yojdXziGf0KJUVgAEAyccISpJtPdCoax/aofu3vGfpfY6//6y6aZwemj82+LhrG6ljmXMgabVrEGRlOiOwpLrzscN91pRLh6jYlZeEcRTp09MtIaMYkabBop1HIkXykl0BGACQGgQoCeo8NfHL7Yfjzjlxu/KCSaSBPXXcrrywbaaXuSNOH1mdzoj1WZXlxVEDGavu3/Kern1oh7YeaIw6DRbtPAIjP/H0JZkVgAEAqcMy4wQkukKnYGC27rvxKrmd4ZfCRlrmXFt/Ugt/uyfm8TcsmWJ6OsPMkupkrUgKHPWuisv16PbDMduHO49IOzdH+0y77kINAH0Fy4x7QDIKrj3wz2Oj5opEWuacig0NzSyp7roR4fufntWGvUfl9f/jc8LVQenKUMfvYM3u9031Ldx5RNq5OZxkVQAGAPQcApQ4JLpCx51gXY50bGgY0DWQWTrtsm4jL5K0dndD1DwcQx0l/M2IdB7hdm7+25lzun9Ll2q31EEBgIxDgBIHq8tcO7tv9hjdNrU0oX/J99SGhmZEGnkZOjjX1Pvz+2fL93lr3OcR7vNnlrspfw8AGY4k2TjEsxLEoY6ls4kGJ5L51TfpvCmbHb359tRSSck9j0DQMnf8xfKMSt0O0ACA1CFAiYPVqZNUBA1mVt+kU6yVNoGAbem0y2x9HgCA9GAVTxwCm+xFmmLpKpV7wdh5N99IK23C7ZRs5/MAACQHuxn3gGg3X0PSsorLdcnQgX3+ZptotVsAQO9BgNJDuPmaw+gIAEAiQOlR3HwBADCHQm09yEyBMwAAYA2reAAAgO0QoAAAANshQAEAALZDgAIAAGyHAAUAANgOAQoAALAdAhQAAGA7BCgAAMB2CFAAAIDtZGQl2UB1fr/fn+aeAAAAswL3bTO77GRkgHL69GlJ0vDhw9PcEwAAYNXp06flcrmitsnIzQLb29t17NgxDR48WA5Hcjfm8/v9Gj58uD788MO0b0SYCpxf5uvt58j5Zb7efo69/fyk1J2jYRg6ffq0SkpKlJUVPcskI0dQsrKyNGzYsJR+htPp7LVfPInz6w16+zlyfpmvt59jbz8/KTXnGGvkJIAkWQAAYDsEKAAAwHYIULrIzc3VypUrlZubm+6upATnl/l6+zlyfpmvt59jbz8/yR7nmJFJsgAAoHdjBAUAANgOAQoAALAdAhQAAGA7BCgAAMB2+mSA8sQTT+iSSy5RXl6eJk+erL1790Zt/8wzz2j06NHKy8vT2LFj9cILL/RQT61ZtWqVrrnmGg0ePFiFhYWaN2+eDh06FPU9a9eulcPhCPnJy8vroR5b89Of/rRbX0ePHh31PZly7QIuueSSbufocDhUXV0dtr3dr9+rr76qOXPmqKSkRA6HQ88991zI64Zh6Cc/+YmKi4vVv39/VVRU6PDhwzGPa/VvOJWinWNra6uWL1+usWPHauDAgSopKdGtt96qY8eORT1mPN/1VIl1DW+77bZufa2srIx5XLtcw1jnF+7v0eFw6JFHHol4TDtdPzP3hebmZlVXV2vIkCEaNGiQ5s+fr+PHj0c9brx/u1b0uQDlf/7nf3T33Xdr5cqV2r9/v66++mrNnDlTJ06cCNv+9ddf18KFC3X77bfrrbfe0rx58zRv3jwdOHCgh3se265du1RdXa09e/Zo27Ztam1t1YwZM3TmzJmo73M6nWpsbAz+fPDBBz3UY+uuuuqqkL6+9tprEdtm0rULePPNN0POb9u2bZKkf/mXf4n4HjtfvzNnzujqq6/WE088Efb1hx9+WI8//riefPJJvfHGGxo4cKBmzpyp5ubmiMe0+jecatHO8ezZs9q/f7/uu+8+7d+/X88++6wOHTqkr33tazGPa+W7nkqxrqEkVVZWhvR1w4YNUY9pp2sY6/w6n1djY6N+//vfy+FwaP78+VGPa5frZ+a+sGzZMm3evFnPPPOMdu3apWPHjummm26Ketx4/nYtM/qYSZMmGdXV1cHHbW1tRklJibFq1aqw7b/xjW8Ys2fPDnlu8uTJxr/+67+mtJ/JcOLECUOSsWvXroht1qxZY7hcrp7rVAJWrlxpXH311abbZ/K1C/j+979vjBo1ymhvbw/7eiZdP0nGxo0bg4/b29sNt9ttPPLII8HnmpqajNzcXGPDhg0Rj2P1b7gndT3HcPbu3WtIMj744IOIbax+13tKuPNbvHixMXfuXEvHses1NHP95s6da0ybNi1qG7teP8Pofl9oamoysrOzjWeeeSbY5r333jMkGbW1tWGPEe/frlV9agTl3Llz2rdvnyoqKoLPZWVlqaKiQrW1tWHfU1tbG9JekmbOnBmxvZ34fD5JUkFBQdR2n332mUaOHKnhw4dr7ty5evfdd3uie3E5fPiwSkpKdOmll2rRokU6evRoxLaZfO2kju/runXr9J3vfCfqppiZdP06a2hokNfrDblGLpdLkydPjniN4vkbthufzyeHw6H8/Pyo7ax819Nt586dKiws1JVXXqmqqiqdPHkyYttMvobHjx/Xli1bdPvtt8dsa9fr1/W+sG/fPrW2toZcj9GjR2vEiBERr0c8f7vx6FMByqeffqq2tjYVFRWFPF9UVCSv1xv2PV6v11J7u2hvb9ddd92lqVOnqry8PGK7K6+8Ur///e+1adMmrVu3Tu3t7friF7+ojz76qAd7a87kyZO1du1abd26VatXr1ZDQ4O+9KUv6fTp02HbZ+q1C3juuefU1NSk2267LWKbTLp+XQWug5VrFM/fsJ00Nzdr+fLlWrhwYdQN2Kx+19OpsrJS//3f/62XX35ZDz30kHbt2qVZs2apra0tbPtMvoZPPfWUBg8eHHP6w67XL9x9wev1Kicnp1vAHOu+GGhj9j3xyMjdjBFbdXW1Dhw4EHPe0+PxyOPxBB9/8Ytf1JgxY/Sb3/xG999/f6q7acmsWbOC/z1u3DhNnjxZI0eO1B//+EdT/6LJNL/73e80a9YslZSURGyTSdevr2ttbdU3vvENGYah1atXR22bSd/1BQsWBP977NixGjdunEaNGqWdO3fq+uuvT2PPku/3v/+9Fi1aFDMR3a7Xz+x9wS761AjK0KFD1a9fv27ZycePH5fb7Q77Hrfbbam9HSxdulTPP/+8XnnlFQ0bNszSe7Ozs/VP//RPOnLkSIp6lzz5+fm64oorIvY1E69dwAcffKDt27fru9/9rqX3ZdL1C1wHK9conr9hOwgEJx988IG2bdtmefv6WN91O7n00ks1dOjQiH3N1Gv4f//3fzp06JDlv0nJHtcv0n3B7Xbr3LlzampqCmkf674YaGP2PfHoUwFKTk6OJk6cqJdffjn4XHt7u15++eWQf4V25vF4QtpL0rZt2yK2TyfDMLR06VJt3LhRO3bsUGlpqeVjtLW16Z133lFxcXEKephcn332merr6yP2NZOuXVdr1qxRYWGhZs+ebel9mXT9SktL5Xa7Q66R3+/XG2+8EfEaxfM3nG6B4OTw4cPavn27hgwZYvkYsb7rdvLRRx/p5MmTEfuaiddQ6hjRnDhxoq6++mrL703n9Yt1X5g4caKys7NDrsehQ4d09OjRiNcjnr/deDvfpzz99NNGbm6usXbtWuPgwYPGHXfcYeTn5xter9cwDMO45ZZbjH//938Ptt+9e7dxwQUXGL/4xS+M9957z1i5cqWRnZ1tvPPOO+k6hYiqqqoMl8tl7Ny502hsbAz+nD17Ntim6/nV1NQYL730klFfX2/s27fPWLBggZGXl2e8++676TiFqH7wgx8YO3fuNBoaGozdu3cbFRUVxtChQ40TJ04YhpHZ166ztrY2Y8SIEcby5cu7vZZp1+/06dPGW2+9Zbz11luGJOM///M/jbfeeiu4guXBBx808vPzjU2bNhlvv/22MXfuXKO0tNT4/PPPg8eYNm2a8atf/Sr4ONbfcE+Ldo7nzp0zvva1rxnDhg0z6urqQv4uW1pagsfoeo6xvut2Ob/Tp08bP/zhD43a2lqjoaHB2L59uzFhwgTj8ssvN5qbmyOen52uYazvqGEYhs/nMwYMGGCsXr067DHsfP3M3BfuvPNOY8SIEcaOHTuMP//5z4bH4zE8Hk/Ica688krj2WefDT4287ebqD4XoBiGYfzqV78yRowYYeTk5BiTJk0y9uzZE3zty1/+srF48eKQ9n/84x+NK664wsjJyTGuuuoqY8uWLT3cY3Mkhf1Zs2ZNsE3X87vrrruCv4uioiLjhhtuMPbv39/znTfhm9/8plFcXGzk5OQYF198sfHNb37TOHLkSPD1TL52nb300kuGJOPQoUPdXsu06/fKK6+E/U4GzqG9vd247777jKKiIiM3N9e4/vrru533yJEjjZUrV4Y8F+1vuKdFO8eGhoaIf5evvPJK8BhdzzHWd70nRTu/s2fPGjNmzDAuuugiIzs72xg5cqSxZMmSboGGna9hrO+oYRjGb37zG6N///5GU1NT2GPY+fqZuS98/vnnxr/9278ZF154oTFgwADjn//5n43GxsZux+n8HjN/u4ly/P2DAQAAbKNP5aAAAIDMQIACAABshwAFAADYDgEKAACwHQIUAABgOwQoAADAdghQAACA7RCgAAAA2yFAAQAAtkOAAgAAbIcABQAA2A4BCgAAsJ3/H5LSMHL1T891AAAAAElFTkSuQmCC",
      "text/plain": [
       "<Figure size 640x480 with 1 Axes>"
      ]
     },
     "metadata": {},
     "output_type": "display_data"
    }
   ],
   "source": [
    "import numpy as np\n",
    "import matplotlib.pyplot as plt \n",
    "\n",
    "X = np.linspace(0, 20, 100)\n",
    "Y = X**2 - 4*X + 15.3 + 40*np.random.random(len(X))\n",
    "\n",
    "plt.scatter(X, Y)"
   ]
  },
  {
   "cell_type": "code",
   "execution_count": null,
   "metadata": {},
   "outputs": [
    {
     "data": {
      "text/plain": [
       "<matplotlib.collections.PathCollection at 0x15ee13292e0>"
      ]
     },
     "execution_count": 17,
     "metadata": {},
     "output_type": "execute_result"
    },
    {
     "data": {
      "image/png": "iVBORw0KGgoAAAANSUhEUgAAAigAAAGdCAYAAAA44ojeAAAAP3RFWHRTb2Z0d2FyZQBNYXRwbG90bGliIHZlcnNpb24zLjkuMS5wb3N0MSwgaHR0cHM6Ly9tYXRwbG90bGliLm9yZy8kixA/AAAACXBIWXMAAA9hAAAPYQGoP6dpAABIGklEQVR4nO3dfXhU9Z3//9cwQhQl0ARCEibciIiiQF1qMdiwIFRAbGMD9QZ+iluLq4IXQevypUuFuG6x2q1Yt95sdyvuVUNXaZCrtuqFkGCUeIdyiTflAq4gIUwAoSSIJcDk/P44zJCZzM05k5nMmcnzcV1zjXPmc875nJzE8+Zz8/64DMMwBAAA4CA9Ul0BAACAUAQoAADAcQhQAACA4xCgAAAAxyFAAQAAjkOAAgAAHIcABQAAOA4BCgAAcJxzUl2BeLS1tWn//v3q06ePXC5XqqsDAAAsMAxDx44dU2FhoXr0iN5GkpYByv79+1VUVJTqagAAgDg0NDTI4/FELZOWAUqfPn0kmReYnZ2d4toAAAArWlpaVFRUFHiOR5OWAYq/Wyc7O5sABQCANGNleAaDZAEAgOMQoAAAAMchQAEAAI5DgAIAAByHAAUAADgOAQoAAHAcAhQAAOA4BCgAAMBx0jJRGwAA6DyfT6qtlbxeqaBAKimR3O5U18pEgAIAQDdUVSUtWiTt23d2m8cjPfGEVFaWunr50cUDAEA3U1UlzZ4dHJxIUmOjub2qKjX1ao8ABQCAbsTnM1tODKPjd/5t5eVmuVQiQAEAoBupre3YctKeYUgNDWa5VCJAAQCgG/F6E1suWQhQAADoRgoKElsuWQhQAADoRkpKzNk6Llf4710uqajILJdKBCgAAHQjbrc5lVjqGKT4P69alfp8KAQoAAB0M2Vl0tq10qBBwds9HnO7E/KgkKgNAIBuqKxMKi0lkywAAHAYt1uaNCnVtQiPLh4AAOA4BCgAAMBxCFAAAIDjEKAAAADHIUABAACOQ4ACAAAcx1aA8vTTT2vMmDHKzs5Wdna2iouL9eqrrwa+nzRpklwuV9DrrrvuCjrG3r17NXPmTPXu3Vt5eXl64IEHdPr06cRcDQAAyAi28qB4PB498sgjGjFihAzD0PPPP6/S0lJ99NFHuuyyyyRJ8+fP10MPPRTYp3fv3oH/9vl8mjlzpvLz87VlyxZ5vV7ddttt6tmzp37+858n6JIAAEC6cxmGYXTmADk5OXrsscd0xx13aNKkSfrmN7+pVatWhS376quv6vrrr9f+/fs1cOBASdIzzzyjJUuW6NChQ+rVq5elc7a0tKhv375qbm5WdnZ2Z6oPAAC6iJ3nd9xjUHw+n/7whz/o+PHjKi4uDmx/4YUX1L9/f11++eVaunSpvv7668B3dXV1Gj16dCA4kaRp06appaVFn376abxVAQAAGcZ2qvvt27eruLhYJ06c0AUXXKB169Zp1KhRkqQ5c+ZoyJAhKiws1Mcff6wlS5Zox44dqqqqkiQ1NTUFBSeSAp+bmpoinrO1tVWtra2Bzy0tLXarDQAA0ojtAGXkyJHatm2bmpubtXbtWs2bN0+bN2/WqFGjdOeddwbKjR49WgUFBZoyZYp2796t4cOHx13JlStXqqKiIu79AQBAerHdxdOrVy9ddNFFGjdunFauXKmxY8fqiSeeCFt2/PjxkqRdu3ZJkvLz83XgwIGgMv7P+fn5Ec+5dOlSNTc3B14NDQ12qw0AACzw+aSaGmnNGvPd50tNPTqdB6WtrS2o+6W9bdu2SZIKCgokScXFxdq+fbsOHjwYKLNhwwZlZ2cHuonCycrKCkxt9r8AAEBiVVVJQ4dKkydLc+aY70OHmtu7mq0unqVLl2rGjBkaPHiwjh07psrKStXU1Oj111/X7t27VVlZqeuuu065ubn6+OOPtXjxYk2cOFFjxoyRJF177bUaNWqUbr31Vj366KNqamrSsmXLtGDBAmVlZSXlAgEAQGxVVdLs2VLo3N7GRnP72rVSWVnX1cdWgHLw4EHddttt8nq96tu3r8aMGaPXX39d3/3ud9XQ0KA33nhDq1at0vHjx1VUVKRZs2Zp2bJlgf3dbrdeeeUV3X333SouLtb555+vefPmBeVNAQAAXcvnkxYt6hicSOY2l0sqL5dKSyW3u2vq1Ok8KKlAHhQAABKnpsbszomlulqaNCn+83RJHhQAAJAZvN7ElksE29OMAQCAs/h8Um2tGUAUFEglJfa6Ys7MZUlYuUSgBQUAgDSWiJk3JSWSx2OONQnH5ZKKisxyXYUABQCANOWfebNvX/B2/8yb9kFKtPwmbrfkT2kWGqT4P69a1XUDZCUCFAAA0lKsmTeSOfPG57PWylJWZk4lHjQo+FgeT9dPMZaYxQMAQFqyOvPGn8MklL9lJDT46Ox4lmjsPL8ZJAsAQBqyOqMmXHAiRc5v4nZ3bipxotDFAwBAGkrEjBrDkBoazBYTpyFAAQAgDcWaeWNHV+Y3sYoABQCANBRt5o1dXZnfxCoCFAAAHCza9OBIM2+sSkV+E6sIUAAAcCir04P37DHXyWm3Pm9MqcpvYhXTjAEAcCB/ErbQp7TLZW6rqJBGjAieCuzzmQFMY2P4/CjtFRWZwUlX5jex8/wmQAEAwGH8gUZohthIPB5zPEpZ2dnARgofpPinFScyv4lVrGYMAEAaq621HpxIwantI41LKSqS/vhH6fHHzTwnTuzWaY9EbQAAOIzdab+hSdfKysz3ZGWE7QoEKAAAOEw8037bJ13zt5A4ISNsvAhQAACwK3TBmgkTpC1bgpsrpI5NGKHbIuxX4qvVghyvPj1SoLc0QVdriwrklVcFqtWZMqoNbHu7XRnfRnvnilnHFDW9EKAAAGBHVZW5jHD7QSL+KTR+ubnm++HD0bdF2M99+LD+88ym03LrHJ0t86XMMv119jhBZR6W9LT1c8WsY/sRuF2IWTwAAFgVae5vEhmSXCGfFWZbAjLehxdp2eM4MIsHAIBE8/nMlpMu/nd9aODhirAtafzXW14e3AKTZAQoAABYYXfubyZJwbLHBCgAAFjhxCV/u1oX/gwIUAAAsMKJS/52tS78GRCgAABgRUmJOaPFldQRH86UgmWPCVAAALDC7Tan20rdK0hJ0bLHBCgAAFgVaaGb0Ad3bu7ZnCLRtlnZryvLhNvm8SRkirFdJGoDAMCOcAvdJDiTbMrKOCiTLInaAABAlyBRGwAASGt08QAAkCKhaw6mqDfFkQhQAABIgXBrDqZoXT5HoosHAIAu4vNJNTXS4sXSrFkdM+c3NpprEVZVpaR6jkKAAgBAF6iqkoYOlSZPNlOKhJOidfkciS4eAACSoP34kp07pRUrrC2E3H5dvkmTkl1L5yJAAQAgwcKNL7Gru69NSIACAEACVVWZ40g6m2Wsu69NaGsMytNPP60xY8YoOztb2dnZKi4u1quvvhr4/sSJE1qwYIFyc3N1wQUXaNasWTpw4EDQMfbu3auZM2eqd+/eysvL0wMPPKDTp08n5moAAEghn89sOelMcJKCdfkcyVaA4vF49Mgjj2jr1q364IMPdM0116i0tFSffvqpJGnx4sX605/+pJdeekmbN2/W/v37VdZurpTP59PMmTN18uRJbdmyRc8//7xWr16tBx98MLFXBQBACtTWdq5bJ0Xr8jlSp1Pd5+Tk6LHHHtPs2bM1YMAAVVZWavbs2ZKkv/71r7r00ktVV1enq666Sq+++qquv/567d+/XwMHDpQkPfPMM1qyZIkOHTqkXr16WTonqe4BAE60Zo00Z078+xcVmcFJpuZB6ZJU9z6fT3/4wx90/PhxFRcXa+vWrTp16pSmTp0aKHPJJZdo8ODBqqurkyTV1dVp9OjRgeBEkqZNm6aWlpZAKwwAAOkq3nEj5eVSdbVUX5+5wYldtgfJbt++XcXFxTpx4oQuuOACrVu3TqNGjdK2bdvUq1cv9evXL6j8wIED1dTUJElqamoKCk783/u/i6S1tVWtra2Bzy0tLXarDQBA0pWUmNlgGxutjUPJ9BaTzrAdoIwcOVLbtm1Tc3Oz1q5dq3nz5mnz5s3JqFvAypUrVVFRkdRzAADQWW63map+9mxzPEn7IMX/uaJCGjGCtXdisR2g9OrVSxdddJEkady4cXr//ff1xBNP6KabbtLJkyd19OjRoFaUAwcOKD8/X5KUn5+v9957L+h4/lk+/jLhLF26VPfdd1/gc0tLi4qKiuxWHQCApAhd9O/FF8109qHr7FhpLWEBQVOn86C0tbWptbVV48aNU8+ePbVx40bNmjVLkrRjxw7t3btXxcXFkqTi4mL9+7//uw4ePKi8vDxJ0oYNG5Sdna1Ro0ZFPEdWVpaysrI6W1UAABIu0qJ/v/qVNGCAvUCDBQTPshWgLF26VDNmzNDgwYN17NgxVVZWqqamRq+//rr69u2rO+64Q/fdd59ycnKUnZ2te++9V8XFxbrqqqskSddee61GjRqlW2+9VY8++qiampq0bNkyLViwgAAEAJB2IiVla2yUbrpJWrtWuuWWzh9r9mzzWN0pSLEVoBw8eFC33XabvF6v+vbtqzFjxuj111/Xd7/7XUnS448/rh49emjWrFlqbW3VtGnT9NRTTwX2d7vdeuWVV3T33XeruLhY559/vubNm6eHHnoosVcFAEAS+Vclnj8//GBYwzDHnJSXS6WlsVtOoiV4s3usTNHpPCipQB4UAECq2F1np7o69qJ/NTXmKseJOJaT2Xl+sxYPAAAWxbPOjpVF/6wuDNidFhCMO1EbAADdSbzr7FhJ3mY1wVt3WkCQAAUAAAvsrrNjZ9E/f4I3/1o8nTlWpiBAAQDAAjvdK3YX/fMneGu/b7zHyhQEKAAAWGCne8XjsT8tuKzM3GfQoM4fKxMwiwcAAAt8Pmno0Ojr7OTkmFlkJ02Kv7UjkzPJMosHAIAEi7XOjiT99rfSlCmdP086TyVOFLp4AACwiG6YrkMLCgAANpSVmRldM7UbxikIUAAAsIlumOSjiwcAADgOAQoAAHAcAhQAAOA4BCgAAMBxCFAAAIDjEKAAAADHIUABAACOQ4ACAAAchwAFAAA4DgEKAABwHAIUAADgOKzFAwBAOz4fCwE6AQEKAABnVFVJixZJ+/ad3TZokHTnndKIEQQsXYkABQAAmcHJ7NmSYQRvb2yUli8/+9njkZ54Qior69r6dTeMQQEAdHs+n9lyEhqchNPYaAYyVVXJr1d3RoACAOj2amuDu3Wi8Qcx5eVmYIPkIEABAHR7Xq+98oYhNTSYgQ2SgwAFANDtFRTEt5/dwAbWEaAAALq9khJz8KvLZW+/eAMbxEaAAgDo9txuc2aOZC1IcbmkoiIzsEFyEKAAACBz2vDatWbek2j8AcyqVeRDSSYCFAAAzigrk/bskaqrpcpKqaLC7Pppz+MxAxnyoCSXyzCszPp2lpaWFvXt21fNzc3Kzs5OdXUAABmM1PeJY+f5TSZZAACicLulSZNSXYvuhy4eAADgOAQoAADAcQhQAACA49gKUFauXKkrr7xSffr0UV5enm644Qbt2LEjqMykSZPkcrmCXnfddVdQmb1792rmzJnq3bu38vLy9MADD+j06dOdvxoAAJARbA2S3bx5sxYsWKArr7xSp0+f1k9/+lNde+21+uyzz3T++ecHys2fP18PPfRQ4HPv3r0D/+3z+TRz5kzl5+dry5Yt8nq9uu2229SzZ0/9/Oc/T8AlAQCAdNepacaHDh1SXl6eNm/erIkTJ0oyW1C++c1vatWqVWH3efXVV3X99ddr//79GjhwoCTpmWee0ZIlS3To0CH16tUr5nmZZgwACMV0YOez8/zu1BiU5uZmSVJOTk7Q9hdeeEH9+/fX5ZdfrqVLl+rrr78OfFdXV6fRo0cHghNJmjZtmlpaWvTpp592pjoAgG6qqkoaOlSaPFmaM8d8HzrU3I70FHcelLa2NpWXl+vqq6/W5ZdfHtg+Z84cDRkyRIWFhfr444+1ZMkS7dixQ1VnfkuampqCghNJgc9NTU1hz9Xa2qrW1tbA55aWlnirDQDIMFVV0uzZUmh/QGOjuZ2sr+kp7gBlwYIF+uSTT/TWW28Fbb/zzjsD/z169GgVFBRoypQp2r17t4YPHx7XuVauXKmKiop4qwoAyFA+n7RoUcfgRDK3uVxSeblUWhq+u4duIeeKq4tn4cKFeuWVV1RdXS1P6CIFIcaPHy9J2rVrlyQpPz9fBw4cCCrj/5yfnx/2GEuXLlVzc3Pg1dDQEE+1AQAZprZW2rcv8veGITU0mOVC0S3kbLYCFMMwtHDhQq1bt06bNm3SsGHDYu6zbds2SVJBQYEkqbi4WNu3b9fBgwcDZTZs2KDs7GyNGjUq7DGysrKUnZ0d9AIAwOuNr5y/Wyg0uPF3CxGkpJ6tLp4FCxaosrJS69evV58+fQJjRvr27avzzjtPu3fvVmVlpa677jrl5ubq448/1uLFizVx4kSNGTNGknTttddq1KhRuvXWW/Xoo4+qqalJy5Yt04IFC5SVlZX4KwQApLVo3TBn/u0bU/tyne0WQhcxbJAU9vXcc88ZhmEYe/fuNSZOnGjk5OQYWVlZxkUXXWQ88MADRnNzc9Bx9uzZY8yYMcM477zzjP79+xv333+/cerUKcv1aG5uNiR1OC4AILP88Y+G4fEYhhk6mC+Px9xuGIZx+rT52eUKLuN/uVyGUVRklvOrrg5fNvRVXZ2KK85sdp7ftlpQjBgpU4qKirR58+aYxxkyZIj+8pe/2Dk1AKCbsTo754knzM8uV3BZl8t8X7UquCUk3m4hdC3W4gEAOE6sbhjJ7Ibx+cwgZe1aadCg4HIeT/gpxvF0C6HrEaAAABzH7uycsjJpzx6pulqqrDTfd+2ScnKkNWukmhozmJHMMSwez9kWllAul1RUZJZD6sSdBwUAgGSJpxvG7ZYmTTL/u6pKGj48OMjxeMzuoHi6hdD1aEEBADhOZ7phok0hnjVLeughqbVVWrHCercQul6nFgtMFRYLBIDM5vOZSdMaG8OPQ3G5zGCivj64pcO/X7TuofYGDZLuvFMaMYJMsl2hyxYLBAAgGdxusxtG6jhWJFo3TKyxK6H27zdbUrKyzO4hghPnIEABADiS3dk5kv2pwaEzguAcDJIFADhWWZmZ0dXqgn7xTA1uPyPIP8gWqUeAAgBwtPazc2LxTyGONHYlGhKzOQtdPACAjBFt7EosJGZzFgIUAEBGiTR2JRISszkTXTwAAEeJtnqxVaFjV3buNGfrSCRmSxcEKAAAx6iqMtfgiZQB1o7QsSuXXx7+2KtWkZjNiUjUBgBwhEirF/tbORKR4TURrTOIn53nNwEKACDlYmWAjZQ5FumFTLIAgLRid/ViZD7GoAAAksJOd0o8qxcjsxGgAAASzu5g186sXozMRBcPACCh/INdQ7tsGhvN7VVVHffxZ4CNlFwtNFeJzyfV1Ehr1pjvrKOTeWhBAYBMFa6PRQreNmGCtGVL9DI29vPV1GrTfK8mGgV6WxN0tbaoQF55VaBao0QuSX+4q1Y3/N2rHoPOHsft9eqF+QW6Zrl5nO+oNrDfFk3Q1cYW/WKWV+7aAlUdKtHixdKwxrNl6geV6PHHpbIBNq8t3jKM1E06ZvEAQCYK18eSm2u+Hz58dpvbHdz8EK5MnPudllvn6GyZL2WW6a/Ix2m9IFfHv5Zy2s6W8cktd4zjWDl23NcfWibexCxgmjEAdGuREop0MUOSK+SzwmxLVJnQbUmTyMQs3QzTjAGgu/L5zJYTB/zbMzRYcEXYlqgyXRKcSGd/tuXlDH5JIgIUAMgksRKKIDFIzJJ0BCgAkElIFNK1+HknDQEKAGQSEoV0LX7eSUOAAgCZJFZCESRGaGIWJBwBCgBkErfbnAIrpUWQEjqU1wizLdw+8eyXMP6f66pV5ENJIgIUAMg0ZWXmFNhBg4K35+aezfPhF/qADVfG4n5GSBnDwrF9Ci7zpXJ1WNHP5YpQR1c81xZPGY+HKcZdgEyyAJCJysqk0tIuyyQbyO7aLgPsFwMn6Pl/3qKJIzoe5731Xi1ZZWabndAu2+xbMstsqqg9u1+YOrpC6uNKZJZYK2VoOUk6ErUBADolUl64WPnMwiW7LSoye05onMhMZJIFAHQJn08aOjRy6hWXy+wRqa8P3+gQbrkgGicyl53nN108AIC4xcoL1z6f2aRJHb93u8NvBxgkCwCIm9U8ZeQzg10EKACAuFnNU0Y+M9hFgAIAiFusvHDkM0O8CFAAAHGLlheOfGboDFsBysqVK3XllVeqT58+ysvL0w033KAdO3YElTlx4oQWLFig3NxcXXDBBZo1a5YOHDgQVGbv3r2aOXOmevfurby8PD3wwAM6ffp0568GANDlIuWFI58ZOsNWgLJ582YtWLBA77zzjjZs2KBTp07p2muv1fHjxwNlFi9erD/96U966aWXtHnzZu3fv19l7X47fT6fZs6cqZMnT2rLli16/vnntXr1aj344IOJuyoAQJcqK5P27JGqq6XKSvO9vp7gBPHrVB6UQ4cOKS8vT5s3b9bEiRPV3NysAQMGqLKyUrNnz5Yk/fWvf9Wll16quro6XXXVVXr11Vd1/fXXa//+/Ro4cKAk6ZlnntGSJUt06NAh9erVK+Z5yYMCAED6sfP87tQYlObmZklSTk6OJGnr1q06deqUpk6dGihzySWXaPDgwaqrq5Mk1dXVafTo0YHgRJKmTZumlpYWffrpp52pDgAAyBBxJ2pra2tTeXm5rr76al1++eWSpKamJvXq1Uv9+vULKjtw4EA1NTUFyrQPTvzf+78Lp7W1Va2trYHPLS0t8VYbAACkgbgDlAULFuiTTz7RW2+9lcj6hLVy5UpVVFQk/TwAANLPwxni6uJZuHChXnnlFVVXV8vj8QS25+fn6+TJkzp69GhQ+QMHDig/Pz9QJnRWj/+zv0yopUuXqrm5OfBqaGiIp9oAgBiqqsy1dSZPlubMMd+HDjW3A13JVoBiGIYWLlyodevWadOmTRo2bFjQ9+PGjVPPnj21cePGwLYdO3Zo7969Ki4uliQVFxdr+/btOnjwYKDMhg0blJ2drVGjRoU9b1ZWlrKzs4NeAIDE8q9KHLq2TmOjub19kOLzSTU10po15rvP15U1RXdgaxbPPffco8rKSq1fv14jR44MbO/bt6/OO+88SdLdd9+tv/zlL1q9erWys7N17733SpK2bNkiyZxm/M1vflOFhYV69NFH1dTUpFtvvVU//vGP9fOf/9xSPZjFAwCJZWdV4vXrpUWLgst6PGbCNqYVIxo7z29bAYorQi7j5557TrfffrskM1Hb/fffrzVr1qi1tVXTpk3TU089FdR988UXX+juu+9WTU2Nzj//fM2bN0+PPPKIzjnH2pAYAhQASAz/eJONG6WHH45dvqJCWrHCXKW4Pf/jIVZiNsa3dG9JC1CcggAFADqvqqpjS0gsOTnSkSPhv2vfyhIu6Ah3Plpeupcuy4MCAEhPkcabxBIpOJHMVpWGBrOFxOr5wo1vASQCFADIWJEGsvp8ZkuGnfZzl8tsPbHC6+1Yj0jn828rL2egLYIRoABABoo2Xbi21l7LiX98yaJF1soXFAR/jnW+aC0v6L4IUAAgw8TqTlm/3t7x/KsS/+u/mv8dYb6EXC6pqMgc+NpeaItKJFbLoXsgQAGADGKlO+WFF6wda9my4FWJ3W5zQKvUMUjxf161quMA2dAWlUislkP3QIACABnESnfKoUPSgAGxW0JWrJAmTQoOOMrKzNaUQYOC9/G3soSbjVNSEl/LC7o3AhQAyCBWu0nmzjXf7bSE+JWVSXv2mK0rlZXBrSzhxNvygu6NAAUAMojVbpLSUvstIe253Wbryi23dGxlCSeelhd0byRqA4AM4k9Z39gYfhxKaDK1rs7sSibZ7s3O89tabnkAQFrwd6fMnm0GI+2DlHDdKf6WkK6sX1eeD+mLLh4AyDB0pyAT0IICABmorMwcZxLanSKZWWXtdrHQNYOuRoACABkqtDsl3sX6WOQPqUAXDwB0A/Eu1scif0gVZvEAQIbzz+yJlMAtdGZPZ/cDIrHz/KYFBQAyXLyL9bHIH1KJAAUAMly8i/WxyB9SiQAFADJcvIv1scgfUokABQAyXLyL9bHIH1KJAAUAMly8i/WxyB9SiQAFALqBeLPLkpUWqcI0YwDoRuLNCEsmWSQCiwUCAMKKd7E+FvlDV6OLBwAAOA4BCgAAcBwCFAAA4DiMQQGAFLMyADVRZYB0QYACAClUVSUtWhS85o3HY+Yf8U/hTVQZIJ0wzRgAUqSqSpo921x0rz1/ErS1a833RJQhSIET2Hl+E6AAQAr4fNLQoZFXC3a5ziZH62wZj0eqr6e7B6ln5/nNIFkASIHa2shBhWS2huzbl5gyDQ3m+YB0QoACACng9Wb2+YDOIkABgBQoKMjs8wGdRYACAClQUmKODQldJdjPP3YkEWWKiszzAemEAAUAUsDtNqcASx2DC//nJ55ITJlVqxggi/RDgAIAKVJWZk4B9s/E8fN4zk4NTlQZIN0wzRgAUoxMsugukjrN+M0339T3vvc9FRYWyuVy6eWXXw76/vbbb5fL5Qp6TZ8+PajMkSNHNHfuXGVnZ6tfv36644479NVXX9mtCgA4ms8n1dRIa9aY7z5f+HJutzRpknTLLeZ7uKAiUWWAdGE7QDl+/LjGjh2r3/zmNxHLTJ8+XV6vN/Bas2ZN0Pdz587Vp59+qg0bNuiVV17Rm2++qTvvvNN+7QHAoaqqzERskydLc+aY70OHmtsBxGZ7LZ4ZM2ZoxowZUctkZWUpPz8/7Heff/65XnvtNb3//vv61re+JUl68skndd111+mXv/ylCgsL7VYJABwlUgr7xkZzO+NCgNiSMki2pqZGeXl5GjlypO6++24dPnw48F1dXZ369esXCE4kaerUqerRo4fefffdZFQHABIuUveNz2cu2hdudJ9/W3l55O4eAKaEr2Y8ffp0lZWVadiwYdq9e7d++tOfasaMGaqrq5Pb7VZTU5Py8vKCK3HOOcrJyVFTU1PYY7a2tqq1tTXwuaWlJdHVBoCzwo02lQLb3txZoHnPTtCQ/VtUIK+8KlD9oBI9/rh0YWOtvrPP3Pa2JuhqnS1TqxLJkC5sqNWOFV6NmtLx2CookCZMkLZsiXh+y2UYJYs0lvAA5eabbw789+jRozVmzBgNHz5cNTU1mjJlSlzHXLlypSoqKhJVRQCIrKrKbAJpv8BNbq75fqY1eKKknXLrHJ1tBvmyMVe6Ueqvw/KPujsdWkbmcfrrsPSwzFfIsSWZQUX7JpZ4y3g8ZpIU+pOQhpKeB+XCCy9U//79tWvXLklSfn6+Dh48GFTm9OnTOnLkSMRxK0uXLlVzc3Pg1dDQkOxqA+iO/INHQlffO3w4+MEvya3gPppcHVau7JcJd+wO/T/xlvEPemFkLtJQ0gOUffv26fDhwyo4sxBEcXGxjh49qq1btwbKbNq0SW1tbRo/fnzYY2RlZSk7OzvoBQAJFW3wSBihmeVdEbbFKpNUDHpBGrMdoHz11Vfatm2btm3bJkmqr6/Xtm3btHfvXn311Vd64IEH9M4772jPnj3auHGjSktLddFFF2natGmSpEsvvVTTp0/X/Pnz9d577+ntt9/WwoULdfPNNzODB0Dq1NZ2bDnJBIYhNTSY1wekEdsBygcffKArrrhCV1xxhSTpvvvu0xVXXKEHH3xQbrdbH3/8sb7//e/r4osv1h133KFx48aptrZWWVlZgWO88MILuuSSSzRlyhRdd911+s53vqP/+q//StxVAYBdXm+qa5BcmX59yDi2B8lOmjRJ0bLjv/766zGPkZOTo8rKSrunBoDkOdMNnbEy/fqQcVgsEAAkc0qux9NxSeB053JJRUVnpyEDaYIABQAkc9ruE0/IMKS2kKGsxplX6LZYZUJFOk48x7Z0fn+wtWoV+VCQdghQAOCMKpVpttaqUYOCtn95ZoJwez6FPPBzc+XKDS4TGhSEO46VY8dbRh4PefWRtlxGtAElDmVnuWYAsMLnMxfz27dP6iGfSlQbnAFWCtrWPkvskscL9M17I2d7bWv06qbyAlV92fE4tSqRS9IP+tdqYJtXnx4p0FthMtC6JF3ft1bnNUfJUnvm2E8ta5ellpYTOIid5zcBCgDIXE9n8uT49q2slG65pfPHrqiQVqww/7v9/5n9PTX/93/SffeZ+dfC/Z/b5TIbTerriUvgTHae33TxAIA6Nws31gQZq8ceMcLskRkU3MMU6Kn54Q/NzPVSx7G8DDdBpiFAAQDFNwvX6gQZq8cuKDCHi+zZI1VXmy0z1dVmi4h/GElZWfQghuEmyBR08QCAzo5BidR9EsrfYmElKIh17Hi6ZsItuEzLCZyOLh4AsOnMLGNJ1lKh2GmxiHbseLtm3G5p0iRz7MukSQQnyDwEKABwRqTuk6Ii6cUXI3e7dObYdM0A4dHFAwAhktl9QtcMujM7z2/ba/EAQKbzd5+k27GBTEIXDwAAcBxaUABkNLpUgPREgAIgY1VVSYsWmenr/Twec0YNg1IBZ6OLB0BGqqqSZs8ODk4kMxfJ7Nnm9wCciwAFQMbx+cyWk3BzFP3bysvNcgCciQAFQMapre3YctKeYUgNDdKTTxKkAE5FgAIg41hdnG/xYjMFfaK6e3w+c+XiNWvMd4IfIH4EKAAyjp2F/xI1JqWqygx2Jk+W5swx3xMZ/ADdDQEKgLRgp3WipMScrWNlTZ1EjElhQC6QeAQoABzPauuEP4h58UVp/nxzm9UgpaHBHLtiFwNygeQgDwoAR/O3ToQGAP7WCf9Ce+FynuTmmu+HD1s7l9WxK+1ZHZBbW0uKe8AOAhQAjhWrdcLlMlsn2tqkG2/sWO7IEXPb7bdLq1fHPp+dsSt+VoOaeIIfoDujiweAY1ltnbjnnuhBzBtvRB+T4nJJRUXm2BW7rAY18QQ/QHdGgALAsay2Ohw6FPk7wzCDnEhjUvyfV62Kb42eWANyOxP8AN0ZAQoAx0pkq8OIEeZ4lUGDgrd7PGfHscTD7TbX9pESH/wA3RkBCgDHstI6MWCAtWMVFJhByJ49UnW1VFlpvtfXd37hwLKy5AQ/QHfGIFkAiePzmQNHvF4zIvD3a7Tb5hs/Qduf3aKvd3vVe3iBRt9TYrYutN9vwgRpyxa5vV69ML9A1yw3j/Md1apAXnlVoC2aoKuNLVp5i1f/UVmgdV+WyJBU0q5MrUrkklQ2oFYTG71STYHcEyZokrZI8koqkFQi30lp+1O1wXXqZa/Jo6xMKi3tePm0nADxcRlGuKFlztbS0qK+ffuqublZ2dnZqa4OAMnyPF+f3HLrbFKQIz1ydX5vKeurs2UMt1uudolDWi/I1fGvpZy2yMf5Uua5+utw1G1yu4OSkoQ79n63R3vve0JXPUrTB5BIdp7fBCgAOi9SspIwDEmukM8Ksy20VyfcflaOE7otXH1Cy7Sd+fTeA2sJUoAEsvP8ZgwKgM6JlqwkjNBgwRVhm5X9rBwnViLZcGV6nAlbin5VLt9JUsACqUCAAqBzYiUrSVM9ZGiQr0Hbn4oj/z2ATiNAAdA5GZ4i9evdmX19gFMRoADonAxPkdp7eGZfH+BUBCgAOidWspI01SaXGt1FGn0PKWCBVCBAAdA50VKphhE6lNaIsC0RZawIt59/Fk/Dfats50MBkBi2A5Q333xT3/ve91RYWCiXy6WXX3456HvDMPTggw+qoKBA5513nqZOnaqdO3cGlTly5Ijmzp2r7Oxs9evXT3fccYe++uqrTl0IgBSKlEo1N/dsLpQzfAp+4H+pXB1WcsqEO39o5rSTF+Tqbz2Cy3jdHqYYAylmO5Ps8ePHNXbsWP3oRz9SWZj8zY8++qh+/etf6/nnn9ewYcP0s5/9TNOmTdNnn32mc889V5I0d+5ceb1ebdiwQadOndI//dM/6c4771RlZWXnrwhAakRKpSoFbXONn6Bt7TLJ7ioo0f33S8Maz2aAfVsTdLW2BGWElcwssT9f6NXpAQWa9+wEDdl/tsweT4l+9Ssza2y08/uz1Po/Z5WU6ByftC0kk+wgWk6AlOpUojaXy6V169bphhtukGS2nhQWFur+++/XT37yE0lSc3OzBg4cqNWrV+vmm2/W559/rlGjRun999/Xt771LUnSa6+9puuuu0779u1TYWFhzPOSqA3ILD6f9OST0uLFsctWV0uTJoXPqk9aecDZUpaorb6+Xk1NTZo6dWpgW9++fTV+/HjV1dVJkurq6tSvX79AcCJJU6dOVY8ePfTuu+8msjoA0oTbLd17b+yFAYuKzjaKuN1moHLLLeY7wQmQWRK6WGBTU5MkaeDAgUHbBw4cGPiuqalJeXl5wZU45xzl5OQEyoRqbW1Va2tr4HNLS0siqw0giay2dPjH2s6ebQYj7dt2/UHLqlUEIkB3kRazeFauXKm+ffsGXkVFRamuEgALqqqkoUOlyZOlOXPM96FDze3hRBpr6/GY28MMewOQoRIaoOTn50uSDhw4ELT9wIEDge/y8/N18ODBoO9Pnz6tI0eOBMqEWrp0qZqbmwOvhoaGRFYbQBL41w8MzYLf2Ghujxak7NljjjWprDTf6+sJToDuJqEByrBhw5Sfn6+NGzcGtrW0tOjdd99VcXGxJKm4uFhHjx7V1q1bA2U2bdqktrY2jR8/Puxxs7KylJ2dHfQC4FzR1g/0bysvN8uFw/gSALbHoHz11VfatWtX4HN9fb22bdumnJwcDR48WOXl5Xr44Yc1YsSIwDTjwsLCwEyfSy+9VNOnT9f8+fP1zDPP6NSpU1q4cKFuvvlmSzN4ADhfrPUDDUNqaDDLTZrUZdUCkEZsBygffPCBJk+eHPh83333SZLmzZun1atX61/+5V90/Phx3XnnnTp69Ki+853v6LXXXgvkQJGkF154QQsXLtSUKVPUo0cPzZo1S7/+9a8TcDkAnMDq+oEZvs4ggE7oVB6UVCEPCuBsNTXmgNhY/DlNAHQPKcuDAgBS7PUDQ3OaAEAoAhQACePzma0nL74ozZ9vbgsNUshpAsCKhCZqA9B9VVWZM3faD471r9N3+PDZbR6PGZwwbRhANAQoADrNn/MkdETbkSPmtooKacQI1swBYB0BCoBOiZXzxOWS/vu/zWRrBCYArGIMCpDh/ONC1qwx3yMlR4uXnZwnAGAVLShABgs3LsTjMRflS9QYEHKeAEgGWlCADBXvWjh2FRQkthwASAQoQEbq7Fo4dpDzBEAyEKAAGaiz40LsjFtxu80uI4mcJwAShwAFcKjODG7tzLiQqipp6FAzVf2cOeb70KHRu4TKyqS1a6VBg4K3ezzmdnKeALCLQbKAA1kd3Orzma0gXm9wjpF4x4VEymfiH7cSLdgoK5NKS8PXBwDsYrFAwGEiBQn+7hJ/kBAtiCktNVs9GhvDj0Nxucyy7XOT+HzmPpG6hiLtQ0ACwCoWCwTSlNXBrWvXRp+hs369/XEhdsetxNMVBABWEaAADmI1SLjnnthBTGmpvXEhdsatdNUUZgDdFwEK4CBWg4RDhyJ/176lo6xM2rNHqq6WKivN9127pJycjoNvrY5bycvruinMALovBskCDpLIZGb+YMftliZNMv+7qkoaPjzyuBWPJ/a4Fcl6V5D/vABgFy0ogINYSXo2YIC1Y0WaoRPvuBXDkH78Y+nll62dn9T2ADqDAAVwECtJz37zG/uZW60Ovo00biUnR8rNlZYvl/7zP61dC6ntAXQGAQrgMLGSnv3wh8mbobNihRmM7N59dtxKRYV05Ih0+LC1+pPaHkAiEKAADhRucGt9/dmZN3Yzt1rtbnn4YXO68PDhZlBy443Sb38bvuUlHFLbA0gUBskCDtV+cGs4djK32u1u8Y9LWbEiestLKI/HDE5IbQ+gs8gkCzhAsjOy+rPERpqhE47LJX3jG2ZLSiwLF0qzZpFJFkB0ZJIF0khXZGSNNvg2EsOwFpxIZnAyaRLBCYDEoYsHkMI3YUjB2yZMkLZs6XyZdtveW+/Vk6sK1KQJ+kdtUYG88qpAb+0r0Y2zpE0VtZo4IjHnL2v1qmZFgeY9O0FD9p89V63MMiWqDWx7WxN09Zn6HO9ToL8cK5ERUqZWJXJJKhtQq4mNXqmGxXgAJA5dPEC4Vfdyc8339lNX3O7g9Kjxlgmz7bTcOkdn9/tSZpn+Svz5DbdbLl/0c1mpT9g6hltyGQDOsPP8JkBB93Yme5lhGGrf82FIstgTkhCh5/P/UXZFHcKdy0p9wtYxdMllAGiHMSiAFWeyl4UGJ1LXBifhzufqwjqEO5eV+oStI4vxAEgQAhR0X2eyl3V1MJLx2i/GAwBxIkBBt9XWyGIxScViPAA6gQAF3dbHh1gsJqlYjAdAJxCgoNv664ASNcijNjp5EovFeAAkAAEKuq38QW4tkpm9LDRIMXR2loodoftEOk64ctE+J/r8ScNiPAAShAAFKeHzSTU10po15nsqJnyUlEjve8r0Q61Vo4JX3ftSuTp8Js9HQOgDNzf3bJ6RM3wKLhPuOK0X5OpvPaLv5wpz7ESd38pxLJUJty3SaoUAYBOZZNHlwuVFS0V+L3/699mzy7TeKNV32mVJfetMdlUrmVy3PVmrXyzumIE1NEvrU8u8+rJnga5Z3jEr65Yz+/2i3Ktvl9rLErtxRa3+++HY5//5Qq8mzEpORtykLSIEoNsiUVs7yV6wLVXiva5k/DzO5EXrsGBdKvN7hQuYioqk//gPacCA2NcfayE+l8sMwHbtkoYPj7w6sL9cfb29n3NNjbl+TyzV1dFXRwaAZLP1/DbSUHNzsyHJaG5uTtgx//hHw/B4DMN8xJgvj8fcns7iva5k/DxOn+54zPYvl8swiorMcl3t9GnDqK42jMpK8/2ll+xd/x//aNbf5ep4TS6X+X11deRrb/+qrrZfd4+n47md8HMFgPbsPL8THqAsX77cPy4v8Bo5cmTg+7///e/GPffcY+Tk5Bjnn3++UVZWZjQ1Ndk6R6IDFP/DJdz/2P0Pl3QU73Ul6+eRrAd0LKHBR6wHdaTr97/Ky8MfJ1xQV1R09udVWWnt+isr7V+jlQAJAFIt5QHKZZddZni93sDr0KFDge/vuusuo6ioyNi4caPxwQcfGFdddZUxYcIEW+dIZIDi5H/Vd0a815XMn0cyH9CR2G0JinX9sY4TLRhKdoAWK0ACgFRLeYAyduzYsN8dPXrU6Nmzp/HSSy8Ftn3++eeGJKOurs7yORIZoKTqX/XJZvW6li0LfpAm8+fR1T/reFqCrNYxntaJruiKsdtaBABdyc7zOynTjHfu3KnCwkJdeOGFmjt3rvbu3StJ2rp1q06dOqWpU6cGyl5yySUaPHiw6urqklGVmKxm43ZK1m6r03Ot1vfhh80BlkOHmoNFk/nzKCkxB4G6IuRFS2R+rzPrAMowOn7n3xZuPTs71xXtOOH4Zw1JHX8GiUof4nabA2FvucV8z4RB3gC6p4QHKOPHj9fq1av12muv6emnn1Z9fb1KSkp07NgxNTU1qVevXurXr1/QPgMHDlRTU1PEY7a2tqqlpSXolShWs3E7IWt3VZUZSEyeLM2ZExxYhLJb38ZGc3bNzp3Wysfz8+iKB7TfmXUAIzKM8OvZ2b2uSMeJpKzMnKk0KDjtCulDACBEwvOgzJgxI/DfY8aM0fjx4zVkyBC9+OKLOu+88+I65sqVK1VRUZGoKgbx/6s+1hTRVGftjjQ91x9YhD7cYl1XKMMwr/W3v03uz8P/gA6XB2XVqugPaDvTnuNtCbL7c7N7Psm8xtJS+1O4M3UaPACEk/RMsv369dPFF1+sXbt2KT8/XydPntTRo0eDyhw4cED5+fkRj7F06VI1NzcHXg0NDQmrn91/1aciA2o83RXRrisSwzCDhvnzw++XqFaOsjJpzx4zL0dlpfleXx89OLHTeiRZbwn57LPg+xjPzy3W+cL9ztjtirF7/QCQ9pI9IObYsWPGN77xDeOJJ54IDJJdu3Zt4Pu//vWvKR0k62dlBkSqcqV0ZnBpuDpbmUXjhBkh/gGf5eX2B6nGGpAa+gq9j1Z/brEGtibidyZTp8ED6H5SOovn/vvvN2pqaoz6+nrj7bffNqZOnWr079/fOHjwoGEY5jTjwYMHG5s2bTI++OADo7i42CguLrZ1jmQEKIYRfQZEKh8SnZ2e67+uZcvsBTqpnBGSiAAhUm4Qq8FOaIAULseIZBgVFcn7ncnUafAAuqeUBig33XSTUVBQYPTq1csYNGiQcdNNNxm7du0KfO9P1PaNb3zD6N27t/GDH/zA8Hq9ts6RrAAlklQ/JOy2oEQKLNIl42isRGnRrj3csay2IMUKdkKPk5trvsK1jiTqdyZTp8ED6J5SGqB0ha4OUFL9kLATWMTqUnB6xlE7idLav6Ild4u3BSnScSorzVaTaK0jFRWJ+Z1JRXI7AEiWlOdByTSpzpVidSDv+vXmjJ7Q6bX+mT5VVc6f5hprenAk0Qap+gekjhpl7ViR7qP/ODfeaM52MoyOZfzb/Pcr3nP5pdM0eABIJAIUC5zwkIgVWJSWWp/pE88smq5iN8izk9wtUffRSo6VI0cSc66uTG4HAE6S8DwomcgpuVKi5c+oqTn70Owhn0pUqwJ55VWB3tYEXW1sUUGDV9ufLNA37y2RW9Ik1UrySiqQfBOk2i3BB5Y6nix024QJ0pYY+9koM/Yzr/5RBaqVWabDdWhL4PNbKpEM6fc/rpX7xdjHntjo1ez+BVr3ZYmMkGPXqkSGy23pPloNonJypL/9rXO/M/7Ws9mzzX3aHyvRye0AwEkIUKJonxhr/nxpxYrUPyT83Qyh/A/NH6hKT2iRinT2n/in5dY5OpPoY7Gkh3PN/z58OPjA7ROp5IYpE26blf1slBklqUbSlzLL9NfZMkHXIelIj1yd31vKWm6tjj0kvRTh2A3yqNx4QnNXlcW8j1ZbYhYtSszvTGeS2wFAunIZRrh/3zlbS0uL+vbtq+bmZmVnZyflHFVVHR8I4Z59RUXOeEjU1Ei/nlyltZotyQjquzMk2cg55gj+X0pXyLZonztz7Da55JLk+mPsgTg+n5kkLVaLWn29OS4o9Pco3t8ZMskCSHd2nt8EKGFESivv/5dwRYU0YoSzHhK+kz4d6D1U+b59DCyKV/vIIsZN9f+OSOFbR9oPOCawAACTnec3XTzt+Xzy1dRq03yvJhodxzzUGiXqIemT/6zVsse96mF17IaVMRidHLvh3rhRhb44pr/gLMM4u/JfuH60dux0u0TqlgMAREaA4nemT8e9b5/+88ym0DEPgbELhw5L/9+ZjYkag5Gba3ZZtNtmuN1y2T02Os/iKNh4F/0DAMRGgCJF7NNxK/jBn9tuUGVAaHBwOL4yRpz7EZwkgY354rSOAEByEKBEWSo4dABmMgeahjt2ug1sTXtdNV8cABAT4ynjTV2aYULDs7QbOd1ZJBUBAEchQElWfnonCX3g5uaeHc9yhk/BZY70yFXrBcFllJsrI2Q/w8KxrZw/YWXi3c8puf4BAJLo4snsRUyWLZOmTIk6G+i99V4tWVWgt0KztLaVSF9JmypqNXGEuV/VoRItXiwNa5eBdU/eBFVM26IRF3jVe3iBRt9jHnv7U7X6eveZbf88Qe53E5dttn0Zny/kXPeUmPFIPLOoaDkBAMcgD0qsrFvpyGI+D/+lR+rhCk04Fi43TKhwE408HjNde6IbJ8Il0/N4pF/9ShowgNgDAJyGRG12Rcq6lSDhMqDK4rZYZToIlyksgpoaafLkqEUkSW+8Id1+e/xDdWxUybJIyfTCSVaABACwx87zmzEoUuSlghM0LiJ0fMeXytVh5cbcZmW/Due3MZbC6vCb9gsRxiN0NeXOijLxKqzGRjOYqarq/LkBAF2DMSh+4bJudWKlXl9NrRbd6NUnR8JkpA2zUq+V1Xvbl3lqmVejphTIN36Ctj+7JXgMRi9r/RldOfwmVpJWO+ng7U68MgyzFae83LzFdPcAQBow0lBzc7MhyWhubk51VcI6fdowHn/cMMxHo71X//6GkZMT+XuXyzCKisxz/PGPhuHxBH/v8ZjbrdbT4zGPGe1cb7wR37WEe1VWdqyH3euorIz//NXV8d5VAEBn2Xl+08WTYFVV5sDTxYvt7edyma9nn5V++9uzn0PLSGaqDv+g1dCWBDvdGW63OTaj/bHDnWvSJLPnKLRMPA4cCO7m8Y8lsXMdnWn56Q6zygEgExCgdJLPZ47RWLNGeuih8A9bK9oPHYk0JMZfprQ08hgMu+M9Yp2rrCx6IGPX4sVmAFdVFX0sSbTrKCmJP2DK5FnlAJBJmMXTCeGmudoxYID0+ONmcBBuzEWkcRlWZ99UV1tfJ8bKGJDOXq+fP7BYsUJavjx2+XDXYXfilcWZ1wCAJLLz/GaQbJzsTHMN5X9AP/NM9Mk2kRais9pNYac7w8qid6HjiHfuNLuj2gcs4fKghPIPWvW3ysQS7jr8LT9WAiay2ANA+iFAiYPdaa6hPB7zYRlvXg6r3RTJ6M4IDWT+9V87trxI0pNPRh+HYxjSkSPWzhnpOsJNvPryS/O8ocnbOvPzBgB0PQKUOHRmfcHHH5fuvbdz/5L3j8GIlPy2KxfljdTyMnCgtf1zcqS//S3+6wh3/h/8gCz2AJDuGCQbh3hmgrhcUlFR54MTyfrsm1Q+lK223ixaZL4n8jr8Qcstt5jvBCcAkH4IUOJgt+skGUGDldk3qRRrpo0/YPvXf3X2dQAAUoNZPHGwu75gUVHyxkDYycDa1SLNtAm3No+TrwMAkBgsFtgFoj18DUOqqJBGjOBhG25qcjIDNgCAcxGgdBEevtbQOgIAkAhQuhQPXwAArCFRWxeykuAMAADYwyweAADgOAQoAADAcQhQAACA4xCgAAAAxyFAAQAAjkOAAgAAHIcABQAAOA4BCgAAcBwCFAAA4DhpmUnWn52/paUlxTUBAABW+Z/bVlbZScsA5dixY5KkoqKiFNcEAADYdezYMfXt2zdqmbRcLLCtrU379+9Xnz595HK5EnrslpYWFRUVqaGhIeULESYD15f+Mv0aub70l+nXmOnXJyXvGg3D0LFjx1RYWKgePaKPMknLFpQePXrI4/Ek9RzZ2dkZ+4sncX2ZINOvketLf5l+jZl+fVJyrjFWy4kfg2QBAIDjEKAAAADHIUAJkZWVpeXLlysrKyvVVUkKri/9Zfo1cn3pL9OvMdOvT3LGNablIFkAAJDZaEEBAACOQ4ACAAAchwAFAAA4DgEKAABwnG4ZoPzmN7/R0KFDde6552r8+PF67733opZ/6aWXdMkll+jcc8/V6NGj9Ze//KWLamrPypUrdeWVV6pPnz7Ky8vTDTfcoB07dkTdZ/Xq1XK5XEGvc889t4tqbM+KFSs61PWSSy6Juk+63Du/oUOHdrhGl8ulBQsWhC3v9Pv35ptv6nvf+54KCwvlcrn08ssvB31vGIYefPBBFRQU6LzzztPUqVO1c+fOmMe1+zecTNGu8dSpU1qyZIlGjx6t888/X4WFhbrtttu0f//+qMeM53c9WWLdw9tvv71DXadPnx7zuE65h7GuL9zfo8vl0mOPPRbxmE66f1aeCydOnNCCBQuUm5urCy64QLNmzdKBAweiHjfev107ul2A8n//93+67777tHz5cn344YcaO3aspk2bpoMHD4Ytv2XLFt1yyy2644479NFHH+mGG27QDTfcoE8++aSLax7b5s2btWDBAr3zzjvasGGDTp06pWuvvVbHjx+Pul92dra8Xm/g9cUXX3RRje277LLLgur61ltvRSybTvfO7/333w+6vg0bNkiSfvjDH0bcx8n37/jx4xo7dqx+85vfhP3+0Ucf1a9//Ws988wzevfdd3X++edr2rRpOnHiRMRj2v0bTrZo1/j111/rww8/1M9+9jN9+OGHqqqq0o4dO/T9738/5nHt/K4nU6x7KEnTp08PquuaNWuiHtNJ9zDW9bW/Lq/Xq9/97ndyuVyaNWtW1OM65f5ZeS4sXrxYf/rTn/TSSy9p8+bN2r9/v8rKyqIeN56/XduMbubb3/62sWDBgsBnn89nFBYWGitXrgxb/sYbbzRmzpwZtG38+PHGP//zPye1nolw8OBBQ5KxefPmiGWee+45o2/fvl1XqU5Yvny5MXbsWMvl0/ne+S1atMgYPny40dbWFvb7dLp/kox169YFPre1tRn5+fnGY489Fth29OhRIysry1izZk3E49j9G+5KodcYznvvvWdIMr744ouIZez+rneVcNc3b948o7S01NZxnHoPrdy/0tJS45prrolaxqn3zzA6PheOHj1q9OzZ03jppZcCZT7//HNDklFXVxf2GPH+7drVrVpQTp48qa1bt2rq1KmBbT169NDUqVNVV1cXdp+6urqg8pI0bdq0iOWdpLm5WZKUk5MTtdxXX32lIUOGqKioSKWlpfr000+7onpx2blzpwoLC3XhhRdq7ty52rt3b8Sy6XzvJPP39fe//71+9KMfRV0UM53uX3v19fVqamoKukd9+/bV+PHjI96jeP6Gnaa5uVkul0v9+vWLWs7O73qq1dTUKC8vTyNHjtTdd9+tw4cPRyybzvfwwIED+vOf/6w77rgjZlmn3r/Q58LWrVt16tSpoPtxySWXaPDgwRHvRzx/u/HoVgHKl19+KZ/Pp4EDBwZtHzhwoJqamsLu09TUZKu8U7S1tam8vFxXX321Lr/88ojlRo4cqd/97ndav369fv/736utrU0TJkzQvn37urC21owfP16rV6/Wa6+9pqefflr19fUqKSnRsWPHwpZP13vn9/LLL+vo0aO6/fbbI5ZJp/sXyn8f7NyjeP6GneTEiRNasmSJbrnllqgLsNn9XU+l6dOn63//93+1ceNG/eIXv9DmzZs1Y8YM+Xy+sOXT+R4+//zz6tOnT8zuD6fev3DPhaamJvXq1atDwBzruegvY3WfeKTlasaIbcGCBfrkk09i9nsWFxeruLg48HnChAm69NJL9eyzz+rf/u3fkl1NW2bMmBH47zFjxmj8+PEaMmSIXnzxRUv/okk3//M//6MZM2aosLAwYpl0un/d3alTp3TjjTfKMAw9/fTTUcum0+/6zTffHPjv0aNHa8yYMRo+fLhqamo0ZcqUFNYs8X73u99p7ty5MQeiO/X+WX0uOEW3akHp37+/3G53h9HJBw4cUH5+fth98vPzbZV3goULF+qVV15RdXW1PB6PrX179uypK664Qrt27UpS7RKnX79+uvjiiyPWNR3vnd8XX3yhN954Qz/+8Y9t7ZdO989/H+zco3j+hp3AH5x88cUX2rBhg+3l62P9rjvJhRdeqP79+0esa7rew9raWu3YscP236TkjPsX6bmQn5+vkydP6ujRo0HlYz0X/WWs7hOPbhWg9OrVS+PGjdPGjRsD29ra2rRx48agf4W2V1xcHFRekjZs2BCxfCoZhqGFCxdq3bp12rRpk4YNG2b7GD6fT9u3b1dBQUESaphYX331lXbv3h2xrul070I999xzysvL08yZM23tl073b9iwYcrPzw+6Ry0tLXr33Xcj3qN4/oZTzR+c7Ny5U2+88YZyc3NtHyPW77qT7Nu3T4cPH45Y13S8h5LZojlu3DiNHTvW9r6pvH+xngvjxo1Tz549g+7Hjh07tHfv3oj3I56/3Xgr36384Q9/MLKysozVq1cbn332mXHnnXca/fr1M5qamgzDMIxbb73V+H//7/8Fyr/99tvGOeecY/zyl780Pv/8c2P58uVGz549je3bt6fqEiK6++67jb59+xo1NTWG1+sNvL7++utAmdDrq6ioMF5//XVj9+7dxtatW42bb77ZOPfcc41PP/00FZcQ1f3332/U1NQY9fX1xttvv21MnTrV6N+/v3Hw4EHDMNL73rXn8/mMwYMHG0uWLOnwXbrdv2PHjhkfffSR8dFHHxmSjF/96lfGRx99FJjB8sgjjxj9+vUz1q9fb3z88cdGaWmpMWzYMOPvf/974BjXXHON8eSTTwY+x/ob7mrRrvHkyZPG97//fcPj8Rjbtm0L+rtsbW0NHCP0GmP9rjvl+o4dO2b85Cc/Merq6oz6+nrjjTfeMP7hH/7BGDFihHHixImI1+ekexjrd9QwDKO5udno3bu38fTTT4c9hpPvn5Xnwl133WUMHjzY2LRpk/HBBx8YxcXFRnFxcdBxRo4caVRVVQU+W/nb7axuF6AYhmE8+eSTxuDBg41evXoZ3/72t4133nkn8N0//uM/GvPmzQsq/+KLLxoXX3yx0atXL+Oyyy4z/vznP3dxja2RFPb13HPPBcqEXl95eXngZzFw4EDjuuuuMz788MOur7wFN910k1FQUGD06tXLGDRokHHTTTcZu3btCnyfzveuvddff92QZOzYsaPDd+l2/6qrq8P+Tvqvoa2tzfjZz35mDBw40MjKyjKmTJnS4bqHDBliLF++PGhbtL/hrhbtGuvr6yP+XVZXVweOEXqNsX7Xu1K06/v666+Na6+91hgwYIDRs2dPY8iQIcb8+fM7BBpOvoexfkcNwzCeffZZ47zzzjOOHj0a9hhOvn9Wngt///vfjXvuucf4xje+YfTu3dv4wQ9+YHi93g7Hab+Plb/dznKdOTEAAIBjdKsxKAAAID0QoAAAAMchQAEAAI5DgAIAAByHAAUAADgOAQoAAHAcAhQAAOA4BCgAAMBxCFAAAIDjEKAAAADHIUABAACOQ4ACAAAc5/8HQsJCnv9Bhc4AAAAASUVORK5CYII=",
      "text/plain": [
       "<Figure size 640x480 with 1 Axes>"
      ]
     },
     "metadata": {},
     "output_type": "display_data"
    }
   ],
   "source": [
    "# Gives the average of all the data points that fall within a particular leaf\n",
    "from sklearn.tree import DecisionTreeRegressor\n",
    "\n",
    "X = X.reshape(-1, 1)\n",
    "\n",
    "tree = DecisionTreeRegressor(max_depth=10, min_samples_leaf=10)\n",
    "tree.fit(X, Y)\n",
    "\n",
    "y_pred = tree.predict(X)\n",
    "\n",
    "plt.scatter(X, Y, color=\"b\")\n",
    "plt.scatter(X, y_pred, color=\"red\")"
   ]
  },
  {
   "cell_type": "markdown",
   "metadata": {},
   "source": [
    "# Decision Tree Common Errors  \n",
    "As long as we are okay with rough classifications, it poses some problems.\n",
    "\n",
    "**Problems**\n",
    "1. Overfitting \n",
    "2. Bias\n",
    "\n",
    "**Improvements**\n",
    "Aggregate the information, or look at _groups_ of predictors. This is called _ensemble_ modeling."
   ]
  },
  {
   "cell_type": "markdown",
   "metadata": {},
   "source": [
    "## Voting  \n"
   ]
  },
  {
   "cell_type": "markdown",
   "metadata": {},
   "source": [
    "**Voting**: consider a set of data, and run it through multiple models (like Log Reg, SVM, Decision Tree, kNN, etc...)\n",
    "\n",
    "* Run the data through each ML algorithm\n",
    "* Aggregate or collect the results\n",
    "* Take a majority vote on which method has the most correct classifications\n",
    "\n",
    "\n",
    "**Hard Voting**: each model gives one classification and you take the majority.  \n",
    "\n",
    "**Soft Voting**: each model gives a probability (a percentage) of each class, then take the average each probability, then take the highest.  "
   ]
  },
  {
   "cell_type": "markdown",
   "metadata": {},
   "source": [
    "## Bagging (Bootstrap AGGregatING)  \n"
   ]
  },
  {
   "cell_type": "markdown",
   "metadata": {},
   "source": [
    "Bootstrapping: Take a random element from your data and include in your sample, then return it to the dataset. Take another random element from your data and include in your sample. Sampling with replacement kinda, so there is a chance that you draw the same datapoint multple times. Repeat until your sample is full.\n",
    "\n",
    "How many datapoints in sample:  \n",
    "* If n is the size of my dataset, and n' is the size of our sample, then we want n' to be less than n\n",
    "* rule of thumb might be $n' \\approx 0.60n$\n",
    "\n",
    "Duplicates happen. On average, 63% of the data is used to make the bags (samples). That means that 37% are not used. These are \"out of bag instances.\"  \n",
    "\n",
    "**Out of bag evaluation**  \n",
    "Takes the 37% of unused data and runs them through the tree the bag created.  \n",
    "- if the results of the model are original classifications, then you're good. (cross validation)\n",
    "- Out Of Bag Score by setting `out_of_bag=True` in model. Then in python, get `oob_score` out of the model."
   ]
  },
  {
   "cell_type": "markdown",
   "metadata": {},
   "source": []
  },
  {
   "cell_type": "code",
<<<<<<< HEAD
   "execution_count": 83,
=======
   "execution_count": 30,
>>>>>>> 4bccad4ce200af4e5675ccdfc8f9f0a8648d4f10
   "metadata": {},
   "outputs": [],
   "source": [
    "from sklearn.datasets import load_iris\n",
    "\n",
    "\n",
    "iris = load_iris()\n",
    "\n",
    "from sklearn.model_selection import train_test_split\n",
    "X_train, X_test, y_train, y_test = train_test_split(iris.data, iris.target, test_size=0.3, random_state=32)\n",
    "\n"
   ]
  },
  {
   "cell_type": "code",
   "execution_count": 31,
   "metadata": {},
   "outputs": [
    {
     "name": "stdout",
     "output_type": "stream",
     "text": [
      "Out of bag score: 0.9333333333333333\n"
     ]
    }
   ],
   "source": [
    "from sklearn.ensemble import BaggingClassifier\n",
    "from sklearn.tree import DecisionTreeClassifier\n",
    "\n",
    "bag_clf = BaggingClassifier(\n",
    "    DecisionTreeClassifier(), n_estimators=500,\n",
    "    max_samples=65, bootstrap=True, n_jobs=-1, oob_score=True\n",
    ")\n",
    "\n",
    "bag_clf.fit(X_train, y_train)\n",
    "\n",
    "print(f'Out of bag score: {bag_clf.oob_score_}')"
   ]
  },
  {
   "cell_type": "code",
   "execution_count": 33,
   "metadata": {},
   "outputs": [
    {
     "name": "stdout",
     "output_type": "stream",
     "text": [
      "[[19  0  0]\n",
      " [ 0 12  0]\n",
      " [ 0  0 14]]\n",
      "              precision    recall  f1-score   support\n",
      "\n",
      "           0       1.00      1.00      1.00        19\n",
      "           1       1.00      1.00      1.00        12\n",
      "           2       1.00      1.00      1.00        14\n",
      "\n",
      "    accuracy                           1.00        45\n",
      "   macro avg       1.00      1.00      1.00        45\n",
      "weighted avg       1.00      1.00      1.00        45\n",
      "\n",
      "1.0\n"
     ]
    }
   ],
   "source": [
    "y_pred = bag_clf.predict(X_test)\n",
    "\n",
    "from sklearn.metrics import confusion_matrix, classification_report, accuracy_score\n",
    "\n",
    "print(confusion_matrix(y_test, y_pred))\n",
    "\n",
    "print(classification_report(y_test, y_pred))\n",
    "\n",
    "print(accuracy_score(y_test, y_pred))"
   ]
  },
  {
   "cell_type": "markdown",
   "metadata": {},
   "source": [
    "## Random Forests"
   ]
  },
  {
   "cell_type": "markdown",
   "metadata": {},
   "source": [
    "### Review\n",
    "Bagging  \n",
    "- Random select data into sample (with replacement)\n",
    "- Train your model\n",
    "- unused data is used as validation data\n",
    "- repeat via gradient descent"
   ]
  },
  {
   "cell_type": "markdown",
   "metadata": {},
   "source": [
    "# Random Forests\n",
    "- Bootstrap your data\n",
    "- Randomly select only a few variables to use on 1st Branch\n",
    "    - Keep the branch that performs the best (ie. lowest Gini Index, highest accuracy, or some other metric)\n",
    "- Then select remaining variables to use on the second branch.\n",
    "- Save a version of this tree\n",
    "- Repeat starting from scratch.\n",
    "\n",
    "This is repeated hundreds of times until you have a collection of random trees (a forest)\n",
    "\n",
    "**To Predict**\n",
    "- Run new data through all trees. \n",
    "- Classification is determined by voting (the majority wins)\n",
    "    - Hard voting: Yes or no\n",
    "    - Soft voting: average probabilities for each tree and highest average probability wins.\n",
    "\n",
    "This is an *Ensemble Model* which means you run it through multiple models. "
   ]
  },
  {
   "cell_type": "markdown",
   "metadata": {},
   "source": []
  },
  {
   "cell_type": "code",
   "execution_count": 84,
   "metadata": {},
   "outputs": [
    {
     "data": {
      "text/plain": [
       "['data',\n",
       " 'target',\n",
       " 'frame',\n",
       " 'target_names',\n",
       " 'DESCR',\n",
       " 'feature_names',\n",
       " 'filename',\n",
       " 'data_module']"
      ]
     },
     "execution_count": 84,
     "metadata": {},
     "output_type": "execute_result"
    }
   ],
   "source": [
    "from sklearn.datasets import load_iris\n",
    "\n",
    "iris = load_iris()\n",
    "\n",
    "list(iris)"
   ]
  },
  {
   "cell_type": "code",
   "execution_count": 85,
   "metadata": {},
   "outputs": [
    {
     "data": {
      "text/html": [
       "<style>#sk-container-id-14 {\n",
       "  /* Definition of color scheme common for light and dark mode */\n",
       "  --sklearn-color-text: #000;\n",
       "  --sklearn-color-text-muted: #666;\n",
       "  --sklearn-color-line: gray;\n",
       "  /* Definition of color scheme for unfitted estimators */\n",
       "  --sklearn-color-unfitted-level-0: #fff5e6;\n",
       "  --sklearn-color-unfitted-level-1: #f6e4d2;\n",
       "  --sklearn-color-unfitted-level-2: #ffe0b3;\n",
       "  --sklearn-color-unfitted-level-3: chocolate;\n",
       "  /* Definition of color scheme for fitted estimators */\n",
       "  --sklearn-color-fitted-level-0: #f0f8ff;\n",
       "  --sklearn-color-fitted-level-1: #d4ebff;\n",
       "  --sklearn-color-fitted-level-2: #b3dbfd;\n",
       "  --sklearn-color-fitted-level-3: cornflowerblue;\n",
       "\n",
       "  /* Specific color for light theme */\n",
       "  --sklearn-color-text-on-default-background: var(--sg-text-color, var(--theme-code-foreground, var(--jp-content-font-color1, black)));\n",
       "  --sklearn-color-background: var(--sg-background-color, var(--theme-background, var(--jp-layout-color0, white)));\n",
       "  --sklearn-color-border-box: var(--sg-text-color, var(--theme-code-foreground, var(--jp-content-font-color1, black)));\n",
       "  --sklearn-color-icon: #696969;\n",
       "\n",
       "  @media (prefers-color-scheme: dark) {\n",
       "    /* Redefinition of color scheme for dark theme */\n",
       "    --sklearn-color-text-on-default-background: var(--sg-text-color, var(--theme-code-foreground, var(--jp-content-font-color1, white)));\n",
       "    --sklearn-color-background: var(--sg-background-color, var(--theme-background, var(--jp-layout-color0, #111)));\n",
       "    --sklearn-color-border-box: var(--sg-text-color, var(--theme-code-foreground, var(--jp-content-font-color1, white)));\n",
       "    --sklearn-color-icon: #878787;\n",
       "  }\n",
       "}\n",
       "\n",
       "#sk-container-id-14 {\n",
       "  color: var(--sklearn-color-text);\n",
       "}\n",
       "\n",
       "#sk-container-id-14 pre {\n",
       "  padding: 0;\n",
       "}\n",
       "\n",
       "#sk-container-id-14 input.sk-hidden--visually {\n",
       "  border: 0;\n",
       "  clip: rect(1px 1px 1px 1px);\n",
       "  clip: rect(1px, 1px, 1px, 1px);\n",
       "  height: 1px;\n",
       "  margin: -1px;\n",
       "  overflow: hidden;\n",
       "  padding: 0;\n",
       "  position: absolute;\n",
       "  width: 1px;\n",
       "}\n",
       "\n",
       "#sk-container-id-14 div.sk-dashed-wrapped {\n",
       "  border: 1px dashed var(--sklearn-color-line);\n",
       "  margin: 0 0.4em 0.5em 0.4em;\n",
       "  box-sizing: border-box;\n",
       "  padding-bottom: 0.4em;\n",
       "  background-color: var(--sklearn-color-background);\n",
       "}\n",
       "\n",
       "#sk-container-id-14 div.sk-container {\n",
       "  /* jupyter's `normalize.less` sets `[hidden] { display: none; }`\n",
       "     but bootstrap.min.css set `[hidden] { display: none !important; }`\n",
       "     so we also need the `!important` here to be able to override the\n",
       "     default hidden behavior on the sphinx rendered scikit-learn.org.\n",
       "     See: https://github.com/scikit-learn/scikit-learn/issues/21755 */\n",
       "  display: inline-block !important;\n",
       "  position: relative;\n",
       "}\n",
       "\n",
       "#sk-container-id-14 div.sk-text-repr-fallback {\n",
       "  display: none;\n",
       "}\n",
       "\n",
       "div.sk-parallel-item,\n",
       "div.sk-serial,\n",
       "div.sk-item {\n",
       "  /* draw centered vertical line to link estimators */\n",
       "  background-image: linear-gradient(var(--sklearn-color-text-on-default-background), var(--sklearn-color-text-on-default-background));\n",
       "  background-size: 2px 100%;\n",
       "  background-repeat: no-repeat;\n",
       "  background-position: center center;\n",
       "}\n",
       "\n",
       "/* Parallel-specific style estimator block */\n",
       "\n",
       "#sk-container-id-14 div.sk-parallel-item::after {\n",
       "  content: \"\";\n",
       "  width: 100%;\n",
       "  border-bottom: 2px solid var(--sklearn-color-text-on-default-background);\n",
       "  flex-grow: 1;\n",
       "}\n",
       "\n",
       "#sk-container-id-14 div.sk-parallel {\n",
       "  display: flex;\n",
       "  align-items: stretch;\n",
       "  justify-content: center;\n",
       "  background-color: var(--sklearn-color-background);\n",
       "  position: relative;\n",
       "}\n",
       "\n",
       "#sk-container-id-14 div.sk-parallel-item {\n",
       "  display: flex;\n",
       "  flex-direction: column;\n",
       "}\n",
       "\n",
       "#sk-container-id-14 div.sk-parallel-item:first-child::after {\n",
       "  align-self: flex-end;\n",
       "  width: 50%;\n",
       "}\n",
       "\n",
       "#sk-container-id-14 div.sk-parallel-item:last-child::after {\n",
       "  align-self: flex-start;\n",
       "  width: 50%;\n",
       "}\n",
       "\n",
       "#sk-container-id-14 div.sk-parallel-item:only-child::after {\n",
       "  width: 0;\n",
       "}\n",
       "\n",
       "/* Serial-specific style estimator block */\n",
       "\n",
       "#sk-container-id-14 div.sk-serial {\n",
       "  display: flex;\n",
       "  flex-direction: column;\n",
       "  align-items: center;\n",
       "  background-color: var(--sklearn-color-background);\n",
       "  padding-right: 1em;\n",
       "  padding-left: 1em;\n",
       "}\n",
       "\n",
       "\n",
       "/* Toggleable style: style used for estimator/Pipeline/ColumnTransformer box that is\n",
       "clickable and can be expanded/collapsed.\n",
       "- Pipeline and ColumnTransformer use this feature and define the default style\n",
       "- Estimators will overwrite some part of the style using the `sk-estimator` class\n",
       "*/\n",
       "\n",
       "/* Pipeline and ColumnTransformer style (default) */\n",
       "\n",
       "#sk-container-id-14 div.sk-toggleable {\n",
       "  /* Default theme specific background. It is overwritten whether we have a\n",
       "  specific estimator or a Pipeline/ColumnTransformer */\n",
       "  background-color: var(--sklearn-color-background);\n",
       "}\n",
       "\n",
       "/* Toggleable label */\n",
       "#sk-container-id-14 label.sk-toggleable__label {\n",
       "  cursor: pointer;\n",
       "  display: flex;\n",
       "  width: 100%;\n",
       "  margin-bottom: 0;\n",
       "  padding: 0.5em;\n",
       "  box-sizing: border-box;\n",
       "  text-align: center;\n",
       "  align-items: start;\n",
       "  justify-content: space-between;\n",
       "  gap: 0.5em;\n",
       "}\n",
       "\n",
       "#sk-container-id-14 label.sk-toggleable__label .caption {\n",
       "  font-size: 0.6rem;\n",
       "  font-weight: lighter;\n",
       "  color: var(--sklearn-color-text-muted);\n",
       "}\n",
       "\n",
       "#sk-container-id-14 label.sk-toggleable__label-arrow:before {\n",
       "  /* Arrow on the left of the label */\n",
       "  content: \"▸\";\n",
       "  float: left;\n",
       "  margin-right: 0.25em;\n",
       "  color: var(--sklearn-color-icon);\n",
       "}\n",
       "\n",
       "#sk-container-id-14 label.sk-toggleable__label-arrow:hover:before {\n",
       "  color: var(--sklearn-color-text);\n",
       "}\n",
       "\n",
       "/* Toggleable content - dropdown */\n",
       "\n",
       "#sk-container-id-14 div.sk-toggleable__content {\n",
       "  max-height: 0;\n",
       "  max-width: 0;\n",
       "  overflow: hidden;\n",
       "  text-align: left;\n",
       "  /* unfitted */\n",
       "  background-color: var(--sklearn-color-unfitted-level-0);\n",
       "}\n",
       "\n",
       "#sk-container-id-14 div.sk-toggleable__content.fitted {\n",
       "  /* fitted */\n",
       "  background-color: var(--sklearn-color-fitted-level-0);\n",
       "}\n",
       "\n",
       "#sk-container-id-14 div.sk-toggleable__content pre {\n",
       "  margin: 0.2em;\n",
       "  border-radius: 0.25em;\n",
       "  color: var(--sklearn-color-text);\n",
       "  /* unfitted */\n",
       "  background-color: var(--sklearn-color-unfitted-level-0);\n",
       "}\n",
       "\n",
       "#sk-container-id-14 div.sk-toggleable__content.fitted pre {\n",
       "  /* unfitted */\n",
       "  background-color: var(--sklearn-color-fitted-level-0);\n",
       "}\n",
       "\n",
       "#sk-container-id-14 input.sk-toggleable__control:checked~div.sk-toggleable__content {\n",
       "  /* Expand drop-down */\n",
       "  max-height: 200px;\n",
       "  max-width: 100%;\n",
       "  overflow: auto;\n",
       "}\n",
       "\n",
       "#sk-container-id-14 input.sk-toggleable__control:checked~label.sk-toggleable__label-arrow:before {\n",
       "  content: \"▾\";\n",
       "}\n",
       "\n",
       "/* Pipeline/ColumnTransformer-specific style */\n",
       "\n",
       "#sk-container-id-14 div.sk-label input.sk-toggleable__control:checked~label.sk-toggleable__label {\n",
       "  color: var(--sklearn-color-text);\n",
       "  background-color: var(--sklearn-color-unfitted-level-2);\n",
       "}\n",
       "\n",
       "#sk-container-id-14 div.sk-label.fitted input.sk-toggleable__control:checked~label.sk-toggleable__label {\n",
       "  background-color: var(--sklearn-color-fitted-level-2);\n",
       "}\n",
       "\n",
       "/* Estimator-specific style */\n",
       "\n",
       "/* Colorize estimator box */\n",
       "#sk-container-id-14 div.sk-estimator input.sk-toggleable__control:checked~label.sk-toggleable__label {\n",
       "  /* unfitted */\n",
       "  background-color: var(--sklearn-color-unfitted-level-2);\n",
       "}\n",
       "\n",
       "#sk-container-id-14 div.sk-estimator.fitted input.sk-toggleable__control:checked~label.sk-toggleable__label {\n",
       "  /* fitted */\n",
       "  background-color: var(--sklearn-color-fitted-level-2);\n",
       "}\n",
       "\n",
       "#sk-container-id-14 div.sk-label label.sk-toggleable__label,\n",
       "#sk-container-id-14 div.sk-label label {\n",
       "  /* The background is the default theme color */\n",
       "  color: var(--sklearn-color-text-on-default-background);\n",
       "}\n",
       "\n",
       "/* On hover, darken the color of the background */\n",
       "#sk-container-id-14 div.sk-label:hover label.sk-toggleable__label {\n",
       "  color: var(--sklearn-color-text);\n",
       "  background-color: var(--sklearn-color-unfitted-level-2);\n",
       "}\n",
       "\n",
       "/* Label box, darken color on hover, fitted */\n",
       "#sk-container-id-14 div.sk-label.fitted:hover label.sk-toggleable__label.fitted {\n",
       "  color: var(--sklearn-color-text);\n",
       "  background-color: var(--sklearn-color-fitted-level-2);\n",
       "}\n",
       "\n",
       "/* Estimator label */\n",
       "\n",
       "#sk-container-id-14 div.sk-label label {\n",
       "  font-family: monospace;\n",
       "  font-weight: bold;\n",
       "  display: inline-block;\n",
       "  line-height: 1.2em;\n",
       "}\n",
       "\n",
       "#sk-container-id-14 div.sk-label-container {\n",
       "  text-align: center;\n",
       "}\n",
       "\n",
       "/* Estimator-specific */\n",
       "#sk-container-id-14 div.sk-estimator {\n",
       "  font-family: monospace;\n",
       "  border: 1px dotted var(--sklearn-color-border-box);\n",
       "  border-radius: 0.25em;\n",
       "  box-sizing: border-box;\n",
       "  margin-bottom: 0.5em;\n",
       "  /* unfitted */\n",
       "  background-color: var(--sklearn-color-unfitted-level-0);\n",
       "}\n",
       "\n",
       "#sk-container-id-14 div.sk-estimator.fitted {\n",
       "  /* fitted */\n",
       "  background-color: var(--sklearn-color-fitted-level-0);\n",
       "}\n",
       "\n",
       "/* on hover */\n",
       "#sk-container-id-14 div.sk-estimator:hover {\n",
       "  /* unfitted */\n",
       "  background-color: var(--sklearn-color-unfitted-level-2);\n",
       "}\n",
       "\n",
       "#sk-container-id-14 div.sk-estimator.fitted:hover {\n",
       "  /* fitted */\n",
       "  background-color: var(--sklearn-color-fitted-level-2);\n",
       "}\n",
       "\n",
       "/* Specification for estimator info (e.g. \"i\" and \"?\") */\n",
       "\n",
       "/* Common style for \"i\" and \"?\" */\n",
       "\n",
       ".sk-estimator-doc-link,\n",
       "a:link.sk-estimator-doc-link,\n",
       "a:visited.sk-estimator-doc-link {\n",
       "  float: right;\n",
       "  font-size: smaller;\n",
       "  line-height: 1em;\n",
       "  font-family: monospace;\n",
       "  background-color: var(--sklearn-color-background);\n",
       "  border-radius: 1em;\n",
       "  height: 1em;\n",
       "  width: 1em;\n",
       "  text-decoration: none !important;\n",
       "  margin-left: 0.5em;\n",
       "  text-align: center;\n",
       "  /* unfitted */\n",
       "  border: var(--sklearn-color-unfitted-level-1) 1pt solid;\n",
       "  color: var(--sklearn-color-unfitted-level-1);\n",
       "}\n",
       "\n",
       ".sk-estimator-doc-link.fitted,\n",
       "a:link.sk-estimator-doc-link.fitted,\n",
       "a:visited.sk-estimator-doc-link.fitted {\n",
       "  /* fitted */\n",
       "  border: var(--sklearn-color-fitted-level-1) 1pt solid;\n",
       "  color: var(--sklearn-color-fitted-level-1);\n",
       "}\n",
       "\n",
       "/* On hover */\n",
       "div.sk-estimator:hover .sk-estimator-doc-link:hover,\n",
       ".sk-estimator-doc-link:hover,\n",
       "div.sk-label-container:hover .sk-estimator-doc-link:hover,\n",
       ".sk-estimator-doc-link:hover {\n",
       "  /* unfitted */\n",
       "  background-color: var(--sklearn-color-unfitted-level-3);\n",
       "  color: var(--sklearn-color-background);\n",
       "  text-decoration: none;\n",
       "}\n",
       "\n",
       "div.sk-estimator.fitted:hover .sk-estimator-doc-link.fitted:hover,\n",
       ".sk-estimator-doc-link.fitted:hover,\n",
       "div.sk-label-container:hover .sk-estimator-doc-link.fitted:hover,\n",
       ".sk-estimator-doc-link.fitted:hover {\n",
       "  /* fitted */\n",
       "  background-color: var(--sklearn-color-fitted-level-3);\n",
       "  color: var(--sklearn-color-background);\n",
       "  text-decoration: none;\n",
       "}\n",
       "\n",
       "/* Span, style for the box shown on hovering the info icon */\n",
       ".sk-estimator-doc-link span {\n",
       "  display: none;\n",
       "  z-index: 9999;\n",
       "  position: relative;\n",
       "  font-weight: normal;\n",
       "  right: .2ex;\n",
       "  padding: .5ex;\n",
       "  margin: .5ex;\n",
       "  width: min-content;\n",
       "  min-width: 20ex;\n",
       "  max-width: 50ex;\n",
       "  color: var(--sklearn-color-text);\n",
       "  box-shadow: 2pt 2pt 4pt #999;\n",
       "  /* unfitted */\n",
       "  background: var(--sklearn-color-unfitted-level-0);\n",
       "  border: .5pt solid var(--sklearn-color-unfitted-level-3);\n",
       "}\n",
       "\n",
       ".sk-estimator-doc-link.fitted span {\n",
       "  /* fitted */\n",
       "  background: var(--sklearn-color-fitted-level-0);\n",
       "  border: var(--sklearn-color-fitted-level-3);\n",
       "}\n",
       "\n",
       ".sk-estimator-doc-link:hover span {\n",
       "  display: block;\n",
       "}\n",
       "\n",
       "/* \"?\"-specific style due to the `<a>` HTML tag */\n",
       "\n",
       "#sk-container-id-14 a.estimator_doc_link {\n",
       "  float: right;\n",
       "  font-size: 1rem;\n",
       "  line-height: 1em;\n",
       "  font-family: monospace;\n",
       "  background-color: var(--sklearn-color-background);\n",
       "  border-radius: 1rem;\n",
       "  height: 1rem;\n",
       "  width: 1rem;\n",
       "  text-decoration: none;\n",
       "  /* unfitted */\n",
       "  color: var(--sklearn-color-unfitted-level-1);\n",
       "  border: var(--sklearn-color-unfitted-level-1) 1pt solid;\n",
       "}\n",
       "\n",
       "#sk-container-id-14 a.estimator_doc_link.fitted {\n",
       "  /* fitted */\n",
       "  border: var(--sklearn-color-fitted-level-1) 1pt solid;\n",
       "  color: var(--sklearn-color-fitted-level-1);\n",
       "}\n",
       "\n",
       "/* On hover */\n",
       "#sk-container-id-14 a.estimator_doc_link:hover {\n",
       "  /* unfitted */\n",
       "  background-color: var(--sklearn-color-unfitted-level-3);\n",
       "  color: var(--sklearn-color-background);\n",
       "  text-decoration: none;\n",
       "}\n",
       "\n",
       "#sk-container-id-14 a.estimator_doc_link.fitted:hover {\n",
       "  /* fitted */\n",
       "  background-color: var(--sklearn-color-fitted-level-3);\n",
       "}\n",
       "</style><div id=\"sk-container-id-14\" class=\"sk-top-container\"><div class=\"sk-text-repr-fallback\"><pre>RandomForestClassifier(n_estimators=1)</pre><b>In a Jupyter environment, please rerun this cell to show the HTML representation or trust the notebook. <br />On GitHub, the HTML representation is unable to render, please try loading this page with nbviewer.org.</b></div><div class=\"sk-container\" hidden><div class=\"sk-item\"><div class=\"sk-estimator fitted sk-toggleable\"><input class=\"sk-toggleable__control sk-hidden--visually\" id=\"sk-estimator-id-14\" type=\"checkbox\" checked><label for=\"sk-estimator-id-14\" class=\"sk-toggleable__label fitted sk-toggleable__label-arrow\"><div><div>RandomForestClassifier</div></div><div><a class=\"sk-estimator-doc-link fitted\" rel=\"noreferrer\" target=\"_blank\" href=\"https://scikit-learn.org/1.6/modules/generated/sklearn.ensemble.RandomForestClassifier.html\">?<span>Documentation for RandomForestClassifier</span></a><span class=\"sk-estimator-doc-link fitted\">i<span>Fitted</span></span></div></label><div class=\"sk-toggleable__content fitted\"><pre>RandomForestClassifier(n_estimators=1)</pre></div> </div></div></div></div>"
      ],
      "text/plain": [
       "RandomForestClassifier(n_estimators=1)"
      ]
     },
     "execution_count": 85,
     "metadata": {},
     "output_type": "execute_result"
    }
   ],
   "source": [
    "from sklearn.model_selection import train_test_split\n",
    "\n",
    "# Not the data used in the bootstrap process, but used to train our model\n",
    "X_train, X_test, y_train, y_test = train_test_split(iris.data, iris.target, test_size=0.3, random_state=32)\n",
    "\n",
    "\n",
    "# Make our model\n",
    "from sklearn.ensemble import RandomForestClassifier\n",
    "\n",
    "# Go through bootstrapping process and create 200 random trees\n",
    "numberOfTreesInForest = 1\n",
    "clf = RandomForestClassifier(n_estimators=numberOfTreesInForest)\n",
    "clf.fit(X_train, y_train)\n"
   ]
  },
  {
   "cell_type": "code",
   "execution_count": 86,
   "metadata": {},
   "outputs": [],
   "source": [
    "y_pred = clf.predict(X_test)"
   ]
  },
  {
   "cell_type": "code",
   "execution_count": 87,
   "metadata": {},
   "outputs": [
    {
     "name": "stdout",
     "output_type": "stream",
     "text": [
      "              precision    recall  f1-score   support\n",
      "\n",
      "           0       1.00      1.00      1.00        19\n",
      "           1       0.92      1.00      0.96        12\n",
      "           2       1.00      0.93      0.96        14\n",
      "\n",
      "    accuracy                           0.98        45\n",
      "   macro avg       0.97      0.98      0.97        45\n",
      "weighted avg       0.98      0.98      0.98        45\n",
      "\n",
      "[[19  0  0]\n",
      " [ 0 12  0]\n",
      " [ 0  1 13]]\n"
     ]
    }
   ],
   "source": [
    "from sklearn.metrics import classification_report\n",
    "from sklearn.metrics import confusion_matrix\n",
    "\n",
    "print(classification_report(y_test, y_pred))\n",
    "print(confusion_matrix(y_test, y_pred))"
   ]
  },
  {
   "cell_type": "markdown",
   "metadata": {},
   "source": [
    "# Boosting  "
   ]
  },
  {
   "cell_type": "markdown",
   "metadata": {},
   "source": [
    "**Boosting** is a process where an ensemble method (like random forests) takes several *weak learners* (models that do not perform very well on their own), and combines them into one stronger learner.\n",
    "\n",
    "### AdaBoost\n",
    "- Start with a tree with only one branch (A root node, and two possible leaf nodes). This is called a *Stump*  \n",
    "**Stump** is an example of a weak learner. There is just one test on one single variable. It is unlikely that it will be very accurate.  \n",
    "- Make lot's of stumps, put them together, and create a stronger learner.  \n",
    "AdaBoost basically makes lots of stumps working together. Each *stump* is created based on the result of the previous stump. To make the classification, we make a weighted vote (voting based on the weight of each stump)  \n",
    "\n",
    "#### Process\n",
    "1. First round, you have $n$ datapoints. Give each one a weight of $w_i=\\frac{1}{n}$\n",
    "    * Run the data throught he first stump. \n",
    "    * Determing the fraction of incorrect classifications, $r_j$\n",
    "        $$r_j = \\frac{\\sum{i=1; \\hat{y}_i \\ne y_i}^n w_i}{\\sum_{i=1}^n w_i}$$\n",
    "    * Calculate the __predictor weight__ ($\\alpha_j$)\n",
    "        $$ \\alpha_j = \\eta log(\\frac{1-r_j}{r_j}) $$\n",
    "    * Update and normalize the weights\n",
    "        If the yhat is equal to y, then the weight stays the same  \n",
    "        If the yhat is not equal, then we penalize by adding weight  \n",
    "\n",
    "        \n",
    "\n",
    "\n",
    "### Gradient Boosting"
   ]
  },
  {
   "cell_type": "code",
   "execution_count": 88,
   "metadata": {},
   "outputs": [
    {
     "name": "stderr",
     "output_type": "stream",
     "text": [
      "C:\\Users\\shust\\AppData\\Local\\Temp\\ipykernel_34544\\623843308.py:4: RuntimeWarning: divide by zero encountered in divide\n",
      "  y = np.log((1-x)/x)\n"
     ]
    },
    {
     "data": {
      "text/plain": [
       "Text(0, 0.5, 'Alpha')"
      ]
     },
     "execution_count": 88,
     "metadata": {},
     "output_type": "execute_result"
    },
    {
     "data": {
      "image/png": "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",
      "text/plain": [
       "<Figure size 640x480 with 1 Axes>"
      ]
     },
     "metadata": {},
     "output_type": "display_data"
    }
   ],
   "source": [
    "# example of calculating the predictor weight (ignoring the learning rate for now)\n",
    "\n",
    "x = np.arange(0,1,0.01)\n",
    "y = np.log((1-x)/x)\n",
    "\n",
    "plt.plot(x, y)\n",
    "plt.title(\"predictor weight\")\n",
    "plt.xlabel(\"Total Error\")\n",
    "plt.ylabel(\"Alpha\")"
   ]
  },
  {
   "cell_type": "code",
   "execution_count": 89,
   "metadata": {},
   "outputs": [
    {
     "data": {
      "text/plain": [
       "Text(0, 0.5, 'Alpha')"
      ]
     },
     "execution_count": 89,
     "metadata": {},
     "output_type": "execute_result"
    },
    {
     "data": {
      "image/png": "iVBORw0KGgoAAAANSUhEUgAAAjsAAAHHCAYAAABZbpmkAAAAOnRFWHRTb2Z0d2FyZQBNYXRwbG90bGliIHZlcnNpb24zLjEwLjAsIGh0dHBzOi8vbWF0cGxvdGxpYi5vcmcvlHJYcgAAAAlwSFlzAAAPYQAAD2EBqD+naQAAPeRJREFUeJzt3Qd4VGXaxvEnPSGkECAQpBcFBAtFpIkou1gRy6or66Ki+C0gAq6FVcGOoqsIslhXdMW+wmJDkSLSFVCRJghShISaQkLa5HzX8yYzZCABIplzpvx/13U8ffLmiMzt206YZVmWAAAABKlwpwsAAADgS4QdAAAQ1Ag7AAAgqBF2AABAUCPsAACAoEbYAQAAQY2wAwAAghphBwAABDXCDgAACGqEHQA+M3/+fAkLCzNrt5tuukmaNm0qoa6iZ1PVez/88EOflA0INoQdAAHhiSeekBkzZjhdjIDz9ttvy4QJE5wuBuAowg4AW73yyiuyYcMGCfWwc95558mhQ4fM2pcIOwBhB0AFSkpKJD8/3yefHRUVJTExMeIPcnNzHfvZ4eHhEhsba9YAfIv/yoAg9dBDD5l+HevXr5drr71WEhMTpXbt2nLnnXceFWT0umHDhsm0adPk9NNPN2Fk1qxZ5txvv/0mt9xyi9SrV88c1/P//ve/j/p5O3bskP79+0t8fLykpqbKyJEjpaCg4KjrKuqzo+Hq+eefl/bt25sAULduXbnooovku+++85RPg8kbb7xhtnXRz3FbtWqVXHzxxeZ3rFmzplx44YWydOlSr58xdepUc9/XX38tQ4YMMWVs2LBhhc/OsiypU6eOjBo1yquMycnJEhERIZmZmZ7jTz31lERGRsrBgwc9x/SZX3PNNZKSkmJ+n06dOsnMmTNPqM/O5MmTpXnz5hIXFyfnnHOOfPPNN3L++eeb5Uhapscff9z8Hvpz9PfetGmT57ze8+mnn8rWrVs9z43+UghFkU4XAIBvadDRL7hx48aZADBx4kQ5cOCAvPnmm17XzZ07V95//30TevSLXu/JyMiQc8891xOGNIR8/vnnMmjQIMnOzpYRI0aYe7U5Rr9ot23bJsOHD5cGDRrIf/7zH/OZJ0I/T8OIBpZbb71ViouLzZe8lleDgn6WHtcv/8GDB5t7WrRoYdZr1qyRnj17mqBzzz33mJqjl156yXzRa7Dp0qWL18/SoKO/x5gxYyqt2dHft3v37rJgwQLPsR9//FGysrJMTcyiRYvk0ksvNce1nGeffbYJWe7y6L2nnHKK3HfffSb86XPVIPjf//5Xrrzyykqfw5QpU8xz1t9Hw+Kvv/5q7qtVq1aFwezJJ5805fn73/9uyjZ+/HgZMGCALFu2zJy///77zXENos8995w55i4nEFIsAEFp7Nixlv4n3q9fP6/jQ4YMMcd/+OEHzzHdDw8Pt9asWeN17aBBg6y0tDRr7969Xsevv/56KykpycrLyzP7EyZMMJ/x/vvve67Jzc21WrZsaY7PmzfPc3zgwIFWkyZNPPtz58411wwfPvyo36GkpMSzHR8fb+49Uv/+/a3o6Gjrl19+8RzbuXOnlZCQYJ133nmeY6+//rr5OT169LCKi4ut43n66aetiIgIKzs72+xPnDjRlPucc86x7r33XnPM5XJZycnJ1siRIz33XXjhhVb79u2t/Px8r9+jW7duVqtWrTzH9JmUfzYFBQVW7dq1rc6dO1tFRUWe66ZOnWqu69Wr11H3tmnTxtzn9vzzz5vjq1ev9hy79NJLvZ43EIpoxgKC3NChQ73277jjDrP+7LPPvI736tVL2rZt69nXDKQ1EZdffrnZ3rt3r2fp27evqTFYuXKl57PS0tJM041bjRo1PLUwx6I/Q2tSxo4de9Q5PX4sLpdLvvzyS1P7oU0/blqWG264QRYuXGhqoMq77bbbTFPU8Wjtin7+4sWLPTU4ekwX3VY//fSTadLSY2r//v2mNktr03JycjzPa9++feaZbdy40TQLVkSb7PQ6LZ82i7lpTY3W7FTk5ptvlujoaK8yq82bNx/39wNCCWEHCHKtWrXy2tfmH2360CaS8po1a+a1v2fPHvNF/vLLL5tmn/KLfsmq3bt3m7X2CWnZsuVR4eS00047bvl++eUX0+yl/VuqSsuYl5dX4c9p06aN6dOyffv2Y/6elenQoYMJbO5g4w47OnpKg4n2e3Kf69Gjh1lrfxkNhg8++OBRz8wd5tzP7Ej6DJU+x/I0+FTWz6Zx48Ze++5QpM2UAA6jzw4QYiqrLdEOseVpUFB/+ctfZODAgRXec8YZZ0igOfL3rIz2/dH+PtpvR0NMenq6CTvaUbuoqMj0i9Gw07p1axNmyj8z7UOjNTkVOTLMnIzKaqhKWyYBuBF2gCCnTSflazP0i1u/lI83Kke/wBMSEkxTTp8+fY55bZMmTUyTjn7Jlg9TJzKfjtY0ffHFF6YJ6Fi1OxWFNC2j1r5U9HN0RJTWYDVq1Eh+Lw03Otrqq6++Mp22NdhoOXREmgYdXS677DLP9e6mNA1Kx3tmFT1D97+f3r17e45rZ22thfu9wfJ4TYFAKKAZCwhyOpS5vEmTJpm1jnw6Xq3B1VdfbfrUaJCpqAnJ7ZJLLpGdO3d6vb5Am5e0Cex49GdoSHr44YePWUOho5rKD/l2l/GPf/yj/O9///NqltNRZDqZnjYv6Sitkwk7OnxeJ+XTz3IHBz2uI8T0d3b3k1E6nF1HgelosF27dh3zmR1JR53p1AA66aIGHDedDuBkmqX0uWn/KiCUUbMDBLktW7ZIv379zLw1S5Yskbfeest03j3zzDOPe68ObZ43b55pztGOs9qBWWtgtGOy1nbottJzL7zwgvz1r3+VFStWmA7CGga01uV4tBbjxhtvNEPitRZKy6k1T1proud0KLbq2LGj+ZnPPvus6eOjtVVarscee0xmz55twogOK9c+Lho2NKToUOyT0bVrV/N5WnNUvrO19tvRYeKqfNhxh0sti84ZpM9Fa3s0fOmz1yHgP/zwQ4U/Szsa69xI2oH8ggsuMJ2cNcDpkHyt/fq9NTT63N577z0zZ1Dnzp3N0HPtdA6EFKeHgwHw7dDztWvXWtdcc40Zil2rVi1r2LBh1qFDh7yu1euGDh1a4edkZGSYc40aNbKioqKs+vXrm+HVL7/8std1W7duNcPca9SoYdWpU8e68847rVmzZh136LnSoeA61Lt169ZmGHndunWtiy++2FqxYoXnmvXr15uh5HFxceYzyw9DX7lypdW3b1+rZs2a5uf37t3bWrx4sdfPcA89//bbb6v0HHUouN63bNkyz7EdO3aYY/pMKqLD4P/617+aZ6XP7JRTTrEuu+wy68MPP6x06Lmbe4h7TEyMGea+aNEiq2PHjtZFF1101L0ffPCB171btmwxx/V3dTt48KB1ww03mCHyeo5h6AhFYfoPpwMXgOqntQTaNKRNJ9rfBIFJa7m0b9JVV11lmrgAVB19dgDAT+hw9iP//1NnutbmwopeFwHgxNBnBwD8hL4eQ18T8ac//cl0Vta+Ua+99pq0a9fOHAPw+xB2AMBP6HQAOlReO2u7h+Jrp2/tKF5+pmQAVUOfHQAAENToswMAAIIaYQcAAAQ1+uyUDe3UmVB1anymVgcAIDBoT5ycnBwz0ai+HqYyhB0RE3RO5v05AADAOdu3b5eGDRtWep6wI2JqdNwP62TeowMAAOyTnZ1tKivc3+OVIeyUeyuwBh3CDgAAgeV4XVDooAwAAIIaYQcAAAQ1wg4AAAhqhB0AABDUCDsAACCoEXYAAEBQczTsLFiwQC6//HIz86EOG5sxY8ZRMyOOGTNG0tLSJC4uTvr06SMbN270ukbfDDxgwAAzZDw5OVkGDRokBw8etPk3AQAA/srRsJObmytnnnmmTJ48ucLz48ePl4kTJ8qLL74oy5Ytk/j4eOnbt6/k5+d7rtGgs2bNGpk9e7Z88sknJkANHjzYxt8CAAD4szBLq0/8gNbsTJ8+Xfr372/2tVha43PXXXfJ3//+d3MsKytL6tWrJ1OnTpXrr79e1q1bJ23btpVvv/1WOnXqZK6ZNWuWXHLJJbJjxw5z/4nOwJiUlGQ+n0kFAQAIDCf6/e23fXa2bNki6enppunKTX+hLl26yJIlS8y+rrXpyh10lF6vLwPTmiAAAAC/fV2EBh2lNTnl6b77nK5TU1O9zkdGRkpKSornmooUFBSYpXwyBAAAwclva3Z8ady4caaWyL3wxnMAAIKX34ad+vXrm3VGRobXcd13n9P17t27vc4XFxebEVruayoyevRo077nXvRt576wOydftu3Lk/wil08+HwAABHDYadasmQksc+bM8Wpu0r44Xbt2Nfu6zszMlBUrVniumTt3rpSUlJi+PZWJiYnxvOHcl286/9OLS+S8p+fJmp1ZPvl8AADg5312dD6cTZs2eXVK/v77702fm8aNG8uIESPksccek1atWpnw8+CDD5oRVu4RW23atJGLLrpIbrvtNjM8vaioSIYNG2ZGap3oSCxfio4ozZIFxSVOFwUAgJDlaNj57rvvpHfv3p79UaNGmfXAgQPN8PJ77rnHzMWj8+ZoDU6PHj3M0PLY2FjPPdOmTTMB58ILLzSjsK6++mozN48/iI4sDTuFhB0AABzjN/PsOMlX8+xc+a9Fsmpbprx8Y0f54+mV9yECAAAhOM9OMHA3YxW6qNkBAMAphB0fohkLAADnEXZ8KIawAwCA4wg7dtTs0IwFAIBjCDt29NmhZgcAAMcQdmyo2WGeHQAAnEPY8SE6KAMA4DzCjg9FMfQcAADHEXZ8iJodAACcR9jxoRg6KAMA4DjCjg9RswMAgPMIOz7EPDsAADiPsONDzLMDAIDzCDs+FB0ZYdbU7AAA4BzCjg/RZwcAAOcRdnyIsAMAgPMIO3b02aEZCwAAxxB2fCiGmh0AABxH2PEhmrEAAHAeYceHmGcHAADnEXZ8iHl2AABwHmHHhpqdAsIOAACOIezY0mfH5XRRAAAIWYQdH2LoOQAAziPs+BCjsQAAcB5hx4aanRJLpJjaHQAAHEHYsaFmR9GUBQCAMwg7doUdmrIAAHAEYceHIsPDJCysdJuwAwCAMwg7PhQWFubpt8NcOwAAOIOwY1NTVhF9dgAAcARhx643nxN2AABwBGHHx3g/FgAAziLs+BgTCwIA4CzCjo8RdgAAcBZhx643n9NnBwAARxB2fIw+OwAAOIuw42M0YwEA4CzCjo9FR0aYNWEHAABnEHZ8LDqi9H0RzLMDAIAzCDs+RjMWAADOIuz4GB2UAQBwFmHHrpodmrEAAHAEYceueXao2QEAwBGEHR+LjmA0FgAATiLs+BgdlAEAcBZhx7Y+Oy6niwIAQEgi7PhYTFnYKSq2nC4KAAAhibBj19BzRmMBAOAIwo6P0WcHAABnEXZ8jKHnAAA4i7DjYzRjAQDgLMKObc1YjMYCAMAJhB0fo88OAADOIuz4GO/GAgDAWYQdH4vhrecAADiKsONjUTRjAQDgKL8OOy6XSx588EFp1qyZxMXFSYsWLeTRRx8Vyzo8G7FujxkzRtLS0sw1ffr0kY0bN4rfjcYi7AAA4Ai/DjtPPfWUTJkyRV544QVZt26d2R8/frxMmjTJc43uT5w4UV588UVZtmyZxMfHS9++fSU/P1/8AX12AABwVqT4scWLF8sVV1whl156qdlv2rSpvPPOO7J8+XJPrc6ECRPkgQceMNepN998U+rVqyczZsyQ66+/XpzGpIIAADjLr2t2unXrJnPmzJGff/7Z7P/www+ycOFCufjii83+li1bJD093TRduSUlJUmXLl1kyZIllX5uQUGBZGdney2+QjMWAADO8uuanfvuu88EkdatW0tERITpw/P444/LgAEDzHkNOkprcsrTffe5iowbN04efvhhsfOt59qMpTVRYWFhtvxcAAAQADU777//vkybNk3efvttWblypbzxxhvyzDPPmPXJGD16tGRlZXmW7du3i6+bsbRPdXHJ4Y7VAADAHn5ds3P33Xeb2h1335v27dvL1q1bTc3MwIEDpX79+uZ4RkaGGY3lpvtnnXVWpZ8bExNjFju4w467KSuqrFkLAADYw6+/efPy8iQ83LuI2pxVUlLa/0WHpGvg0X49btrspaOyunbtKv7A3WdHFTEiCwAA2/l1zc7ll19u+ug0btxYTj/9dFm1apU8++yzcsstt5jz2v9lxIgR8thjj0mrVq1M+NF5eRo0aCD9+/cXfxAZES7hYSLagkUnZQAA7OfXYUfn09HwMmTIENm9e7cJMbfffruZRNDtnnvukdzcXBk8eLBkZmZKjx49ZNasWRIbGyv+Qpuy8otKGH4OAIADwqzy0xGHKG360iHr2lk5MTGx2j//jIe+kOz8YplzVy9pUbdmtX8+AAChKPsEv7/9us9OsIiOjDBrmrEAALAfYcfOuXYIOwAA2I6wYwPejwUAgHMIOzbglREAADiHsGODqMjSV0QQdgAAsB9hx8aaHYaeAwBgP8KODeizAwCAcwg7NmDoOQAAziHs2IAOygAAOIewY+s8Oy6niwIAQMgh7NiAPjsAADiHsGMDmrEAAHAOYcfWmp2Qf+cqAAC2I+zYGXao2QEAwHaEHRsQdgAAcA5hx84+Oy5GYwEAYDfCjg2o2QEAwDmEHVvn2SHsAABgN8KODZhnBwAA5xB2bMA8OwAAOIewY4OosrBTQNgBAMB2hB0b0EEZAADnEHZsQJ8dAACcQ9ixATU7AAA4h7Bjgxg6KAMA4BjCjg1oxgIAwDmEHRvQjAUAgHMIOzYg7AAA4BzCjg2YVBAAAOcQdmxAnx0AAJxD2LE57FiW5XRxAAAIKYQdG8RERJi15pziEsIOAAB2IuzYWLOj6LcDAIC9CDs2IOwAAOAcwo4NIsLDzKLopAwAgL0IOzZh+DkAAM4g7NjclFVA2AEAwFaEHZtEUbMDAIAjCDs2iWFiQQAAHEHYsQnvxwIAwBmEHZvQQRkAAGcQdmx/ZYTL6aIAABBSCDs2oRkLAABnEHZsbsZi6DkAAPYi7NiEmh0AAJxB2LG9zw5hBwAAOxF2bA47RdTsAABgK8KOTWLcQ8+p2QEAwFaEHZvQZwcAAGcQdmxC2AEAwBmEHbuHntOMBQCArQg7NqFmBwAAZxB2bELYAQDAGYQdm0TxIlAAABxB2LFJDJMKAgDgCMKOTWjGAgDAGYQdm0djEXYAALCX34ed3377Tf7yl79I7dq1JS4uTtq3by/fffed57xlWTJmzBhJS0sz5/v06SMbN24Uf8O7sQAAcIZfh50DBw5I9+7dJSoqSj7//HNZu3at/POf/5RatWp5rhk/frxMnDhRXnzxRVm2bJnEx8dL3759JT8/X/wx7BRQswMAgK0ixY899dRT0qhRI3n99dc9x5o1a+ZVqzNhwgR54IEH5IorrjDH3nzzTalXr57MmDFDrr/+evEXNGMBAOAMv67ZmTlzpnTq1En+9Kc/SWpqqpx99tnyyiuveM5v2bJF0tPTTdOVW1JSknTp0kWWLFlS6ecWFBRIdna21+JrdFAGAMAZfh12Nm/eLFOmTJFWrVrJF198IX/7299k+PDh8sYbb5jzGnSU1uSUp/vucxUZN26cCUXuRWuPfI0+OwAAOMOvw05JSYl06NBBnnjiCVOrM3jwYLnttttM/5yTMXr0aMnKyvIs27dvF9vm2aFmBwAAW/l12NERVm3btvU61qZNG9m2bZvZrl+/vllnZGR4XaP77nMViYmJkcTERK/F16IjIsy6iJodAABs5ddhR0dibdiwwevYzz//LE2aNPF0VtZQM2fOHM957X+jo7K6du0q/oQ+OwAAOMOvR2ONHDlSunXrZpqxrr32Wlm+fLm8/PLLZlFhYWEyYsQIeeyxx0y/Hg0/Dz74oDRo0ED69+8v/oSwAwCAM/w67HTu3FmmT59u+tg88sgjJszoUPMBAwZ4rrnnnnskNzfX9OfJzMyUHj16yKxZsyQ2Nlb8cp4dmrEAALBVmKWT1YQ4bfrSUVnaWdlX/Xf25BRI58e/Mttbxl1iaqUAAIDvv7/9us9OMHHX7KgiV8jnSwAAbEPYsXkGZcVcOwAA2Iew40DNDp2UAQCwD2HHJhHhYWZRhB0AAOxD2LERLwMFAMB+hB0bHX4/lsvpogAAEDIIO07MtUPNDgAAtiHs2IhmLAAA7EfYsRFvPgcAwH6EHUf67BB2AACwC2HHRrwMFAAA+xF2bESfHQAAAuit52vXrpVt27ZJYWGh1/F+/fpVR7mCEs1YAAAEQNjZvHmzXHnllbJ69Wrz5m73S9Pdb/F2MYdMpWjGAgAgAJqx7rzzTmnWrJns3r1batSoIWvWrJEFCxZIp06dZP78+b4pZbA1Y1GzAwCA/9bsLFmyRObOnSt16tSR8PBws/To0UPGjRsnw4cPl1WrVvmmpEGAmh0AAAKgZkebqRISEsy2Bp6dO3ea7SZNmsiGDRuqv4RBhLADAEAA1Oy0a9dOfvjhB9OU1aVLFxk/frxER0fLyy+/LM2bN/dNKYMEo7EAAAiAsPPAAw9Ibm6u2X7kkUfksssuk549e0rt2rXlvffe80UZgwajsQAACICw07dvX892y5YtZf369bJ//36pVauWZ0QWKkbNDgAAATTPTnkpKSnV8TFBj7eeAwAQAGFHm7CefPJJmTNnjhl+XlJSctQ8PKgYzVgAAARA2Ln11lvl66+/lhtvvFHS0tJouqoCRmMBABAAYefzzz+XTz/9VLp37+6bEgUx+uwAABAA8+xoR2T66Pw+MdTsAADg/2Hn0UcflTFjxkheXp5vShTE6LMDAICfNmOdffbZXn1zNm3aJPXq1ZOmTZtKVFSU17UrV66s/lIGCfrsAABgvxMKO/379/d9SUJAdESEWRN2AADws7AzduxY35cklObZoRkLAAD/n1Twu+++k3Xr1pnttm3bSseOHauzXEEddoqo2QEAwH/Dzo4dO+TPf/6zLFq0SJKTk82xzMxM6datm7z77rvSsGFDX5QzqEZj5Re7nC4KAAAhI/z3TCpYVFRkanX0nVi66LbOpKznULmkuNLO3Fl5RU4XBQCAkFHlmh2dPXnx4sVy2mmneY7p9qRJk8zbz1G52vHRZn0gr1BKSiwJD2f2aQAA/K5mp1GjRqZm50gul0saNGhQXeUKSrXKwk6JJZJ5iNodAAD8Muw8/fTTcscdd5gOym66feedd8ozzzxT3eULKlER4ZIQW1qZtj+30OniAAAQEsIsy7Kq+roInT25uLhYIiNLv7jd2/Hx8V7Xan+eQJCdnS1JSUmSlZUliYmJPv1Z5z89T37dlyfv395VzmnGazcAAPD193eV++xMmDDhdxcKIinx0Sbs7M8tcLooAACEhCqHnYEDB/qmJCEiJT7GrPfRjAUAgP+EHa0mOlG+bgYKlhFZ+w8SdgAA8Juwo5MHln8RaEW0649eo6OyULmUmqVhh5odAAD8KOzMmzfvhD5s9erVJ1ueoJdS4/BcOwAAwE/CTq9evSo9l5OTI++88468+uqrsmLFChk2bFh1li8oOygrhp4DAOCn8+y4LViwwHRWTktLM/PrXHDBBbJ06dLqLV0wN2PRZwcAAP8bjZWeni5Tp06V1157zXRavvbaa6WgoEBmzJhh3nyOKnRQpmYHAAD/qtm5/PLLzTuwfvzxRzPXzs6dO837sPD7m7GqOJ8jAADwZc3O559/LsOHD5e//e1v0qpVq9/zs2Bqdkrn2Sl0lUhuoUtqxlR5qiMAAOCLmp2FCxeazsgdO3aULl26yAsvvCB79+6tys+CiMRFR0hsVOljZ64dAAD8KOyce+658sorr8iuXbvk9ttvl3fffde85bykpERmz55tghCqVruzj1dGAADgf6Ox9GWft9xyi6np0Xl17rrrLnnyySclNTVV+vXr55tSBhmGnwMAEABDz5V2WB4/frzs2LHDzLWDqoUdZlEGAMDPw45bRESE9O/fX2bOnFkdHxcyw88PEHYAAAiMsIOqoRkLAAD7EHYcUItmLAAAbEPYcQCzKAMAYB/CjgPooAwAgH0IOw6oXfYy0P3MswMAgM8RdhyQUjap4IHcIqeLAgBA0AuosKOTF4aFhcmIESM8x/Lz82Xo0KFSu3ZtqVmzplx99dWSkZEhgdCMdbCgWAqKXU4XBwCAoBYwYefbb7+Vl156Sc444wyv4yNHjpSPP/5YPvjgA/n666/N29ivuuoq8WeJsZESGR5mtumkDACAbwVE2Dl48KAMGDDAvJurVq1anuNZWVny2muvybPPPisXXHCBeUnp66+/LosXL5alS5eKv9LaKc/wc14GCgCATwVE2NFmqksvvVT69OnjdXzFihVSVFTkdbx169bSuHFjWbJkSaWfV1BQINnZ2V6L3Rh+DgCAPSLFz+nb1VeuXGmasY6Unp4u0dHRkpyc7HW8Xr165lxlxo0bJw8//LD4Q7+dA3mEHQAAQrZmZ/v27XLnnXfKtGnTJDY2tto+d/To0aYJzL3oz3Fsrh2asQAACN2wo81Uu3fvlg4dOkhkZKRZtBPyxIkTzbbW4BQWFkpmZqbXfToaq379+pV+bkxMjCQmJnotdqMZCwAAe/h1M9aFF14oq1ev9jp28803m3459957rzRq1EiioqJkzpw5Zsi52rBhg2zbtk26du0q/oz3YwEAYA+/DjsJCQnSrl07r2Px8fFmTh338UGDBsmoUaMkJSXF1NDccccdJuice+654s8O1+wwizIAACEbdk7Ec889J+Hh4aZmR0dZ9e3bV/71r39JoMyiTDMWAAC+FXBhZ/78+V772nF58uTJZgkk7g7KhB0AAEK4g3JovAyUsAMAgC8Rdhyu2ck8VCSuEsvp4gAAELQIOw5Jjosya8tiYkEAAHyJsOOQyIhwSa5RGnhoygIAwHcIOw6ikzIAAL5H2HEQsygDAOB7hB0Hed6PRdgBAMBnCDv+MLEgLwMFAMBnCDsOSol3d1DmlREAAPgKYccfanbyipwuCgAAQYuw4yBeBgoAgO8RdvyhgzJ9dgAA8BnCjoOYZwcAAN8j7PjBy0D1dRGWvjcCAABUO8KOg2rVKA07RS5LsvOLnS4OAABBibDjoNioCImPjjDbB2jKAgDAJwg7Dkspa8piFmUAAHyDsOMvc+0QdgAA8AnCjsOYawcAAN8i7DgsNaG0Zue3zHyniwIAQFAi7DisZWpNs/5l90GniwIAQFAi7PhJ2NlE2AEAwCcIO34SdjbvPSjFrhKniwMAQNAh7DisQVKc1IiOMBMLbt2f53RxAAAIOoQdh4WHh0mLujRlAQDgK4QdP9CKfjsAAPgMYccPtKxXGnY2ZuQ4XRQAAIIOYccPtHQ3Y+2hZgcAgOpG2PEDreoleJqxSkosp4sDAEBQIez4gUa14iQ6Ilzyi0rkt8xDThcHAICgQtjxA5ER4dK8brzZppMyAADVi7DjZ5MLbtxNJ2UAAKoTYcdP8NoIAAB8g7DjJ1qllnZS3kjYAQCgWhF2/ESrsrl2NmUcFMtiRBYAANWFsOMnmtaOl4jwMMkpKJbdOQVOFwcAgKBB2PET0ZHh0qR2DbO9MYOmLAAAqgthxw9nUmZEFgAA1Yew44/9duikDABAtSHs+BFGZAEAUP0IO36EuXYAAKh+hB0/0qJuTQkLE9mfWyj7DjIiCwCA6kDY8SNx0RHSsFac2aZ2BwCA6kHY8dsRWYQdAACqA2HHz7SqV9pJmZodAACqB2HHT2t2CDsAAFQPwo6faclcOwAAVCvCjp8OP0/Pzpc9vCMLAICTRtjxM4mxUdI2LdFsL/5lr9PFAQAg4BF2/FDPU+uY9TcbCTsAAJwswo4f6tmyrll/s3GPWJbldHEAAAhohB0/1KlpLYmJDJeM7AI6KgMAcJIIO34oNipCzmmWYrYX0JQFAMBJIez4qZ6tSvvtLNy4x+miAAAQ0Ag7fqpnq9J+O0s375eCYpfTxQEAIGARdvxU6/oJUqdmjBwqcsnKrZlOFwcAgIBF2PFTYWFh0qNlbbO9cBNNWQAABGXYGTdunHTu3FkSEhIkNTVV+vfvLxs2bPC6Jj8/X4YOHSq1a9eWmjVrytVXXy0ZGRkSTE1ZzLcDAECQhp2vv/7aBJmlS5fK7NmzpaioSP74xz9Kbm6u55qRI0fKxx9/LB988IG5fufOnXLVVVdJMOhR1kl59W9ZciC30OniAAAQkMKsAJq1bs+ePaaGR0PNeeedJ1lZWVK3bl15++235ZprrjHXrF+/Xtq0aSNLliyRc88994Q+Nzs7W5KSksznJSaWvqrBX/R9boFsyMiRyTd0kEvPSHO6OAAA+I0T/f7265qdI+kvo1JSSuegWbFihant6dOnj+ea1q1bS+PGjU3YqUxBQYF5QOUXf6/d0dmUAQBA1QVM2CkpKZERI0ZI9+7dpV27duZYenq6REdHS3Jyste19erVM+eO1RdIk6B7adSokfh/2NnLqyMAAAjmsKN9d3766Sd59913T/qzRo8ebWqJ3Mv27dvFX3VpliLREeHyW+Yh+XVfntPFAQAg4ARE2Bk2bJh88sknMm/ePGnYsKHneP369aWwsFAyM73nodHRWHquMjExMaZtr/zir2pER0rHJrXMNk1ZAAAEWdjRZhsNOtOnT5e5c+dKs2bNvM537NhRoqKiZM6cOZ5jOjR927Zt0rVrVwkWPU8tbcr6fHXlTXMAACAAw442Xb311ltmtJXOtaP9cHQ5dOiQOa/9bQYNGiSjRo0ytT7aYfnmm282QedER2IFgivOOkXCw0SWbN4nv+zhLegAAARN2JkyZYrpU3P++edLWlqaZ3nvvfc81zz33HNy2WWXmckEdTi6Nl999NFHEkxOSY6T3qelmu13lm1zujgAAASUgJpnx1f8eZ4dt7nrM+SWqd9Jco0oWTr6QomNinC6SAAAOCoo59kJZb1OTTU1PJl5RfLpj7ucLg4AAAGDsBMgIsLD5IYujc32tGVbnS4OAAABg7ATQP7UqaFEhofJym2Zsnan/876DACAPyHsBJDUhFjpe3rp/EFvL6d2BwCAE0HYCTADypqypq/8TQ4WFDtdHAAA/B5hJ8B0bVFbmteJl9xCl/zv+9+cLg4AAH6PsBNgwsIOd1R+a+k2Xg4KAMBxEHYC0NUdGkp0ZLis25VtZlUGAACVI+wEoFrx0XJdp0Zm+/FP14mrhNodAAAqQ9gJUCP6tJKE2EhZszNb/rtih9PFAQDAbxF2AlTtmjEy/IJWZvvpLzcwMgsAgEoQdgLYwG5NpWntGrInp0CmzN/kdHEAAPBLhJ0App2U/3FJG7P9yjdbZPv+PKeLBACA3yHsBLg/tK0nXZvXlsLiEnly1nqniwMAgN8h7ATBvDsPXtZWwsLEvA39u1/3O10kAAD8CmEnCLRtkCjXdy4div7AjJ8kv8jldJEAAPAbhJ0gMeoPp0nt+GhZn54jD3+81uniAADgNwg7QaJuQoxMuP4s05z1zvJtMn0Vc+8AAKAIO0GkZ6u6nrl3/vHRT7IxI8fpIgEA4DjCTpAZfmEr6dGyjhwqcsmQaSslr5DJBgEAoY2wE2QiwsNMc1ZqQoxs3H1QHpj+E29GBwCENMJOEKpTM0Ym/flsE3w+WvWbvPLNZqeLBACAYwg7QapL89py30WtzfYTn62XqYu2OF0kAAAcQdgJYred11zuuKCl2X7o47Xy1tKtThcJAADbEXaC3Kg/nCq392rumXDw/W+3O10kAABsRdgJgddJaHPWLd2bmf17P/pR/ruCOXgAAKGDsBMy789qIzee20R0YNZdH/wgk+ZsZJQWACAkEHZCKPA83O90Tw3PP2f/LMPeXsU8PACAoEfYCSHh4WEy5vK28uRV7SUqIkw+Xb1LrpmyRH7LPOR00QAA8BnCTgi6/pzG8vZt55oXh67dlS39Ji2URZv2Ol0sAAB8grATojo3TZGZd/SQtmmJsi+3UAa8ukzG/O8nyS2gWQsAEFwIOyHslOQ4+fBvXeWGLo3N/ptLtsrFz38jyzbvc7poAABUG8JOiKsRHSlPXNle3hrUxYSfbfvz5LqXl8pDM9dI1qEip4sHAMBJI+zA6NGqjswa0VP+fE4jsz918a9y/tPz5I3Fv0qRq8Tp4gEA8LuFWUy2ItnZ2ZKUlCRZWVmSmJgooW7Bz3vkkU/WyqbdB81+87rxMvriNtKnTaoZwg4AQCB9fxN2CDsVKnaVyDvfbpcJs382HZhVxya1ZGjvFtL7NEIPAMB5hJ0qIOxULju/SKbM/0VeW7hFCotLm7Na10+Qv53fQi5tnyaREbSEAgCcQdipAsLO8WVk58ur32yWacu2SV6hyxxrnFJD/tq1iVzdoaHUio92uogAgBCTTdg5cYSdE5eZVyhvLN4qUxdvkQN5paO1oiPD5bL2aTLg3MbSoXEtmrgAALYg7FQBYafq9J1aM1btlLeWbjWzMLu1Sq0p/c8+Rfqd2UAapdRwtIwAgOBG2KkCws7vp398ftiRJdOWbpWPf9wp+UWHh6l3aJwsV5x1ilzUrr7US4x1tJwAgOBD2KkCwk710EkIv1iTLjO/3ymLf9krJeX+ZJ3ZMEn+0Lae9GlbT06rl0BTFwDgpBF2qoCwU/12Z+fLJz/uMrU932/PlPJ/yhrWipOererKea3qSLcWdSSpRpSTRQUABCjCThUQdnxrd06+zF23W2avzZCFm/ZKQdkQdhUeJtK+YbJ0b1FbOjdLMXP5JMYSfgAAx0fYqQLCjr0dm5du3iffbNxrFvcszeXDT9sGieat7Gc3riVnN0o2NUE0ewEAjkTYqQLCjnN2ZR0yoWf5lv3y7a/7Zeu+vKOuqVMzWs5qlCxnNkyWdqckyemnJEpqAh2eASDUZRN2Thxhx3+kZ+XL8l/3y3e/7jd9fdbuzJbi8j2dy9RNiJF2DRKldVqimdH5tPoJ0rxOTTPnDwAgNGQTdk4cYcd/5Re5ZM3OLFm1LVN++i1LftqZLZv3HPQa6eUWGR5mXlraMrWmtKxbU1roOrWmNKsTLzWiI50oPgDAhwg7VUDYCbx+P+t25cjanVmyPj1HNpQtOQXFld5TPzHWhJ6mdeKlWZ0a0jglXprUrmEmPqwZQxACgEBE2KkCwk7g0z/GO7Py5ef0HPllz0HT8dksew5KZtlrLSpTOz5aGqbUkIbJcaYz9Cm6JMdJA12S4iQxLpIO0gDghwg7VUDYCW4Hcgtly75c2bInV37V9d5c2b4/T7btz/O83+tYakRHmOCTlhRrZoLWWqJ6SaXr1IQYSU2MkTo1YySKN8ADgF9+f1N/j6Cnb2TXRV9SeqTs/CLZti9Pdhw4JL9lHpIdB/LktwO6PmRGimkY0re8u2uKKqMVPyk1ok3HabPUjJE6nnW0pMTHmBokDUUp8dF0pAYAGxF2ENJ0AkMdzq5LRQ4Vukzo2ZWVb5aM7HwzYiw9u3R7d3aB7DlYIK4SS/blFppF+xEdT0JMpAlgKWVLrRq6REmyWQ7vJ5XtJ8dFmRommtMAoOoIO8AxxEVHSPO6Nc1SmZISS/bnFZrgo7NF7z1YKHsPFsjenNIgtK9sf39uoVl0KL12ptZFm9JOVFREmCTFRUmiLrFRZrt0P9LsJ8SWbus6IVaPHd7WTtjx0ZESrrM2AkCIIewAJ0kDhDZP6dJWjt3nS4ORNp25g48uB/JKa4Sy8orMtjadZeYVmo7VmYdKt4tclllKg1Th7yqnVgrVjI6UmrGREh9TGoDcS+l+hFmbJTpCapSd0xqlePc6unSt5+KiIiSC8AQgABB2AJuDkWmWqhEtzeue2D06huBQkcuEH32zvC7Z7nV+sdnWAJV9qNisc8xSXLaUbmttkg5FcNcoVZeYyPDS8BMdaWrBdFtD0OFtPR5eeiwqQmLLzse696PCzfbh/XLHIiMkJirc/Aya7wCcDMIO4Of0i17DhC46KqyqNCzpy1c19BzUsJNfZNYH84slt1CPuSS3oNgserx022XO5bnXhS5zTvsw6b57DKd+ri4nMqrtZGjg0QB0rHVpMIqQ6Aj3drjpCG6ORR7eLz1fdp37WNnx8tvuczrKTtc6aSWhCwhMQRN2Jk+eLE8//bSkp6fLmWeeKZMmTZJzzjnH6WIBjtMvaHftiY4UO1nu8KShSEOQ1jrpWid7PFS2X36t5/KLXZLvPlZUIocKiyVf10UuM0u2rguKSsy2e7/8LNnuUOUkzTkm+JSFH+1D5b1feuzwtvc1kWXb5Y9HmnNhZq1hqjRUlT/vvifMHHfv67Xu8+7r3Z9hFve2Xh8eTl8thLygCDvvvfeejBo1Sl588UXp0qWLTJgwQfr27SsbNmyQ1NRUp4sHBG14qu2jn6GBSvsoFWhIKgtB7m1dazDS8KPHC10lZfuuw8fKwpF7Kd13eW3rWu81a/ein1Vuu/wsZLrtvk4KJKCYoBYebvpYlQakowORnosoC1HmurJ9PR+hQctz3nvfe10awMLDDh93L+X33dfq1FTuz9JAZtYV3Oteyp8z22U/y5zXtZYtTD9LSvfLPtez7VmX/jlG6AiKSQU14HTu3FleeOEFs19SUiKNGjWSO+64Q+67777j3s+kggAqUuwqMaHLE4x0v3xIKtsv7UB++HhxiR63Ss+7SqTYVfm2+z79DPfP0/vd58x1JZbnfOl26Xnzc9z3lVhmCgRdcHwaeMoHoNKQVD4UlQYmDUWHw9bhezzBydxb8XFzfdnnuu81n1d2TZj7fFlA87o/zPueI+/X/dLPLds2ZS1fjqPPh5f7OeU/x/357vOl+96fe2RQrOj84e2Kr9FJWat78tWQmVSwsLBQVqxYIaNHj/YcCw8Plz59+siSJUsqvKegoMAs5R8WABzJ1H5ElE5BECh0xJ8GIhOYdF0uJJkAVRakXOWucZUFqNJjh+9xWWXXlQtWJVbpvlmbc3qfiMv988qFLr3Hfb/ns/Rc2b67rO7PdF9z+P7Saw7fWyIl5mcdcX+5a9znjve/8ZoJS1x6EeHQLnPv6nXMaTx8KeDDzt69e8Xlckm9evW8juv++vXrK7xn3Lhx8vDDD9tUQgCwj/7ffLQuEtqzdGujxeFQJEcFKQ1YR25rADr6mHtbjtg/fNwcc/8sDVHlPsPrGs91pdeYc2XBzHN9WTkqOud1nfvnWIfPlS/X4f3StT4P9+ce+Zmeclqlz620HHLUeXNf+WPlgmVJ+XvLtg/fW7rWGh6nBHzY+T20Fkj7+JSv2dFmLwBAcNBmFNM/yemCwC8E/J+DOnXqSEREhGRkZHgd1/369etXeE9MTIxZAABA8Av4es7o6Gjp2LGjzJkzx3NMOyjrfteuXR0tGwAAcF7A1+wobZIaOHCgdOrUycyto0PPc3Nz5eabb3a6aAAAwGFBEXauu+462bNnj4wZM8ZMKnjWWWfJrFmzjuq0DAAAQk9QzLNzsphnBwCA4P3+Dvg+OwAAAMdC2AEAAEGNsAMAAIIaYQcAAAQ1wg4AAAhqhB0AABDUCDsAACCoEXYAAEBQI+wAAICgFhSvizhZ7kmkdSZGAAAQGNzf28d7GQRhR0RycnLMulGjRk4XBQAA/I7vcX1tRGV4N5aIlJSUyM6dOyUhIUHCwsJOKmFqYNq+fTvv2LIBz9tePG978bztxfMOzOetEUaDToMGDSQ8vPKeOdTsaMel8HBp2LBhtX2e/ovjPxb78LztxfO2F8/bXjzvwHvex6rRcaODMgAACGqEHQAAENQIO9UoJiZGxo4da9bwPZ63vXje9uJ524vnHdzPmw7KAAAgqFGzAwAAghphBwAABDXCDgAACGqEHQAAENQIO1U0efJkadq0qcTGxkqXLl1k+fLlx7z+gw8+kNatW5vr27dvL5999pltZQ215/3KK69Iz549pVatWmbp06fPcf/94OT+fLu9++67Zvbx/v37+7yMofy8MzMzZejQoZKWlmZGsZx66qn8neLD5z1hwgQ57bTTJC4uzsz2O3LkSMnPz7etvIFqwYIFcvnll5tZjfXvhRkzZhz3nvnz50uHDh3Mn+uWLVvK1KlTq7dQOhoLJ+bdd9+1oqOjrX//+9/WmjVrrNtuu81KTk62MjIyKrx+0aJFVkREhDV+/Hhr7dq11gMPPGBFRUVZq1evtr3sofC8b7jhBmvy5MnWqlWrrHXr1lk33XSTlZSUZO3YscP2sofC83bbsmWLdcopp1g9e/a0rrjiCtvKG2rPu6CgwOrUqZN1ySWXWAsXLjTPff78+db3339ve9lD4XlPmzbNiomJMWt91l988YWVlpZmjRw50vayB5rPPvvMuv/++62PPvpIR3tb06dPP+b1mzdvtmrUqGGNGjXKfFdOmjTJfHfOmjWr2spE2KmCc845xxo6dKhn3+VyWQ0aNLDGjRtX4fXXXnutdemll3od69Kli3X77bf7vKyh+LyPVFxcbCUkJFhvvPGGD0sZ2s9bn3G3bt2sV1991Ro4cCBhx4fPe8qUKVbz5s2twsJCG0sZPKr6vPXaCy64wOuYfhl3797d52UNJnICYeeee+6xTj/9dK9j1113ndW3b99qKwfNWCeosLBQVqxYYZpGyr9TS/eXLFlS4T16vPz1qm/fvpVej5N73kfKy8uToqIiSUlJ8WFJQ/t5P/LII5KamiqDBg2yqaSh+7xnzpwpXbt2Nc1Y9erVk3bt2skTTzwhLpfLxpKHzvPu1q2bucfd1LV582bTZHjJJZfYVu5QscSG70peBHqC9u7da/5S0b9kytP99evXV3hPenp6hdfrcVT/8z7Svffea9qMj/yPCNXzvBcuXCivvfaafP/99zaVMrSft37Zzp07VwYMGGC+dDdt2iRDhgwxgV5nokX1Pu8bbrjB3NejRw/zZu3i4mL5v//7P/nHP/5hU6lDR3ol35X6ZvRDhw6ZPlMni5odBKUnn3zSdJqdPn266YyI6pWTkyM33nij6RRep04dp4sTEkpKSkwt2ssvvywdO3aU6667Tu6//3558cUXnS5aUNIOs1pz9q9//UtWrlwpH330kXz66afy6KOPOl00/A7U7Jwg/Qs9IiJCMjIyvI7rfv369Su8R49X5Xqc3PN2e+aZZ0zY+eqrr+SMM87wcUlD83n/8ssv8uuvv5oRF+W/jFVkZKRs2LBBWrRoYUPJQ+fPt47AioqKMve5tWnTxvxfsTbTREdH+7zcofS8H3zwQRPob731VrOvo2lzc3Nl8ODBJmRqMxiqR2XflYmJidVSq6P4t3WC9C8S/b+pOXPmeP3lrvvajl4RPV7+ejV79uxKr8fJPW81fvx4839es2bNkk6dOtlU2tB73jqdwurVq00Tlnvp16+f9O7d22zrMF1U75/v7t27m6Yrd6hUP//8swlBBJ3qf97a5+/IQOMOmrxSsnrZ8l1ZbV2dQ2Toog5FnDp1qhkeN3jwYDN0MT093Zy/8cYbrfvuu89r6HlkZKT1zDPPmKHQY8eOZei5D5/3k08+aYaWfvjhh9auXbs8S05OjoO/RfA+7yMxGsu3z3vbtm1mdOGwYcOsDRs2WJ988omVmppqPfbYYw7+FsH7vPXva33e77zzjhka/eWXX1otWrQwo2xxbPp3rk4BoovGjGeffdZsb9261ZzX56zP+8ih53fffbf5rtQpRBh67jAd/9+4cWPzpapDGZcuXeo516tXL/MXfnnvv/++deqpp5rrdWjdp59+6kCpQ+N5N2nSxPyHdeSif2nBN3++yyPs+P55L1682ExfoV/aOgz98ccfN8P/Uf3Pu6ioyHrooYdMwImNjbUaNWpkDRkyxDpw4IBDpQ8c8+bNq/DvYvfz1bU+7yPvOeuss8y/G/2z/frrr1drmcL0H9VXTwQAAOBf6LMDAACCGmEHAAAENcIOAAAIaoQdAAAQ1Ag7AAAgqBF2AABAUCPsAACAoEbYARA0wsLCZMaMGU4XA4CfIewA8EnoONby0EMPVXqvvmBUr9F3bFW3m266qcLyXHTRRdX+swD4D956DqDa7dq1y7P93nvvyZgxY8yb0N1q1qzpUMnEBJvXX3/d61hMTEyl1xcVFZm3jZf3e98yztvJAWdQswOg2tWvX9+zJCUlmdoT935qaqo8++yz0rBhQxMyzjrrLPOWerdmzZqZ9dlnn23uO//8883+t99+K3/4wx+kTp065jN79eolK1eurHLZ9GeWL58utWrV8pzXnzllyhTzFvf4+Hh5/PHHTU2UlvPVV1815YuNjTXXbtu2Ta644goT3hITE+Xaa6+VjIwMz2dVdh8AexF2ANjq+eefl3/+85/yzDPPyI8//ih9+/Y1wWLjxo3m/PLly836q6++MjVEH330kdnPycmRgQMHysKFC2Xp0qXSqlUrueSSS8zx6qYh5corr5TVq1fLLbfcYo5t2rRJ/vvf/5ryaBNbSUmJCTr79++Xr7/+WmbPni2bN2+W6667zuuzjrwPgAOq9bWiAHAEfXtxUlKSZ79Bgwbmbd3lde7c2bxRWm3ZssW8IXnVqlXH/FyXy2UlJCRYH3/8seeY3jd9+vRK79G3LUdERFjx8fFeS/ny6GeMGDHC676xY8daUVFR1u7duz3HvvzyS/NZ27Zt8xxbs2aNuX/58uWV3gfAfvTZAWCb7Oxs2blzp3Tv3t3ruO7/8MMPx7xXm4ceeOABmT9/vuzevVtcLpfk5eWZpqSq6N27t2mmKi8lJcVrv1OnTkfd16RJE6lbt65nf926ddKoUSOzuLVt21aSk5PNuc6dO1d4HwD7EXYABARtwtq3b59pBtMAoX1vunbtajr9VoX2w2nZsuVxrzmRYyf68wA4iz47AGyjnXgbNGggixYt8jqu+1orotyjlbTm5shrhg8fbvrpnH766Sbs7N27V5zSpk0b2b59u1nc1q5dK5mZmZ7fBYB/oGYHgK3uvvtuGTt2rLRo0cKMVNJh4Npxd9q0aea8jtaKi4szI7R0xJaOYNLRV9oh+T//+Y9pYtLmMP0cva6qCgoKJD093etYZGSkGeVVFX369JH27dvLgAEDZMKECVJcXCxDhgwxo8QqagYD4BxqdgDYSmtnRo0aJXfddZcJCxpqZs6cacKMO3hMnDhRXnrpJVMLpCOe1GuvvSYHDhyQDh06yI033mg+R4NRVenPS0tL81p69OhR5c/RIer/+9//zLD18847z4Sf5s2bm3mFAPiXMO2l7HQhAAAAfIWaHQAAENQIOwAAIKgRdgAAQFAj7AAAgKBG2AEAAEGNsAMAAIIaYQcAAAQ1wg4AAAhqhB0AABDUCDsAACCoEXYAAEBQI+wAAAAJZv8Pafx7427XqYQAAAAASUVORK5CYII=",
      "text/plain": [
       "<Figure size 640x480 with 1 Axes>"
      ]
     },
     "metadata": {},
     "output_type": "display_data"
    }
   ],
   "source": [
    "plt.plot(x,np.e** y) # ??\n",
    "plt.title(\"predictor weight\")\n",
    "plt.xlabel(\"Total Error\")\n",
    "plt.ylabel(\"Alpha\")"
   ]
  },
  {
   "cell_type": "code",
   "execution_count": 90,
   "metadata": {},
   "outputs": [
    {
     "name": "stdout",
     "output_type": "stream",
     "text": [
      "Total Error (r_j): 0.20000000000000004\n",
      "Weight of this stump: 0.13862943611198905\n",
      "\n",
      "New weights: [0.09711192 0.09711192 0.09711192 0.09711192 0.09711192 0.11155231\n",
      " 0.09711192 0.09711192 0.11155231 0.09711192]\n"
     ]
    }
   ],
   "source": [
    "# Step 1: Assign weights to all instances\n",
    "n = 10 # ten datapoints\n",
    "\n",
    "w = np.ones(n)/n  # weight = 1/n for all points \n",
    "\n",
    "\n",
    "## Step 2: Run the data for all variables\n",
    "## Find the Gini Index and select the variable with the smallest Gini Index\n",
    "\n",
    "error = np.zeros_like(w)  # create an array of zeros. 0 means it is correctly classified\n",
    "error[5] = 1\n",
    "error[8] = 1 # two incorrect classifications  \n",
    "\n",
    "\n",
    "## Step 3: Calculate the fraction of the total error (r_j)\n",
    "\n",
    "r = sum(error*w)/sum(w) # should be 2/10\n",
    "\n",
    "print(f\"Total Error (r_j): {r}\")\n",
    "\n",
    "## Step 4: Calculate the predictor weight (alpha_j)\n",
    "lr = 0.1 # learning rate\n",
    "\n",
    "a = lr * np.log((1-r)/r)\n",
    "print(f\"Weight of this stump: {a}\")\n",
    "\n",
    "\n",
    "## Step 5: Find and normalize the new weights\n",
    "w = w * np.exp(a*error) # if it's correct, then it's just multiplying by 1. If incorrect, then we multiply by e^alpha\n",
    "w = w/sum(w)  # normalize\n",
    "print(f\"\\nNew weights: {w}\")\n",
    "\n",
    "# weights 5 and 8 will be weighed a lot more heavily for the next stump\n"
   ]
  },
  {
   "cell_type": "markdown",
   "metadata": {},
   "source": [
    "Continuing the process...\n",
    "- Use weighted Gini index OR Total Gathered Weight to create a new dataset from the weighted data. \n",
    "    - Total Gathered Weight is when you create a distribution of all the datapoints and the higher the weight is, the wider the section for the datapoint is. Datasets with more area or error will be more likely to be selected.\n"
   ]
  },
  {
   "cell_type": "code",
   "execution_count": null,
   "metadata": {},
   "outputs": [],
   "source": []
  }
 ],
 "metadata": {
  "kernelspec": {
   "display_name": "Python 3",
   "language": "python",
   "name": "python3"
  },
  "language_info": {
   "codemirror_mode": {
    "name": "ipython",
    "version": 3
   },
   "file_extension": ".py",
   "mimetype": "text/x-python",
   "name": "python",
   "nbconvert_exporter": "python",
   "pygments_lexer": "ipython3",
   "version": "3.12.9"
  }
 },
 "nbformat": 4,
 "nbformat_minor": 2
}
